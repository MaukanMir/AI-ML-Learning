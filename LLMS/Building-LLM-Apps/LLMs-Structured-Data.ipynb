{
 "cells": [
  {
   "cell_type": "markdown",
   "metadata": {},
   "source": [
    "# Using LLMs with Structured Data"
   ]
  },
  {
   "cell_type": "code",
   "execution_count": null,
   "metadata": {},
   "outputs": [],
   "source": [
    "from langchain.agents import create_sql_agent\n",
    "from langchain.llms import OpenAI\n",
    "from langchain.chat_models import ChatOpenAI\n",
    "from langchain.agents.agent_toolkits import SQLDatabaseToolkit\n",
    "from langchain.sql_database import SQLDatabase\n",
    "from langchain.llms.openai import OpenAI\n",
    "from langchain.agents import AgentExecutor\n",
    "from langchain.agents.agent_types import AgentType\n",
    "from langchain.chat_models import ChatOpenAI\n",
    "llm = OpenAI()\n",
    "db = SQLDatabase.from_uri('sqlite:///chinook.db')\n",
    "toolkit = SQLDatabaseToolkit(db=db, llm=llm)\n",
    "agent_executor = create_sql_agent(\n",
    "    llm=llm,\n",
    "    toolkit=toolkit,\n",
    "    verbose=True,\n",
    "    agent_type=AgentType.ZERO_SHOT_REACT_DESCRIPTION,\n",
    ")\n",
    "\n",
    "[tool.name for tool in toolkit.get_tools()]"
   ]
  },
  {
   "cell_type": "markdown",
   "metadata": {},
   "source": [
    "#### ['sql_db_query', 'sql_db_schema', 'sql_db_list_tables', 'sql_db_query_checker']\n",
    "\n",
    "- sql_db_query: This takes as input a detailed and correct SQL query, and it outputs a result from the database. If the query is not correct, an error message will be returned.\n",
    "- sql_db_schema: This takes as input a comma-separated list of tables, and it outputs the schema and sample rows for those tables.\n",
    "- sql_db_list_tables: This takes as input an empty string, and it outputs a comma-separated list of tables in the database.\n",
    "- sql_db_query_checker: This tool double-checks whether the query is correct before executing it."
   ]
  },
  {
   "cell_type": "code",
   "execution_count": null,
   "metadata": {},
   "outputs": [],
   "source": [
    "agent_executor.run(\"Describe the playlisttrack table\")"
   ]
  },
  {
   "cell_type": "markdown",
   "metadata": {},
   "source": [
    "#### Entering new AgentExecutor chain...\n",
    "- Action: sql_db_list_tables\n",
    "- Action Input:\n",
    "- Observation: album, artist, customer, employee, genre, invoice, invoice_line, media_type, playlist, playlist_track, track\n",
    "- Thought: The table I need is playlist_track\n",
    "- Action: sql_db_schema\n",
    "- Action Input: playlist_track\n",
    "- Observation:\n",
    "- CREATE TABLE playlist_track (\n",
    "- [...]\n",
    "- > Finished chain.\n",
    "#### 'The playlist_track table contains the playlist_id and track_id columns. It has a primary key of playlist_id and track_id. There is also a foreign key reference to the track and playlist tables. Sample rows include (1, 3402), (1, 3389), and (1, 3390).'"
   ]
  },
  {
   "cell_type": "code",
   "execution_count": null,
   "metadata": {},
   "outputs": [],
   "source": [
    "print(agent_executor.agent.llm_chain.prompt.template)"
   ]
  },
  {
   "cell_type": "markdown",
   "metadata": {},
   "source": [
    "#### Thanks to this prompt template, the agent is able to use the proper tools and generate a SQL query, without modifying the underlying database (you can see the explicit rule not to run any data manipulation language (DML) statements).\n",
    "\n",
    "#### DML is a class of SQL statements that are used to query, edit, add, and delete row-level data from database tables or views. The main DML statements are as follows:\n",
    "\n",
    "- SELECT: This is used to retrieve data from one or more tables or views based on specified criteria.\n",
    "- INSERT: This is used to insert new data records or rows into a table.\n",
    "- UPDATE: This is used to modify the values of existing data records or rows in a table.\n",
    "- DELETE: This is used to remove one or more data records or rows from a table.\n",
    "- MERGE: This is used to combine the data from two tables into one based on a common column.\n",
    "- DML statements are used to store, modify, retrieve, delete, and update data in a database.\n",
    "\n",
    "## Prompt engineering\n",
    "\n",
    "#### As we saw in the previous chapter, pre-built LangChain agents and chains come with default prompts, which make it easier to tailor them toward their goals. Nevertheless, we can customize that prompt and pass it as a parameter to our component. For example, let’s say that we want our SQL agent to print the SQL query it used to return the result."
   ]
  }
 ],
 "metadata": {
  "kernelspec": {
   "display_name": "openAI",
   "language": "python",
   "name": "python3"
  },
  "language_info": {
   "name": "python",
   "version": "3.11.11"
  }
 },
 "nbformat": 4,
 "nbformat_minor": 2
}
