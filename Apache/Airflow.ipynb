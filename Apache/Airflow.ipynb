{
 "cells": [
  {
   "cell_type": "markdown",
   "metadata": {},
   "source": [
    "# Apache Airflow"
   ]
  },
  {
   "cell_type": "markdown",
   "metadata": {},
   "source": [
    "### Apache Airflow is an open-source software package for programmatically authoring, scheduling, and monitoring multi-step workflows. It is a general-purpose workflow orchestration tool that can be leveraged to define workflows for a wide range of tasks, including ML tasks. First, let’s explore some core Airflow concepts:\n",
    "\n",
    "\n",
    "- Directed Acyclic Graph (DAG): A DAG defines independent tasks that are executed independently in a pipeline. The sequences of the execution can be visualized like a graph.\n",
    "\n",
    "- Tasks: Tasks are basic units of execution in Airflow. Tasks have dependencies between them during executions.\n",
    "\n",
    "- Operators: Operators are DAG components that describe a single task in the pipeline. An operator implements the task execution logic. Airflow provides a list of operators for common tasks, such as a Python operator for running Python code, or an Amazon S3 operator to interact with the S3 service. Tasks are created when operators are instantiated.\n",
    "\n",
    "- Scheduling: A DAG can run on demand or on a predetermined schedule.\n",
    "\n",
    "- Sensors: Sensors are a special type of operator that are designed to wait for something to occur. They can then help trigger a downstream task to happen.\n"
   ]
  },
  {
   "cell_type": "markdown",
   "metadata": {},
   "source": [
    "## Transforming your data for ML\n",
    "\n",
    "### Data transformation is often necessary to deal with huge amounts of data. Distributed computation frameworks like MapReduce and Apache Spark provide a protocol of data processing and node task distribution and management. They also use algorithms to split datasets into subsets and distribute them across nodes in a compute cluster."
   ]
  },
  {
   "cell_type": "markdown",
   "metadata": {},
   "source": []
  }
 ],
 "metadata": {
  "language_info": {
   "name": "python"
  }
 },
 "nbformat": 4,
 "nbformat_minor": 2
}
