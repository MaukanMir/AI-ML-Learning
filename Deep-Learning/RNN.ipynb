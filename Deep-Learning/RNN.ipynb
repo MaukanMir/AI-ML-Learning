{
 "cells": [
  {
   "cell_type": "markdown",
   "metadata": {},
   "source": [
    "## What Is a Recurrent Neural Network\n",
    "\n",
    "### A recurrent neural network (RNN) is a special type of artificial neural network adapted to work for time series data or data that involves sequences. Ordinary feedforward neural networks are only meant for data points that are independent of each other. However, if we have data in a sequence such that one data point depends upon the previous data point, we need to modify the neural network to incorporate the dependencies between these data points.\n",
    "\n",
    "### RNNS have the concept of memory that helps them store the states or information of previous inputs to generate the next output of the sequence.\n",
    "\n",
    "### RNNs have various advantages, such as:\n",
    "- Ability to handle sequence data.\n",
    "- Ability to handle inputs of varying lengths.\n",
    "- Ability to store or ‘memorize’ historical information."
   ]
  },
  {
   "cell_type": "markdown",
   "metadata": {},
   "source": []
  }
 ],
 "metadata": {
  "language_info": {
   "name": "python"
  }
 },
 "nbformat": 4,
 "nbformat_minor": 2
}
