{
 "cells": [
  {
   "cell_type": "markdown",
   "metadata": {},
   "source": [
    "# BERT"
   ]
  },
  {
   "cell_type": "markdown",
   "metadata": {},
   "source": [
    "# Bi-Directional Encoder Representation from Transformers"
   ]
  },
  {
   "cell_type": "markdown",
   "metadata": {},
   "source": [
    "## Encoder\n",
    "\n",
    "### The encoder understands the context of each word in the sentence using a multi-head attention mechanism (which relates each word to every other words in the sentence)"
   ]
  },
  {
   "cell_type": "markdown",
   "metadata": {},
   "source": [
    "### Bert is an encoder stack\n",
    "\n",
    "### CLS token is a special token specific to BERT, its goal is to represent the entire sequence in one vector. \n",
    "\n",
    "### The CLS token has been pretrained to represent the vector or text\n",
    "\n",
    "### SEP which is short for separator is meant to represent a seperation between two sequences. \n",
    "\n",
    "### 1 Sequence is where the first sequence is for a classification for a text.\n",
    "### 1 and 2 Sequences is for the question and the answer"
   ]
  },
  {
   "cell_type": "markdown",
   "metadata": {},
   "source": []
  }
 ],
 "metadata": {
  "language_info": {
   "name": "python"
  }
 },
 "nbformat": 4,
 "nbformat_minor": 2
}
