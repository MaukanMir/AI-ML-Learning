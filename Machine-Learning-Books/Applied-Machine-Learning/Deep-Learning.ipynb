{
 "cells": [
  {
   "cell_type": "markdown",
   "metadata": {},
   "source": [
    "# Neural Networks"
   ]
  },
  {
   "cell_type": "markdown",
   "metadata": {},
   "source": [
    "#### Neurons perform simple linear transformations on data input to them. For a neuron with a single input x, the neuron’s value y is computed by multiplying x by the weight m assigned to the input and adding b, the neuron’s bias:"
   ]
  },
  {
   "cell_type": "markdown",
   "metadata": {},
   "source": []
  }
 ],
 "metadata": {
  "language_info": {
   "name": "python"
  }
 },
 "nbformat": 4,
 "nbformat_minor": 2
}
