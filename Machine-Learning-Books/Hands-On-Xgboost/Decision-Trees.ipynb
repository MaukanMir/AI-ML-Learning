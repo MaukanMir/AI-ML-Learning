{
 "cells": [
  {
   "cell_type": "markdown",
   "metadata": {},
   "source": [
    "# Decision Trees In Depth"
   ]
  },
  {
   "cell_type": "markdown",
   "metadata": {},
   "source": [
    "## max_depth\n",
    "\n",
    "#### max_depth defines the depth of the tree, determined by the number of times splits are made. By default, there is no limit to max_depth, so there may be hundreds or thousands of splits that result in overfitting. By limiting max_depth to smaller numbers, variance is reduced, and the model generalizes better to new data.\n",
    "\n",
    "## min_samples_leaf\n",
    "\n",
    "#### min_samples_leaf provides a restriction by increasing the number of samples that a leaf may have. As with max_depth, min_samples_leaf is designed to reduce overfitting.\n",
    "#### When there are no restrictions, min_samples_leaf=1 is the default, meaning that leaves may consist of unique samples (prone to overfitting). Increasing min_samples_leaf reduces variance. If min_samples_leaf=8, all leaves must contain eight or more samples.\n",
    "\n",
    "## max_leaf_nodes\n",
    "\n",
    "#### max_leaf_nodes is similar to min_samples_leaf. Instead of specifying the number of samples per leaf, it specifies the total number of leaves. So, max_leaf_nodes=10 means that the model cannot have more than 10 leaves. It could have fewer."
   ]
  }
 ],
 "metadata": {
  "kernelspec": {
   "display_name": "web-scraping",
   "language": "python",
   "name": "python3"
  },
  "language_info": {
   "name": "python",
   "version": "3.9.19"
  }
 },
 "nbformat": 4,
 "nbformat_minor": 2
}
