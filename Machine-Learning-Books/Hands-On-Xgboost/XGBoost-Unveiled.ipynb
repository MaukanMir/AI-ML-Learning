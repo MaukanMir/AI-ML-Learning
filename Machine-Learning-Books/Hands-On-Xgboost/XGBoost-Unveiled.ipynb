{
 "cells": [
  {
   "cell_type": "markdown",
   "metadata": {},
   "source": [
    "# XGBoost Unveiled"
   ]
  },
  {
   "cell_type": "markdown",
   "metadata": {},
   "source": [
    "## The following new design features give XGBoost a big edge in speed over comparable ensemble algorithms:\n",
    "\n",
    "- Approximate split-finding algorithm\n",
    "- Sparsity aware split-finding\n",
    "- Parallel computing\n",
    "- Cache-aware access\n",
    "- Block compression and sharding\n",
    "\n"
   ]
  }
 ],
 "metadata": {
  "language_info": {
   "name": "python"
  }
 },
 "nbformat": 4,
 "nbformat_minor": 2
}
