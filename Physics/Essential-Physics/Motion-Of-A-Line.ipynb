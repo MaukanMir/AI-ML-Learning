{
 "cells": [
  {
   "cell_type": "markdown",
   "metadata": {},
   "source": [
    "# Motion Of A Straight Line"
   ]
  },
  {
   "cell_type": "markdown",
   "metadata": {},
   "source": [
    "##### Average speed savg is a different way of describing “how fast” a particle moves. Whereas the average velocity involves the particle’s displacement Δx, the average speed involves the total distance covered (for example, the number of meters moved), independent of direction; that is,\n",
    "\n",
    "- savg = total distance/ change in t\n",
    "\n",
    "#### Because average speed does not include direction, it lacks any algebraic sign. Sometimes savg is the same (except for the absence of a sign) as νavg. \n",
    "\n",
    "#### The Key Idea here is that your average speed is the ratio of the total distance you move to the total time interval you take to make that move."
   ]
  },
  {
   "cell_type": "markdown",
   "metadata": {},
   "source": [
    "## Instantaneous Velocity and Speed\n",
    "\n",
    "#### You have now seen two ways to describe how fast something moves: average velocity and average speed, both of which are measured over a time interval Δt. However, the phrase “how fast” more commonly refers to how fast a particle is moving at a given instant—its instantaneous velocity (or simply velocity) ν.\n",
    "\n",
    "#### The velocity at any instant is obtained from the average velocity by shrinking the time interval Δt closer and closer to 0. As Δt dwindles, the average velocity approaches a limiting value, which is the velocity at that instant:\n",
    "\n",
    "- v = lim change in t -> 0 (change x/ change in t) = dx/ dt\n",
    "\n",
    "#### This equation displays two features of the instantaneous velocity ν. First, ν is the rate at which the particle’s position x is changing with time at a given instant; that is, ν is the derivative of x with respect to t. Second, ν at any instant is the slope of the particle’s position–time curve at the point representing that instant. Velocity is another vector quantity and thus has an associated direction.\n",
    "\n",
    "#### Speed is the magnitude of velocity; that is, speed is velocity that has been stripped of any indication of direction, either in words or via an algebraic sign. (Caution: Speed and average speed can be quite different.) A velocity of +5 m/s and one of −5 m/s both have an associated speed of 5 m/s. The speedometer in a car measures speed, not velocity (it cannot determine the direction)."
   ]
  },
  {
   "cell_type": "code",
   "execution_count": 6,
   "metadata": {},
   "outputs": [
    {
     "name": "stdout",
     "output_type": "stream",
     "text": [
      "9.2 - 6.3*x**2\n"
     ]
    }
   ],
   "source": [
    "import sympy as sp\n",
    "\n",
    "x = sp.symbols(\"x\")\n",
    "\n",
    "f = 7.8 + 9.2*x - 2.1*x**3\n",
    "\n",
    "derivative_f = sp.diff(f, x)\n",
    "print(derivative_f)"
   ]
  },
  {
   "cell_type": "code",
   "execution_count": 4,
   "metadata": {},
   "outputs": [
    {
     "data": {
      "text/latex": [
       "$\\displaystyle -67.975$"
      ],
      "text/plain": [
       "-67.9750000000000"
      ]
     },
     "execution_count": 4,
     "metadata": {},
     "output_type": "execute_result"
    }
   ],
   "source": [
    "derivative_f.subs(x, 3.5)"
   ]
  },
  {
   "cell_type": "markdown",
   "metadata": {},
   "source": [
    "#### At t = 3.5 s, the particle is moving in the negative direction of x (note the minus sign) with a speed of 68 m/s. Since the quantity t appears in Eq. 2-6, the velocity ν depends on t and so is continuously changing."
   ]
  },
  {
   "cell_type": "markdown",
   "metadata": {},
   "source": [
    "## Acceleration\n",
    "#### When a particle’s velocity changes, the particle is said to undergo acceleration (or to accelerate). For motion along an axis, the average acceleration aavg over a time interval Δt is\n",
    "\n",
    "- a avg = v2- v1 / t2-t1 = change in v/ change in t\n",
    "\n",
    "#### where the particle has velocity ν1 at time t1 and then velocity ν2 at time t2. The instantaneous acceleration (or simply acceleration) is the derivative of the velocity with respect to time:\n",
    "- a = dv/dt\n",
    "\n",
    "#### In words, the acceleration of a particle at any instant is the rate at which its velocity is changing at that instant. Graphically, the acceleration at any point is the slope of the curve of ν(t) at that point.\n",
    "- a = dv/dt = d/dt (dx/dt) = d^2x/dt^2\n",
    "\n",
    "#### In words, the acceleration of a particle at any instant is the second derivative of its position x(t) with respect to time.\n",
    "\n",
    "#### A common unit of acceleration is the meter per second per second: m/(s · s) or m/s2. You will see other units in the problems, but they will each be in the form of length/(time · time) or length/time2. Acceleration has both magnitude and direction (it is yet another vector quantity). Its algebraic sign represents its direction on an axis just as for displacement and velocity; that is, acceleration with a positive value is in the positive direction of an axis, and acceleration with a negative value is in the negative direction.\n",
    "\n",
    "#### In words, the acceleration of a particle at any instant is the second derivative of its position x(t) with respect to time.\n",
    "\n",
    "#### If the signs of the velocity and acceleration of a particle are the same, the speed of the particle increases. If the signs are opposite, the speed decreases."
   ]
  },
  {
   "cell_type": "code",
   "execution_count": 18,
   "metadata": {},
   "outputs": [
    {
     "name": "stdout",
     "output_type": "stream",
     "text": [
      "The Velocity is 3*x**2 - 27\n",
      " The Acceleration is: 6*x\n"
     ]
    }
   ],
   "source": [
    "import sympy as sp\n",
    "\n",
    "x = sp.symbols(\"x\")\n",
    "\n",
    "f = 4 -27*x + x**3\n",
    "\n",
    "f_vel = f.diff(x) # -27 + 3x^2\n",
    "\n",
    "f_acc = f_vel.diff(x) # 6x\n",
    "\n",
    "print(f\"The Velocity is {f_vel}\\n The Acceleration is: {f_acc}\")"
   ]
  },
  {
   "cell_type": "code",
   "execution_count": 19,
   "metadata": {},
   "outputs": [
    {
     "data": {
      "text/plain": [
       "[-3, 3]"
      ]
     },
     "execution_count": 19,
     "metadata": {},
     "output_type": "execute_result"
    }
   ],
   "source": [
    "sp.solve(f_vel, x) "
   ]
  },
  {
   "cell_type": "code",
   "execution_count": 24,
   "metadata": {},
   "outputs": [
    {
     "data": {
      "text/latex": [
       "$\\displaystyle 4$"
      ],
      "text/plain": [
       "4"
      ]
     },
     "execution_count": 24,
     "metadata": {},
     "output_type": "execute_result"
    }
   ],
   "source": [
    "f.subs(x, 0)"
   ]
  },
  {
   "cell_type": "code",
   "execution_count": 17,
   "metadata": {},
   "outputs": [
    {
     "data": {
      "text/plain": [
       "[0]"
      ]
     },
     "execution_count": 17,
     "metadata": {},
     "output_type": "execute_result"
    }
   ],
   "source": [
    "sp.solve(f_acc, x)"
   ]
  },
  {
   "cell_type": "markdown",
   "metadata": {},
   "source": [
    "## (c) Describe the particle’s motion for t ≥ 0.\n",
    "\n",
    "#### At t = 0, the particle is at x(0) = +4 m and is moving with a velocity of ν(0) =−27 m/s—that is, in the negative direction of the x axis. Its acceleration is a(0) = 0 because just then the particle’s velocity is not changing."
   ]
  },
  {
   "cell_type": "code",
   "execution_count": 25,
   "metadata": {},
   "outputs": [
    {
     "data": {
      "text/latex": [
       "$\\displaystyle -50$"
      ],
      "text/plain": [
       "-50"
      ]
     },
     "execution_count": 25,
     "metadata": {},
     "output_type": "execute_result"
    }
   ],
   "source": [
    "f.subs(x, 3)"
   ]
  },
  {
   "cell_type": "markdown",
   "metadata": {},
   "source": [
    "### Kinematic Equation Explanation\n",
    "\n",
    "The equation:\n",
    "\n",
    "\\[ v^2 = v_0^2 + 2a(x - x_0) \\]\n",
    "\n",
    "is one of the fundamental kinematic equations used in physics to describe the motion of an object under constant acceleration. Here's what each symbol represents:\n",
    "\n",
    "- \\( v \\): Final velocity of the object.\n",
    "- \\( v_0 \\): Initial velocity of the object.\n",
    "- \\( a \\): Constant acceleration.\n",
    "- \\( x \\): Final position of the object.\n",
    "- \\( x_0 \\): Initial position of the object.\n",
    "\n",
    "**Purpose:**\n",
    "This equation relates the velocity of an object to its displacement when it is subjected to constant acceleration. It allows you to find the final velocity of an object if you know its initial velocity, the acceleration, and the disp\n"
   ]
  },
  {
   "cell_type": "markdown",
   "metadata": {},
   "source": [
    "### Kinematic Equation for Displacement with Uniform Acceleration\n",
    "\n",
    "The equation:\n",
    "\n",
    "\\[ x - x_0 = \\frac{1}{2}(v_0 + v)t \\]\n",
    "\n",
    "is used to calculate the displacement of an object moving with uniform acceleration. Here's what each term represents:\n",
    "\n",
    "- \\( x \\): Final position of the object.\n",
    "- \\( x_0 \\): Initial position of the object.\n",
    "- \\( v_0 \\): Initial velocity of the object.\n",
    "- \\( v \\): Final velocity of the object.\n",
    "- \\( t \\): Time over which the motion occurs.\n",
    "\n",
    "**Purpose:**\n",
    "This equation is derived from the definition of average velocity when acceleration is constant. It states that the displacement (\\( x - x_0 \\)) is equal to the average of the initial and final velocities (\\( \\frac{v_0 + v}{2} \\)), multiplied by the time elapsed (\\( t \\)).\n",
    "\n",
    "**Use Case:**\n",
    "Useful for situations where you need to find the displacement based on initial and final velocities over a known time period, typical in physics problems involving uniformly accelerated motion."
   ]
  },
  {
   "cell_type": "markdown",
   "metadata": {},
   "source": [
    "### Kinematic Equation for Displacement with Initial Velocity and Acceleration\n",
    "\n",
    "The equation:\n",
    "\n",
    "\\[ x - x_0 = vt - \\frac{1}{2}at^2 \\]\n",
    "\n",
    "is crucial for describing the motion of an object under uniform acceleration when it starts with a non-zero initial velocity. Here's the meaning of each term:\n",
    "\n",
    "- \\( x \\): Final position of the object.\n",
    "- \\( x_0 \\): Initial position of the object.\n",
    "- \\( v \\): Initial velocity of the object.\n",
    "- \\( a \\): Constant acceleration.\n",
    "- \\( t \\): Time over which the motion occurs.\n",
    "\n",
    "**Purpose:**\n",
    "This equation calculates the displacement (\\( x - x_0 \\)) of the object after a time \\( t \\), starting from an initial velocity \\( v \\) and under a constant acceleration \\( a \\). The term \\(-\\frac{1}{2}at^2\\) represents the adjustment in displacement due to the acceleration effect over time.\n",
    "\n",
    "**Use Case:**\n",
    "This formula is especially useful in scenarios where an object moves from a specific point with an initial speed and experiences acceleration or deceleration, such as a car starting to move and then speeding up or slowing down uniformly.\n"
   ]
  },
  {
   "cell_type": "markdown",
   "metadata": {},
   "source": [
    "### Conversion Formula from km/h to m/s\n",
    "\n",
    "To convert a speed from kilometers per hour (km/h) to meters per second (m/s), use the following conversion factor:\n",
    "\n",
    "\\[ 1 \\, \\text{km/h} = \\frac{1000 \\, \\text{meters}}{3600 \\, \\text{seconds}} \\]\n",
    "\n",
    "This simplifies to approximately:\n",
    "\n",
    "\\[ 1 \\, \\text{km/h} \\approx 0.27778 \\, \\text{m/s} \\]\n",
    "\n",
    "**Example Conversion:**\n",
    "- To convert 100 km/h to m/s:\n",
    "  \\[ 100 \\, \\text{km/h} = 100 \\times 0.27778 \\, \\text{m/s} = 27.78 \\, \\text{m/s} \\]\n"
   ]
  }
 ],
 "metadata": {
  "kernelspec": {
   "display_name": "machine-learning-env",
   "language": "python",
   "name": "python3"
  },
  "language_info": {
   "codemirror_mode": {
    "name": "ipython",
    "version": 3
   },
   "file_extension": ".py",
   "mimetype": "text/x-python",
   "name": "python",
   "nbconvert_exporter": "python",
   "pygments_lexer": "ipython3",
   "version": "3.9.19"
  }
 },
 "nbformat": 4,
 "nbformat_minor": 2
}
