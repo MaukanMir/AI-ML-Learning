{
 "cells": [
  {
   "cell_type": "markdown",
   "metadata": {},
   "source": [
    "# Motion Of A Straight Line"
   ]
  },
  {
   "cell_type": "markdown",
   "metadata": {},
   "source": [
    "##### Average speed savg is a different way of describing “how fast” a particle moves. Whereas the average velocity involves the particle’s displacement Δx, the average speed involves the total distance covered (for example, the number of meters moved), independent of direction; that is,\n",
    "\n",
    "- savg = total distance/ change in t\n",
    "\n",
    "#### Because average speed does not include direction, it lacks any algebraic sign. Sometimes savg is the same (except for the absence of a sign) as νavg. \n",
    "\n",
    "#### The Key Idea here is that your average speed is the ratio of the total distance you move to the total time interval you take to make that move."
   ]
  },
  {
   "cell_type": "markdown",
   "metadata": {},
   "source": [
    "## Instantaneous Velocity and Speed\n",
    "\n",
    "#### You have now seen two ways to describe how fast something moves: average velocity and average speed, both of which are measured over a time interval Δt. However, the phrase “how fast” more commonly refers to how fast a particle is moving at a given instant—its instantaneous velocity (or simply velocity) ν.\n",
    "\n",
    "#### The velocity at any instant is obtained from the average velocity by shrinking the time interval Δt closer and closer to 0. As Δt dwindles, the average velocity approaches a limiting value, which is the velocity at that instant:\n",
    "\n",
    "- v = lim change in t -> 0 (change x/ change in t) = dx/ dt\n",
    "\n",
    "#### This equation displays two features of the instantaneous velocity ν. First, ν is the rate at which the particle’s position x is changing with time at a given instant; that is, ν is the derivative of x with respect to t. Second, ν at any instant is the slope of the particle’s position–time curve at the point representing that instant. Velocity is another vector quantity and thus has an associated direction.\n",
    "\n",
    "#### Speed is the magnitude of velocity; that is, speed is velocity that has been stripped of any indication of direction, either in words or via an algebraic sign. (Caution: Speed and average speed can be quite different.) A velocity of +5 m/s and one of −5 m/s both have an associated speed of 5 m/s. The speedometer in a car measures speed, not velocity (it cannot determine the direction)."
   ]
  },
  {
   "cell_type": "code",
   "execution_count": 3,
   "metadata": {},
   "outputs": [
    {
     "name": "stdout",
     "output_type": "stream",
     "text": [
      "9.2 - 6.3*x**2\n"
     ]
    }
   ],
   "source": [
    "import sympy as sp\n",
    "\n",
    "x = sp.symbols(\"x\")\n",
    "\n",
    "f = 7.8 + 9.2*x - 2.1*x**3\n",
    "\n",
    "derivative_f = sp.diff(f, x)\n",
    "print(derivative_f)"
   ]
  },
  {
   "cell_type": "code",
   "execution_count": 4,
   "metadata": {},
   "outputs": [
    {
     "data": {
      "text/latex": [
       "$\\displaystyle -67.975$"
      ],
      "text/plain": [
       "-67.9750000000000"
      ]
     },
     "execution_count": 4,
     "metadata": {},
     "output_type": "execute_result"
    }
   ],
   "source": [
    "derivative_f.subs(x, 3.5)"
   ]
  },
  {
   "cell_type": "markdown",
   "metadata": {},
   "source": [
    "#### At t = 3.5 s, the particle is moving in the negative direction of x (note the minus sign) with a speed of 68 m/s. Since the quantity t appears in Eq. 2-6, the velocity ν depends on t and so is continuously changing."
   ]
  },
  {
   "cell_type": "markdown",
   "metadata": {},
   "source": []
  }
 ],
 "metadata": {
  "kernelspec": {
   "display_name": "machine-learning-env",
   "language": "python",
   "name": "python3"
  },
  "language_info": {
   "codemirror_mode": {
    "name": "ipython",
    "version": 3
   },
   "file_extension": ".py",
   "mimetype": "text/x-python",
   "name": "python",
   "nbconvert_exporter": "python",
   "pygments_lexer": "ipython3",
   "version": "3.9.19"
  }
 },
 "nbformat": 4,
 "nbformat_minor": 2
}
