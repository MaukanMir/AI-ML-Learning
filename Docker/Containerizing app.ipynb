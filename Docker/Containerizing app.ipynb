{
 "cells": [
  {
   "cell_type": "markdown",
   "metadata": {},
   "source": [
    "# Containerizing an app"
   ]
  },
  {
   "cell_type": "markdown",
   "metadata": {},
   "source": [
    "#### Docker is all about making it easy to take application source code and get it running in a container. This process is called containerization.\n",
    "\n",
    "#### Containers are all about making apps simple to build, ship, and run. The end-to-end process looks like this:\n",
    "\n",
    "- Start with your application code and dependencies\n",
    "- Create a Dockerfile that describes your app, dependencies, and how to run it\n",
    "- Build it into an image by passing the Dockerfile to the docker build command\n",
    "- Push the new image to a registry (optional)\n",
    "- Run a container from the image"
   ]
  },
  {
   "cell_type": "markdown",
   "metadata": {},
   "source": [
    "![Sample Image](/Users/maukanmir/Documents/Machine-Learning/AI-ML-Textbooks/AI-ML-Learning/images/figure8-1.png)"
   ]
  },
  {
   "cell_type": "markdown",
   "metadata": {},
   "source": []
  }
 ],
 "metadata": {
  "language_info": {
   "name": "python"
  }
 },
 "nbformat": 4,
 "nbformat_minor": 2
}
