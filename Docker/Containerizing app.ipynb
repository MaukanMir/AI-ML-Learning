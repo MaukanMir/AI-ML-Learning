{
 "cells": [
  {
   "cell_type": "markdown",
   "metadata": {},
   "source": [
    "# Containerizing an app"
   ]
  },
  {
   "cell_type": "markdown",
   "metadata": {},
   "source": [
    "#### Docker is all about making it easy to take application source code and get it running in a container. This process is called containerization.\n",
    "\n",
    "#### Containers are all about making apps simple to build, ship, and run. The end-to-end process looks like this:\n",
    "\n",
    "- Start with your application code and dependencies\n",
    "- Create a Dockerfile that describes your app, dependencies, and how to run it\n",
    "- Build it into an image by passing the Dockerfile to the docker build command\n",
    "- Push the new image to a registry (optional)\n",
    "- Run a container from the image"
   ]
  },
  {
   "cell_type": "markdown",
   "metadata": {},
   "source": [
    "![Sample Image](/Users/maukanmir/Documents/Machine-Learning/AI-ML-Textbooks/AI-ML-Learning/images/figure8-1.png)"
   ]
  },
  {
   "cell_type": "markdown",
   "metadata": {},
   "source": [
    "- cat Dockerfile\n",
    "\n",
    "- FROM alpine\n",
    "- LABEL maintainer=\"nigelpoulton@hotmail.com\"\n",
    "- RUN apk add --update nodejs npm\n",
    "- COPY . /src\n",
    "- WORKDIR /src\n",
    "- RUN npm install\n",
    "- EXPOSE 8080\n",
    "- ENTRYPOINT [\"node\", \"./app.js\"]\n",
    "\n",
    "#### At a high-level, the example Dockerfile says: Start with the alpine image, make a note that “nigelpoulton@hotmail.com” is the maintainer, install Node.js and NPM, copy everything in the build context to the /src directory in the image, set the working directory as /src, install dependencies, document the app’s network port, and set app.js as the default application to run.\n",
    "\n",
    "#### Dockerfiles normally start with the FROM instruction. This pulls an image that will be used as the base layer for the image the Dockerfile will build – everything else will be added as new layers above this base layer. The app being defined in this Dockerfile is a Linux app, so it’s important that the FROM instruction refers to a Linux-based image. If you’re containerizing a Windows application, you’ll need to specify an appropriate Windows base image.\n",
    "\n",
    "#### Next, the Dockerfile creates a LABEL that specifies “nigelpoulton@hotmail.com” as the maintainer of the image. Labels are optional key-value pairs and are a good way of adding custom metadata. It’s considered a best practice to list a maintainer so that other users have a point of contact to report problems etc.\n",
    "\n",
    "#### The RUN apk add --update nodejs nodejs-npm instruction uses the apk package manager to install nodejs and nodejs-npm into the image. It does this by adding a new layer and installing the packages to this layer.\n",
    "\n",
    "#### The COPY . /src instruction creates another new layer and copies in the application and dependency files from the build context.\n",
    "\n",
    "#### Next, the Dockerfile uses the WORKDIR instruction to set the working directory for the rest of the instructions. This creates metadata and does not create a new image layer.\n",
    "\n",
    "#### The RUN npm install instruction runs within the context of the WORKDIR set in the previous instruction, and installs the dependencies listed in package.json into another new layer. At this point in the Dockerfile the image has four layers as shown in Figure 8.5.\n",
    "\n",
    "![Sample Image](/Users/maukanmir/Documents/Machine-Learning/AI-ML-Textbooks/AI-ML-Learning/images/figure8-5.png)"
   ]
  },
  {
   "cell_type": "markdown",
   "metadata": {},
   "source": []
  }
 ],
 "metadata": {
  "language_info": {
   "name": "python"
  }
 },
 "nbformat": 4,
 "nbformat_minor": 2
}
