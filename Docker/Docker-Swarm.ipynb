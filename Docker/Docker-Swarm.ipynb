{
 "cells": [
  {
   "cell_type": "markdown",
   "metadata": {},
   "source": [
    "# Docker Swarm"
   ]
  },
  {
   "cell_type": "markdown",
   "metadata": {},
   "source": [
    "## Docker Swarm is two things:\n",
    "\n",
    "- An enterprise-grade secure cluster of Docker hosts\n",
    "- An orchestrator of microservices apps\n",
    "\n",
    "#### On the clustering front, Swarm groups one or more Docker nodes and lets you manage them as a cluster. Out-of-the-box, you get an encrypted distributed cluster store, encrypted networks, mutual TLS, secure cluster join tokens, and a PKI that makes managing and rotating certificates a breeze. You can even non-disruptively add and remove nodes. It’s a beautiful thing.\n",
    "\n",
    "## Swarm primer\n",
    "#### On the clustering front, a swarm consists of one or more Docker nodes. These nodes can be physical servers, VMs, Raspberry Pi’s, or cloud instances. The only requirement is that they all have Docker installed and can communicate over reliable networks.\n",
    "\n",
    "#### Nodes are configured as managers or workers. Managers look after the control plane, meaning things like the state of the cluster and dispatching tasks to workers. Workers accept tasks from managers and execute them.\n",
    "#### On the orchestration front, the atomic unit of scheduling on a swarm is the service. This is a high-level construct that wraps some advanced features around containers. These features include scaling, rolling updates, and simple rollbacks. It’s useful to think of a service as an enhanced container."
   ]
  },
  {
   "cell_type": "markdown",
   "metadata": {},
   "source": [
    "#### Terminology: Services deploy containers, and we often call these containers replicas. For example, a service that deploys three replicas will deploy three identical containers.\n",
    "#### This mode of publishing a port on every node in the swarm — even nodes not running service replicas — is called ingress mode and is the default. The alternative mode is host mode which only publishes the service on swarm nodes running replicas."
   ]
  }
 ],
 "metadata": {
  "language_info": {
   "name": "python"
  }
 },
 "nbformat": 4,
 "nbformat_minor": 2
}
