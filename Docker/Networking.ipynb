{
 "cells": [
  {
   "cell_type": "markdown",
   "metadata": {},
   "source": [
    "# Networking"
   ]
  },
  {
   "cell_type": "markdown",
   "metadata": {},
   "source": [
    "#### The CNM is the design specification and outlines the fundamental building blocks of a Docker network.\n",
    "\n",
    "#### Libnetwork is a real-world implementation of the CNM. It’s open-sourced as part of the Moby project and used by Docker and other projects.\n",
    "\n",
    "#### Drivers extend the model by implementing specific network topologies such as VXLAN overlay networks."
   ]
  },
  {
   "cell_type": "markdown",
   "metadata": {},
   "source": [
    "#### A sandbox is an isolated network stack in a container. It includes Ethernet interfaces, ports, routing tables, and DNS config.\n",
    "#### Endpoints are virtual network interfaces (E.g. veth). Like normal network interfaces, these are responsible for making connections. For example, endpoints to connect sandboxes to networks.\n",
    "#### Networks are a software implementation of a switch (802.1d bridge). As such, they group together and isolate a collection of endpoints that need to communicate.\n",
    "\n",
    "#### The atomic unit of scheduling on Docker is the container, and as the name suggests, the Container Network Model is all about providing networking for containers. Figure 11.3 shows how CNM components relate to containers — sandboxes are placed inside of containers to provide network connectivity.\n",
    "\n",
    "#### Container A has a single interface (endpoint) and is connected to Network A. Container B has two interfaces (endpoints) and is connected to Network A and Network B. The two containers can communicate because they are both connected to Network A. However, the two endpoints in Container B cannot communicate with each other without the assistance of a layer 3 router.\n",
    "\n",
    "#### It’s also important to understand that endpoints behave like regular network adapters, meaning they can only be connected to a single network. Therefore, a container needing to connect to multiple networks will need multiple endpoints."
   ]
  },
  {
   "cell_type": "markdown",
   "metadata": {},
   "source": [
    "#### Port mappings let you map a container to a port on the Docker host. Any traffic hitting the Docker host on the configured port will be re-directed to the container. The high-level flow is shown in Figure 11.10\n",
    "\n",
    "#### In the diagram, the application running in the container is operating on port 80. This is mapped to port 5001 on the host’s 10.0.0.15 interface. The result is all traffic hitting the host on 10.0.0.15:5001 being redirected to the container on port 80.\n",
    "\n"
   ]
  }
 ],
 "metadata": {
  "language_info": {
   "name": "python"
  }
 },
 "nbformat": 4,
 "nbformat_minor": 2
}
