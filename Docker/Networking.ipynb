{
 "cells": [
  {
   "cell_type": "markdown",
   "metadata": {},
   "source": [
    "# Networking"
   ]
  },
  {
   "cell_type": "markdown",
   "metadata": {},
   "source": [
    "#### The CNM is the design specification and outlines the fundamental building blocks of a Docker network.\n",
    "\n",
    "#### Libnetwork is a real-world implementation of the CNM. It’s open-sourced as part of the Moby project and used by Docker and other projects.\n",
    "\n",
    "#### Drivers extend the model by implementing specific network topologies such as VXLAN overlay networks."
   ]
  },
  {
   "cell_type": "markdown",
   "metadata": {},
   "source": []
  }
 ],
 "metadata": {
  "language_info": {
   "name": "python"
  }
 },
 "nbformat": 4,
 "nbformat_minor": 2
}
