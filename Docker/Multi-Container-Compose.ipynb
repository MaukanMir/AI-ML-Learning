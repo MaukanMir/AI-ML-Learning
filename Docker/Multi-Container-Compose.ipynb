{
 "cells": [
  {
   "cell_type": "markdown",
   "metadata": {},
   "source": [
    "# Multi-container apps with Compose"
   ]
  },
  {
   "cell_type": "markdown",
   "metadata": {},
   "source": [
    "#### Instead of gluing microservices together with scripts and long docker commands, Compose lets you describe everything in a declarative configuration file. You can use this file to deploy it and manage it.\n",
    "\n",
    "#### Once the app is deployed, you can manage its entire lifecycle with a simple set of commands. You can even store and manage the configuration file in a version control system.\n",
    "\n",
    "## Compose files\n",
    "\n",
    "#### Compose uses YAML files to define microservices applications.\n",
    "#### The default name for a Compose YAML file is compose.yaml. However, it also accepts compose.yml and you can use the -f flag to specify custom filenames."
   ]
  },
  {
   "cell_type": "markdown",
   "metadata": {},
   "source": [
    "## The services section has two second-level keys:\n",
    "\n",
    "- web-fe\n",
    "- redis\n",
    "\n",
    "#### Each of these defines a microservice. It’s important to know that Compose will deploy each of these as its own container and will use the name of the keys in the container names. In our example, we’ve defined two keys: web-fe and redis. This means Compose will deploy two containers, one will have web-fe in its name and the other will have redis.\n",
    "\n",
    "#### ports: The example in our Compose file tells Docker to map port 8080 inside the container (target) to port 5001 on the host (published). This means traffic hitting the Docker host on port 5001 will be directed to port 8080 on the container. The app inside the container listens on port 8080.\n",
    "\n",
    "#### networks: Tells Docker which network to attach the service’s containers to. The network should already exist or be defined in the networks top-level key. If it’s an overlay network, it will need to have the attachable flag so that standalone containers can be attached to it (Compose deploys standalone containers instead of Docker Services).\n",
    "\n",
    "#### volumes: Tells Docker to mount the counter-vol volume (source:) to /app (target:) inside the container. The counter-vol volume needs to already exist or be defined in the volumes top-level key in the file."
   ]
  },
  {
   "cell_type": "markdown",
   "metadata": {},
   "source": []
  }
 ],
 "metadata": {
  "language_info": {
   "name": "python"
  }
 },
 "nbformat": 4,
 "nbformat_minor": 2
}
