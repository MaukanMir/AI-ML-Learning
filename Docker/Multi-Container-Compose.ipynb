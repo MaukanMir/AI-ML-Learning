{
 "cells": [
  {
   "cell_type": "markdown",
   "metadata": {},
   "source": [
    "# Multi-container apps with Compose"
   ]
  },
  {
   "cell_type": "markdown",
   "metadata": {},
   "source": [
    "#### Instead of gluing microservices together with scripts and long docker commands, Compose lets you describe everything in a declarative configuration file. You can use this file to deploy it and manage it.\n",
    "\n",
    "#### Once the app is deployed, you can manage its entire lifecycle with a simple set of commands. You can even store and manage the configuration file in a version control system.\n",
    "\n",
    "## Compose files\n",
    "\n",
    "#### Compose uses YAML files to define microservices applications.\n",
    "#### The default name for a Compose YAML file is compose.yaml. However, it also accepts compose.yml and you can use the -f flag to specify custom filenames."
   ]
  },
  {
   "cell_type": "markdown",
   "metadata": {},
   "source": [
    "## The services section has two second-level keys:\n",
    "\n",
    "- web-fe\n",
    "- redis\n",
    "\n",
    "#### Each of these defines a microservice. It’s important to know that Compose will deploy each of these as its own container and will use the name of the keys in the container names. In our example, we’ve defined two keys: web-fe and redis. This means Compose will deploy two containers, one will have web-fe in its name and the other will have redis.\n",
    "\n",
    "#### ports: The example in our Compose file tells Docker to map port 8080 inside the container (target) to port 5001 on the host (published). This means traffic hitting the Docker host on port 5001 will be directed to port 8080 on the container. The app inside the container listens on port 8080.\n",
    "\n",
    "#### networks: Tells Docker which network to attach the service’s containers to. The network should already exist or be defined in the networks top-level key. If it’s an overlay network, it will need to have the attachable flag so that standalone containers can be attached to it (Compose deploys standalone containers instead of Docker Services).\n",
    "\n",
    "#### volumes: Tells Docker to mount the counter-vol volume (source:) to /app (target:) inside the container. The counter-vol volume needs to already exist or be defined in the volumes top-level key in the file."
   ]
  },
  {
   "cell_type": "markdown",
   "metadata": {},
   "source": [
    "#### docker compose up is the most common way to bring up a Compose app. It builds or pulls all required images, creates all required networks and volumes, and starts all required containers."
   ]
  },
  {
   "cell_type": "markdown",
   "metadata": {},
   "source": [
    "## Deploying apps with Compose - The commands\n",
    "\n",
    "- docker compose up is the command to deploy a Compose app. It creates all images, containers, networks and volumes needed by the app. It expects the Compose file to be called compose.yaml but you can specify a custom filename with the -f flag. It’s common to start the app in the background with the --detach flag.\n",
    "- docker compose stop will stop all containers in a Compose app without deleting them from the system. They can be easily restarted with docker compose restart.\n",
    "- docker compose rm will delete a stopped Compose app. It will delete containers and networks, but it won’t delete volumes and images by default.\n",
    "- docker compose restart will restart a Compose app that has been stopped with docker compose stop. If you make changes to your Compose app while it’s stopped, these changes will not appear in the restarted app. You need to re-deploy the app to get the changes.\n",
    "- docker compose ps lists each container in the Compose app. It shows current state, the command running inside each container, and network ports.\n",
    "- docker compose down will stop and delete a running Compose app. It deletes containers and networks, but not volumes and images."
   ]
  },
  {
   "cell_type": "markdown",
   "metadata": {},
   "source": []
  }
 ],
 "metadata": {
  "language_info": {
   "name": "python"
  }
 },
 "nbformat": 4,
 "nbformat_minor": 2
}
