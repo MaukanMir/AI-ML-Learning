{
 "cells": [
  {
   "cell_type": "markdown",
   "metadata": {},
   "source": [
    "# EDA Analysis"
   ]
  },
  {
   "cell_type": "markdown",
   "metadata": {},
   "source": [
    "## The EDA process consists of the following steps:\n",
    "\n",
    "- Importing relevant datasets (extraction from the overall data)\n",
    "\n",
    "- Understanding the data structure and statistics\n",
    "\n",
    "- Cleaning and sanitizing\n",
    "\n",
    "- Transforming (generating derived features)\n",
    "\n",
    "- Feature analysis\n",
    "\n",
    "- Cross-feature relationships and correlation analysis\n",
    "\n",
    "- Prototyping a model and evaluating feature importance"
   ]
  },
  {
   "cell_type": "markdown",
   "metadata": {},
   "source": []
  }
 ],
 "metadata": {
  "language_info": {
   "name": "python"
  }
 },
 "nbformat": 4,
 "nbformat_minor": 2
}
