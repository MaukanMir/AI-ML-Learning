{
 "cells": [
  {
   "cell_type": "markdown",
   "metadata": {},
   "source": [
    "# Feature Stores"
   ]
  },
  {
   "cell_type": "markdown",
   "metadata": {},
   "source": [
    "### A feature store provides a single pane of glass for sharing all available features across the organization along with their metadata. When data scientists start a new project, they can access this catalog and easily find features. But a feature store is not just a data layer; it is also a data transformation service enabling users to manipulate raw data and store it as features ready to be used for offline (training) and online (serving), without duplicating the work. In addition, some feature stores support strong security, versioning, and data snapshots, enabling better data lineage, compliance, and manageability."
   ]
  },
  {
   "cell_type": "markdown",
   "metadata": {},
   "source": [
    "## Here are some major benefits of a feature store:\n",
    "\n",
    "- Faster development with far fewer engineering resources\n",
    "\n",
    "- Smooth migration from development to production\n",
    "\n",
    "- Increased model accuracy (same pipeline for online and offline)\n",
    "\n",
    "- Better collaboration and security across teams\n",
    "\n",
    "- Ability to track lineage and address regulatory compliance"
   ]
  },
  {
   "cell_type": "markdown",
   "metadata": {},
   "source": [
    "### Feature stores are a factory and central repository for machine learning features. Feature stores handle the collection of raw data from various sources, the transformation pipeline, storage, cataloging, versioning, security, serving, and monitoring. They automate many processes described in this chapter, while accelerating production time and reducing engineering efforts. Feature stores form a shared catalog of production-ready features, enable collaboration and sharing between teams, and accelerate the innovation and delivery of new AI applications."
   ]
  },
  {
   "cell_type": "markdown",
   "metadata": {},
   "source": [
    "## The core components of a feature store are:\n",
    "\n",
    "### Transformation layer\n",
    "- Converts raw offline or online data into features and stores them in both an online (key/value) and offline (object) store.\n",
    "\n",
    "### Storage layer\n",
    "- Stores multiple versions of a feature in feature tables (feature sets) and manages the data lifecycle (create, append, delete, monitor, and secure the data). The data layer stores each feature in two forms: offline for training and analysis and online for serving and monitoring.\n",
    "\n",
    "### Feature retrieval\n",
    "- Accepts requests for multiple features (feature vectors) and other properties (such as time ranges and event data), and produces an offline data snapshot for training or a real-time vector for serving.\n",
    "\n",
    "### Metadata management and cataloging\n",
    "- Stores the feature definition, metadata, labels, and relations."
   ]
  },
  {
   "cell_type": "markdown",
   "metadata": {},
   "source": [
    "## Ingesting Data into the feature store\n",
    "\n",
    "### Direct ingestion\n",
    "- Ingest the data directly from the client/notebook (interactively).\n",
    "\n",
    "### Batch/scheduled ingestion\n",
    "- Create a service/job that ingests data from the source (for example, file, DB, and so on).\n",
    "\n",
    "### Real-time/streaming ingestion\n",
    "- Create an online service that accepts real-time events (from a stream, HTTP, and so on) and pushes them into the feature store."
   ]
  },
  {
   "cell_type": "markdown",
   "metadata": {},
   "source": []
  }
 ],
 "metadata": {
  "language_info": {
   "name": "python"
  }
 },
 "nbformat": 4,
 "nbformat_minor": 2
}
