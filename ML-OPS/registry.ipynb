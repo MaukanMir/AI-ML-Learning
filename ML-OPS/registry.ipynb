{
 "cells": [
  {
   "cell_type": "markdown",
   "metadata": {},
   "source": [
    "# Model Registry and Management"
   ]
  },
  {
   "cell_type": "markdown",
   "metadata": {},
   "source": [
    "### A model registry is a central repository for storing ML models and their metadata and managing the model lifecycle and versions. Once a model training process completes, it saves the model and its metadata in the registry. Then different functions (such as evaluation, testing, and optimization) extend the model metadata or update the model files. Finally, the serving functions or application pipelines load the model and use it for making predictions."
   ]
  },
  {
   "cell_type": "markdown",
   "metadata": {},
   "source": [
    "### Therefore, it is better to package and deploy them as microservices (containers) and access them through an API. In addition, using an API allows independent scaling of the model (add/remove containers), high availability, granular security, and rolling upgrades."
   ]
  },
  {
   "cell_type": "markdown",
   "metadata": {},
   "source": []
  }
 ],
 "metadata": {
  "language_info": {
   "name": "python"
  }
 },
 "nbformat": 4,
 "nbformat_minor": 2
}
