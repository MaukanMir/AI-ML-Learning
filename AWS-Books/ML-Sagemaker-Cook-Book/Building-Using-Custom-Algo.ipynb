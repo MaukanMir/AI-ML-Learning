{
 "cells": [
  {
   "cell_type": "markdown",
   "metadata": {},
   "source": [
    "# Building Custom Algorithms"
   ]
  },
  {
   "cell_type": "code",
   "execution_count": null,
   "metadata": {},
   "outputs": [],
   "source": [
    "import sagemaker \n",
    "import boto3\n",
    "from sagemaker import get_execution_role \n",
    "\n",
    "role = get_execution_role()"
   ]
  },
  {
   "cell_type": "code",
   "execution_count": null,
   "metadata": {},
   "outputs": [],
   "source": [
    "from sagemaker.local import LocalSession\n",
    "\n",
    "session = LocalSession()\n",
    "session.config = {'local': {'local_code': True}}"
   ]
  },
  {
   "cell_type": "code",
   "execution_count": null,
   "metadata": {},
   "outputs": [],
   "source": [
    "container=\"581320662326.dkr.ecr.us-east-1.amazonaws.com/chap02_python:1\""
   ]
  },
  {
   "cell_type": "code",
   "execution_count": null,
   "metadata": {},
   "outputs": [],
   "source": [
    "from sagemaker.inputs import TrainingInput\n",
    "\n",
    "train = TrainingInput(training_s3_input_location, content_type=\"text/csv\")"
   ]
  },
  {
   "cell_type": "code",
   "execution_count": null,
   "metadata": {},
   "outputs": [],
   "source": [
    "estimator = sagemaker.estimator.Estimator(\n",
    "    container,\n",
    "    role, \n",
    "    instance_count=1, \n",
    "    base_job_name=\"abcdefghij\",\n",
    "    instance_type='ml.m5.large',\n",
    "    output_path=training_s3_output_location,\n",
    "    sagemaker_session=sagemaker.Session())"
   ]
  },
  {
   "cell_type": "code",
   "execution_count": null,
   "metadata": {},
   "outputs": [],
   "source": [
    "estimator.set_hyperparameters(a=1, b=2, c=3)"
   ]
  },
  {
   "cell_type": "code",
   "execution_count": null,
   "metadata": {},
   "outputs": [],
   "source": [
    "estimator.fit({'train': train})"
   ]
  },
  {
   "cell_type": "code",
   "execution_count": null,
   "metadata": {},
   "outputs": [],
   "source": [
    "predictor = estimator.deploy(\n",
    "    initial_instance_count=1, \n",
    "    instance_type='ml.t2.medium', \n",
    "    endpoint_name=\"custom-local-py-endpoint\")"
   ]
  },
  {
   "cell_type": "code",
   "execution_count": null,
   "metadata": {},
   "outputs": [],
   "source": [
    "predictor.predict(\"1\")\n",
    "predictor.delete_endpoint()"
   ]
  },
  {
   "cell_type": "markdown",
   "metadata": {},
   "source": [
    "#### Define the PATHS constant and the get_path() function. The get_path() function will be handy in helping us manage the paths and locations of the primary files and directories used in the script:"
   ]
  },
  {
   "cell_type": "code",
   "execution_count": null,
   "metadata": {},
   "outputs": [],
   "source": [
    "import numpy as np\n",
    "\n",
    "from flask import Flask\n",
    "from flask import Response\n",
    "from flask import request\n",
    "\n",
    "from joblib import dump, load\n",
    "app = Flask(__name__)"
   ]
  },
  {
   "cell_type": "code",
   "execution_count": null,
   "metadata": {},
   "outputs": [],
   "source": [
    "PATHS = {\n",
    "    'hyperparameters': 'input/config/hyperparameters.json',\n",
    "    'input': 'input/config/inputdataconfig.json',\n",
    "    'data': 'input/data/',\n",
    "    'model': 'model/'\n",
    "}\n",
    "\n",
    "def get_path(key):\n",
    "    return '/opt/ml/' + PATHS[key]"
   ]
  },
  {
   "cell_type": "code",
   "execution_count": null,
   "metadata": {},
   "outputs": [],
   "source": [
    "def load_json(target_file):\n",
    "  output = None\n",
    "  with open(target_file) as json_data:\n",
    "    output = json.load(json_data)\n",
    "\n",
    "  return output\n",
    "\n",
    "def print_json(target_json):\n",
    "  pprint.pprint(target_json, indent=4)"
   ]
  },
  {
   "cell_type": "code",
   "execution_count": null,
   "metadata": {},
   "outputs": [],
   "source": [
    "@app.route(\"/invocations\", methods=[\"POST\"])\n",
    "def predict():\n",
    "    model = load_model()\n",
    "    \n",
    "    post_body = request.get_data().decode(\"utf-8\")\n",
    "    \n",
    "    payload_value = float(post_body)\n",
    "    \n",
    "    X_test = np.array([payload_value]).reshape(-1, 1)\n",
    "    y_test = model.predict(X_test)\n",
    "    \n",
    "    return Response(response=str(y_test[0]), status=200)\n",
    "\n",
    "\n",
    "@app.route(\"/ping\")\n",
    "def ping():\n",
    "    return Response(response=\"OK\", status=200)\n",
    "\n",
    "\n",
    "app.run(host=\"0.0.0.0\", port=8080)"
   ]
  }
 ],
 "metadata": {
  "kernelspec": {
   "display_name": "machine-learning-env",
   "language": "python",
   "name": "python3"
  },
  "language_info": {
   "name": "python",
   "version": "3.9.19"
  }
 },
 "nbformat": 4,
 "nbformat_minor": 2
}
