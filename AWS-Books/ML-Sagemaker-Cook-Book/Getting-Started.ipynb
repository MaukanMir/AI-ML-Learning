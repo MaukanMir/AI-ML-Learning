{
 "cells": [
  {
   "cell_type": "markdown",
   "metadata": {},
   "source": [
    "# Getting Started With Machine Learning Using Amazon Sagemaker"
   ]
  },
  {
   "cell_type": "markdown",
   "metadata": {},
   "source": [
    "## How it works…\n",
    "\n",
    "#### The SageMaker Python SDK helps data scientists and ML practitioners work on ML experiments using a Python library that abstracts the lower-level API operations, which distinguishes it from the Boto3 AWS SDK for Python. The SageMaker Python SDK makes use of abstraction layers and concepts such as models, estimators, and predictors, with fit() and deploy() functions similar to what libraries and frameworks such as Keras and scikit-learn have."
   ]
  },
  {
   "cell_type": "code",
   "execution_count": null,
   "metadata": {},
   "outputs": [],
   "source": [
    "from sklearn.model_selection import train_test_split\n",
    "\n",
    "X = df_all_data['management_experience_months']\n",
    "\n",
    "X = X.values\n",
    "\n",
    "y = df_all_data['monthly_salary'].values\n",
    "\n",
    "     \n",
    "\n",
    "X_train, X_test, y_train, y_test = train_test_split(\n",
    "\n",
    "    X, y, test_size=0.3, random_state=0)"
   ]
  },
  {
   "cell_type": "code",
   "execution_count": null,
   "metadata": {},
   "outputs": [],
   "source": [
    "df_training_data = pd.DataFrame({\n",
    "\n",
    "    'monthly_salary': y_train,\n",
    "\n",
    "    'management_experience_months': X_train\n",
    "\n",
    "})"
   ]
  },
  {
   "cell_type": "markdown",
   "metadata": {},
   "source": [
    "#### This step is important as several algorithms, such as the Linear Learner built-in algorithm, expect the first column to contain the target variable data."
   ]
  },
  {
   "cell_type": "code",
   "execution_count": null,
   "metadata": {},
   "outputs": [],
   "source": [
    "import sagemaker\n",
    "\n",
    "import boto3\n",
    "\n",
    "from sagemaker import get_execution_role\n",
    "\n",
    "role_arn = get_execution_role()\n",
    "\n",
    "session = sagemaker.Session()\n",
    "\n",
    "region_name = boto3.Session().region_name\n",
    "\n"
   ]
  },
  {
   "cell_type": "markdown",
   "metadata": {},
   "source": [
    "#### The return values of get_execution_role() and sagemaker.Session() will be used in a later step. The get_execution_role() function from the SageMaker Python SDK returns the IAM role associated with the notebook instance. The return value of this function is used as an argument later when we initialize the Estimator object for the training job."
   ]
  }
 ],
 "metadata": {
  "kernelspec": {
   "display_name": "machine-learning-env",
   "language": "python",
   "name": "python3"
  },
  "language_info": {
   "name": "python",
   "version": "3.9.19"
  }
 },
 "nbformat": 4,
 "nbformat_minor": 2
}
