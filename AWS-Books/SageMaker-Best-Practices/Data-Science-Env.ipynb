{
 "cells": [
  {
   "cell_type": "markdown",
   "metadata": {},
   "source": [
    "# Data Science Environments"
   ]
  },
  {
   "cell_type": "markdown",
   "metadata": {},
   "source": [
    "- IaC refers to the process of provisioning and managing infrastructure using code instead of relying on manual setup, which is not only slow but also prone to error and inconsistencies across environments.\n",
    "- Cac refers to the process of managing the configuration of resources through code. Because this is all defined via code, it can be managed as source code and reused for consistency across environments.\n",
    "\n",
    "## How should the resources be configured?\n",
    "\n",
    "#### Each resource that gets provisioned through a CloudFormation template includes a set of properties that define how a resource should be configured. Defining these properties through code allows you to consistently provision resources that are configured according to pre-defined specifications. Properties include important configuration options, such as launching environments with a VPC attached or enforcing controls such as encryption at rest. CloudFormation also allows for parameters that can be defined in the template and passed in when launching a CloudFormation stack."
   ]
  }
 ],
 "metadata": {
  "language_info": {
   "name": "python"
  }
 },
 "nbformat": 4,
 "nbformat_minor": 2
}
