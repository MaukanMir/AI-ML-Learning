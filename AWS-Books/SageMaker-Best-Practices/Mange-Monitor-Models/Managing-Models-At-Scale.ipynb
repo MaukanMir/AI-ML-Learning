{
 "cells": [
  {
   "cell_type": "markdown",
   "metadata": {},
   "source": [
    "# Managing Models at Scale Using a Model Registry"
   ]
  },
  {
   "cell_type": "markdown",
   "metadata": {},
   "source": [
    "#### As you begin to deploy multiple models and manage multiple model versions, ensuring core architectural practices such as governance, traceability, and recoverability are followed is challenging without using a model registry. A model registry is a central store containing metadata specific to a model version. It includes information on how the model was built, the performance of that model, as well as where and how the model is deployed. Model registry services or solutions often include additional capabilities, such as approval workflows and notifications.\n",
    "\n",
    "## Using a model registry\n",
    "\n",
    "#### Regardless of the implementation, the key metadata to consider includes model version identifiers, and the following information about each model version registered:\n",
    "\n",
    "- Model inputs: These include metadata related to the inputs and versions of those inputs used to train the model. This can include inputs such as the name of the Amazon S3 bucket storing the training data, training hyperparameters, and the Amazon Elastic Container Registry (ECR) repository or container image used for training.\n",
    "- Model performance: This includes model evaluation data such as training and validation metrics.\n",
    "- Model artifact: This includes metadata about the training model artifact. At a minimum, this includes the name of the Amazon S3 bucket storing the model artifact, as well as the name of the object (for example, model.tar.gz).\n",
    "- Model deployment: This includes metadata relating to the deployment of a model. This includes information such as the environment(s) a model version is deployed to, or the inference code that can be used for the registered model.\n",
    "\n",
    "#### Similar considerations exist for tracking and storing model deployment data. The metadata tracked for model deployments should provide enough information to package the model for deployment using Amazon SageMaker, to a real-time endpoint, or using batch transform. This should also allow someone to easily identify where a given model version is deployed, as well as how it is packaged for deployment and consumption. Figure 8.2 illustrates an example of the inputs, deployment stages, and artifacts to consider for tracking across the SageMaker options for deploying models:\n",
    "\n",
    "#### If you had a couple of models to manage, you could potentially track the previous information using a simple method, such as a spreadsheet. However, as you begin to scale to 20, 100, or thousands of models, that mechanism for tracking model metadata no longer scales. Centrally storing and tracking the information (shown in Figures 8.1 and 8.2) for each model version provides the following benefits:\n",
    "\n",
    "\n"
   ]
  },
  {
   "cell_type": "code",
   "execution_count": null,
   "metadata": {},
   "outputs": [],
   "source": []
  }
 ],
 "metadata": {
  "language_info": {
   "name": "python"
  }
 },
 "nbformat": 4,
 "nbformat_minor": 2
}
