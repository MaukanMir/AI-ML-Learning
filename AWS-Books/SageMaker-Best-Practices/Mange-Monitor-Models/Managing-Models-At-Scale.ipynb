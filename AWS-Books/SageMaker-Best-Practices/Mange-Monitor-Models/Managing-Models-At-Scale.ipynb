{
 "cells": [
  {
   "cell_type": "markdown",
   "metadata": {},
   "source": [
    "# Managing Models at Scale Using a Model Registry"
   ]
  },
  {
   "cell_type": "markdown",
   "metadata": {},
   "source": [
    "#### As you begin to deploy multiple models and manage multiple model versions, ensuring core architectural practices such as governance, traceability, and recoverability are followed is challenging without using a model registry. A model registry is a central store containing metadata specific to a model version. It includes information on how the model was built, the performance of that model, as well as where and how the model is deployed. Model registry services or solutions often include additional capabilities, such as approval workflows and notifications.\n",
    "\n",
    "## Using a model registry\n",
    "\n",
    "#### Regardless of the implementation, the key metadata to consider includes model version identifiers, and the following information about each model version registered:\n",
    "\n",
    "- Model inputs: These include metadata related to the inputs and versions of those inputs used to train the model. This can include inputs such as the name of the Amazon S3 bucket storing the training data, training hyperparameters, and the Amazon Elastic Container Registry (ECR) repository or container image used for training.\n",
    "- Model performance: This includes model evaluation data such as training and validation metrics.\n",
    "- Model artifact: This includes metadata about the training model artifact. At a minimum, this includes the name of the Amazon S3 bucket storing the model artifact, as well as the name of the object (for example, model.tar.gz).\n",
    "- Model deployment: This includes metadata relating to the deployment of a model. This includes information such as the environment(s) a model version is deployed to, or the inference code that can be used for the registered model.\n",
    "\n",
    "#### Similar considerations exist for tracking and storing model deployment data. The metadata tracked for model deployments should provide enough information to package the model for deployment using Amazon SageMaker, to a real-time endpoint, or using batch transform. This should also allow someone to easily identify where a given model version is deployed, as well as how it is packaged for deployment and consumption. Figure 8.2 illustrates an example of the inputs, deployment stages, and artifacts to consider for tracking across the SageMaker options for deploying models:\n",
    "\n",
    "#### If you had a couple of models to manage, you could potentially track the previous information using a simple method, such as a spreadsheet. However, as you begin to scale to 20, 100, or thousands of models, that mechanism for tracking model metadata no longer scales. Centrally storing and tracking the information (shown in Figures 8.1 and 8.2) for each model version provides the following benefits:\n",
    "\n",
    "- Operational efficiencies: A model registry provides tracking and visibility into key inputs used to build a specific model version, output artifacts, and information about the deployment stages aligned to that version. Having this metadata allows for the ability to quickly understand how a model was built, how the model performed, information about the trained model artifact, and also provides the ability to track the environment(s) a specific version is deployed to.\n",
    "\n",
    "- Recoverability: To be able to recover a deployed model or roll back to a previous version, you need to have visibility to the inputs and input versions used to create a deployable artifact or a deployed model. In the event of system or human error, you can recover to a specific point in time using the metadata stored in the model registry, combined with protected versioned inputs. As an example, if an administrator were to accidentally delete a model endpoint, it should be easy to identify the artifacts needed to recreate that endpoint. This can be identified using metadata stored in the model registry that points to the location of the versioned model artifact, in combination with the versioned inference container image.\n",
    "\n",
    "- Pipeline sources and triggers: Often there is a need to bridge the model build and model deployment environments. This is typical in large enterprises that have central deployment teams, or in organizations that separate model build and model deployment roles. A model registry provides a mechanism to capture the minimum metadata needed for visibility into how a model is built. However, it can also be used to trigger approval workflows and downstream deployments.\n",
    "\n",
    "## Amazon SageMaker model registry\n",
    "\n",
    "#### The Amazon SageMaker model registry is a managed service that allows you to centrally catalog models, manage model versions, associate metadata with your model versions, and manage the approval status of a model version. The service is continuously evolving with new features, so the information contained in this section is current as of the publication date. It's always recommended to validate the current features and capabilities with the official documentation for the Amazon SageMaker model registry (https://docs.aws.amazon.com/sagemaker/latest/dg/model-registry.html). The SageMaker model registry is optimized for use in conjunction with Amazon SageMaker Pipelines and projects; however, it can also be used independently as well."
   ]
  },
  {
   "cell_type": "code",
   "execution_count": null,
   "metadata": {},
   "outputs": [],
   "source": []
  }
 ],
 "metadata": {
  "language_info": {
   "name": "python"
  }
 },
 "nbformat": 4,
 "nbformat_minor": 2
}
