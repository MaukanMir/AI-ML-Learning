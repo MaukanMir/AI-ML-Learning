{
 "cells": [
  {
   "cell_type": "markdown",
   "metadata": {},
   "source": [
    "# Well-Architected Machine Learning with Amazon SageMaker"
   ]
  },
  {
   "cell_type": "markdown",
   "metadata": {},
   "source": [
    "## Ensuring reproducibility\n",
    "\n",
    "#### To successfully operationalize the end-to-end ML system, you must first ensure its reproducibility through versioned data, code, and artifacts. Best practice is to version all inputs used to create models, including training data, data preparation code, algorithm implementation code, parameters, and hyperparameters, in addition to all trained model artifacts. A versioning strategy is also about helping in the model-update phase and allowing for easy rollback to a specific known working version if a model update fails or if the updated model does not meet your requirements.\n",
    "\n"
   ]
  },
  {
   "cell_type": "code",
   "execution_count": null,
   "metadata": {},
   "outputs": [],
   "source": []
  }
 ],
 "metadata": {
  "kernelspec": {
   "display_name": "machine-learning-env",
   "language": "python",
   "name": "python3"
  },
  "language_info": {
   "name": "python",
   "version": "3.9.19"
  }
 },
 "nbformat": 4,
 "nbformat_minor": 2
}
