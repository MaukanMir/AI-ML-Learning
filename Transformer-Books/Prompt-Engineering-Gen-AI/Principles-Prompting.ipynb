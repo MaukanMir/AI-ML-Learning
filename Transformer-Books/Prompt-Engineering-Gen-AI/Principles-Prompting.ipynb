{
 "cells": [
  {
   "cell_type": "markdown",
   "metadata": {},
   "source": [
    "# Overview of the Five Principles of Prompting"
   ]
  },
  {
   "cell_type": "markdown",
   "metadata": {},
   "source": [
    "#### The process for optimizing this prompt follows the Five Principles of Prompting, which we will dissect using this example in the remainder of this chapter, and recall throughout the book. They map exactly to the five issues we raised when discussing the naive text prompt. You’ll find references back to these principles throughout the rest of the book to help you connect the dots to how they’re used in practice. The Five Principles of Prompting are as follows:\n",
    "\n",
    "#### Give Direction\n",
    "- Describe the desired style in detail, or reference a relevant persona\n",
    "\n",
    "#### Specify Format\n",
    "- Define what rules to follow, and the required structure of the response\n",
    "\n",
    "#### Provide Examples\n",
    "- Insert a diverse set of test cases where the task was done correctly\n",
    "\n",
    "#### Evaluate Quality\n",
    "- Identify errors and rate responses, testing what drives performance.\n",
    "\n",
    "#### Divide Labor\n",
    "- Split tasks into multiple steps, chained together for complex goals"
   ]
  }
 ],
 "metadata": {
  "kernelspec": {
   "display_name": "machine-learning-env",
   "language": "python",
   "name": "python3"
  },
  "language_info": {
   "name": "python",
   "version": "3.9.19"
  }
 },
 "nbformat": 4,
 "nbformat_minor": 2
}
