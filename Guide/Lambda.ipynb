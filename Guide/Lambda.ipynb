{
 "cells": [
  {
   "cell_type": "markdown",
   "metadata": {},
   "source": [
    "# Lambda"
   ]
  },
  {
   "cell_type": "markdown",
   "metadata": {},
   "source": [
    "## What is AWS Lambda?\n",
    "\n",
    "#### AWS Lambda is a serverless compute service that lets you run code without provisioning or managing servers. Lambda runs code only when needed and scales automatically, from a few requests per day to thousands per second."
   ]
  },
  {
   "cell_type": "markdown",
   "metadata": {},
   "source": [
    "## What are the main components of a Lambda function?\n",
    "\n",
    "#### The main components of a Lambda function are:\n",
    "\n",
    "- Handler: This is the entry point for our function, a method in our code that processes the invocation event. Think of it as the \"main\" function of our Lambda code.\n",
    "- Event: This is the JSON-formatted input data that triggers the function's execution. It carries information about what initiated the function call.\n",
    "- Context: This is an object containing runtime information about the function's execution environment. It includes details like function name, version, memory limits, request ID, and remaining execution time.\n",
    "- Environment variables: These are key-value pairs that you can set to configure your Lambda function's behavior without modifying the code itself. They are often used to store API keys, database credentials, or other settings."
   ]
  },
  {
   "cell_type": "markdown",
   "metadata": {},
   "source": [
    "## What are the different ways to invoke a Lambda Function?\n",
    "\n",
    "- Synchronous invocation: The client waits for the function to complete and return a response.\n",
    "- Asynchronous invocation: The client doesn't wait for a response—Lambda executes the function in the background.\n",
    "- Event source mapping: Lambda automatically polls services like DynamoDB or Kinesis and invokes functions based on events.\n",
    "- Other methods: These include API Gateway, AWS SDKs, or scheduled invocations via Amazon EventBridge."
   ]
  }
 ],
 "metadata": {
  "language_info": {
   "name": "python"
  }
 },
 "nbformat": 4,
 "nbformat_minor": 2
}
