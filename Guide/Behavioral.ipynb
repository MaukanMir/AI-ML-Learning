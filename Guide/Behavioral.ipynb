{
 "cells": [
  {
   "cell_type": "markdown",
   "metadata": {},
   "source": [
    "# Behavioral Interview Question"
   ]
  },
  {
   "cell_type": "markdown",
   "metadata": {},
   "source": [
    "## Tell me about a time when you used data science to inform a business decision.\n",
    "\n",
    "#### Created a model on devices failures for the electrical grid by bining the amount of failures into categories such as:\n",
    "- \"low\"\n",
    "- \"medium\"\n",
    "- \"High\"\n",
    "\n",
    "#### In terms of the probability there will be another outage, then I jused an XGB classifier predict whether or not certain deviced would fail again. This along with electrical current data, such as voltage, current charge, size etc to create a model with over 70% ccuracy that eventually moved up to 87% accuracy as we collected more data."
   ]
  },
  {
   "cell_type": "markdown",
   "metadata": {},
   "source": [
    "## Here are some key aspects of XGBoost:\n",
    "\n",
    "#### Gradient Boosting Framework:\n",
    "- It works by sequentially adding simple models to correct the errors made by previous models.\n",
    "#### Efficiency and Scalability:\n",
    "- It is optimized to be highly computationally efficient and can handle large datasets.\n",
    "#### Handling missing Data:\n",
    "- XGBoost has an in-built routine to handle missing data. (More on this later)\n",
    "#### Tree pruning:"
   ]
  },
  {
   "cell_type": "markdown",
   "metadata": {},
   "source": [
    "## Provide an example of a goal you reached and tell me how you achieved it.\n",
    "\n",
    "#### Business goal of reducing the costs of mis predicting outages and how devices could be broken. "
   ]
  }
 ],
 "metadata": {
  "language_info": {
   "name": "python"
  }
 },
 "nbformat": 4,
 "nbformat_minor": 2
}
