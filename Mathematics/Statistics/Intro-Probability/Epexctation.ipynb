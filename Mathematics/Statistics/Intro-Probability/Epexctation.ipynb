{
 "cells": [
  {
   "cell_type": "markdown",
   "metadata": {},
   "source": [
    "# Expectation"
   ]
  },
  {
   "cell_type": "markdown",
   "metadata": {},
   "source": [
    "#### The expected value of a random variable is indeed a weighted average of all possible values that the variable can take, with each value being weighted by its probability of occurrence."
   ]
  },
  {
   "cell_type": "code",
   "execution_count": 1,
   "metadata": {},
   "outputs": [
    {
     "name": "stdout",
     "output_type": "stream",
     "text": [
      "Expected Value for rolling a fair six-sided die: 3.5\n"
     ]
    }
   ],
   "source": [
    "outcomes = [1, 2, 3, 4, 5, 6]\n",
    "probabilities = [1/6] * 6\n",
    "\n",
    "expected_value = sum(outcome * probability for outcome, probability in zip(outcomes, probabilities))\n",
    "print(f\"Expected Value for rolling a fair six-sided die: {expected_value}\")\n"
   ]
  },
  {
   "cell_type": "code",
   "execution_count": 2,
   "metadata": {},
   "outputs": [
    {
     "name": "stdout",
     "output_type": "stream",
     "text": [
      "Expected Value for custom discrete distribution: 2.0\n"
     ]
    }
   ],
   "source": [
    "outcomes = [0, 1, 2, 3]\n",
    "probabilities = [0.1, 0.2, 0.3, 0.4]\n",
    "\n",
    "expected_value = sum(outcome * probability for outcome, probability in zip(outcomes, probabilities))\n",
    "print(f\"Expected Value for custom discrete distribution: {expected_value}\")\n"
   ]
  },
  {
   "cell_type": "code",
   "execution_count": 3,
   "metadata": {},
   "outputs": [
    {
     "name": "stdout",
     "output_type": "stream",
     "text": [
      "Expected Value for the exponential distribution: 0.9999999999999998\n"
     ]
    }
   ],
   "source": [
    "import numpy as np\n",
    "from scipy.integrate import quad\n",
    "\n",
    "lambda_param = 1\n",
    "\n",
    "def exponential_pdf(x):\n",
    "    return lambda_param * np.exp(-lambda_param * x)\n",
    "\n",
    "def integrand(x):\n",
    "    return x * exponential_pdf(x)\n",
    "\n",
    "result, _ = quad(integrand, 0, np.inf)\n",
    "print(f\"Expected Value for the exponential distribution: {result}\")"
   ]
  }
 ],
 "metadata": {
  "kernelspec": {
   "display_name": "machine-learning-env",
   "language": "python",
   "name": "python3"
  },
  "language_info": {
   "codemirror_mode": {
    "name": "ipython",
    "version": 3
   },
   "file_extension": ".py",
   "mimetype": "text/x-python",
   "name": "python",
   "nbconvert_exporter": "python",
   "pygments_lexer": "ipython3",
   "version": "3.9.19"
  }
 },
 "nbformat": 4,
 "nbformat_minor": 2
}
