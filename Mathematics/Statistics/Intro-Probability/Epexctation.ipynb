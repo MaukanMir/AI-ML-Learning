{
 "cells": [
  {
   "cell_type": "markdown",
   "metadata": {},
   "source": [
    "# Expectation"
   ]
  },
  {
   "cell_type": "markdown",
   "metadata": {},
   "source": [
    "#### The expected value of a random variable is indeed a weighted average of all possible values that the variable can take, with each value being weighted by its probability of occurrence."
   ]
  },
  {
   "cell_type": "code",
   "execution_count": 1,
   "metadata": {},
   "outputs": [
    {
     "name": "stdout",
     "output_type": "stream",
     "text": [
      "Expected Value for rolling a fair six-sided die: 3.5\n"
     ]
    }
   ],
   "source": [
    "outcomes = [1, 2, 3, 4, 5, 6]\n",
    "probabilities = [1/6] * 6\n",
    "\n",
    "expected_value = sum(outcome * probability for outcome, probability in zip(outcomes, probabilities))\n",
    "print(f\"Expected Value for rolling a fair six-sided die: {expected_value}\")\n"
   ]
  },
  {
   "cell_type": "code",
   "execution_count": 2,
   "metadata": {},
   "outputs": [
    {
     "name": "stdout",
     "output_type": "stream",
     "text": [
      "Expected Value for custom discrete distribution: 2.0\n"
     ]
    }
   ],
   "source": [
    "outcomes = [0, 1, 2, 3]\n",
    "probabilities = [0.1, 0.2, 0.3, 0.4]\n",
    "\n",
    "expected_value = sum(outcome * probability for outcome, probability in zip(outcomes, probabilities))\n",
    "print(f\"Expected Value for custom discrete distribution: {expected_value}\")\n"
   ]
  },
  {
   "cell_type": "code",
   "execution_count": 3,
   "metadata": {},
   "outputs": [
    {
     "name": "stdout",
     "output_type": "stream",
     "text": [
      "Expected Value for the exponential distribution: 0.9999999999999998\n"
     ]
    }
   ],
   "source": [
    "import numpy as np\n",
    "from scipy.integrate import quad\n",
    "\n",
    "lambda_param = 1\n",
    "\n",
    "def exponential_pdf(x):\n",
    "    return lambda_param * np.exp(-lambda_param * x)\n",
    "\n",
    "def integrand(x):\n",
    "    return x * exponential_pdf(x)\n",
    "\n",
    "result, _ = quad(integrand, 0, np.inf)\n",
    "print(f\"Expected Value for the exponential distribution: {result}\")"
   ]
  },
  {
   "cell_type": "markdown",
   "metadata": {},
   "source": [
    "## Negative Binomial Distribution \n",
    "\n",
    "#### The negative binomial distribution is a probability distribution that models the number of trials needed to achieve a specified number of successes in a sequence of independent and identically distributed Bernoulli trials. This distribution extends the geometric distribution, which only counts the number of trials until the first success.\n",
    "\n",
    "- X is the number of failures that occur\n",
    "- k is a specific number of failures\n",
    "- r is the number of successes required\n",
    "- p is the probability of success on each trial\n",
    "\n",
    "- P(X = k) = (\n",
    "-             k + r -1\n",
    "              r-1      )  p^r(1-p)^k\n",
    "\n",
    "#### Scenarios\n",
    "\n",
    "- Quality Control: Determining the number of products that need to be tested before a certain number of defective items are found.\n",
    "- Estimating the number of risky events (like loan defaults or company bankruptcies) before reaching a financial threshold that triggers a response or policy change."
   ]
  },
  {
   "cell_type": "markdown",
   "metadata": {},
   "source": []
  }
 ],
 "metadata": {
  "kernelspec": {
   "display_name": "machine-learning-env",
   "language": "python",
   "name": "python3"
  },
  "language_info": {
   "codemirror_mode": {
    "name": "ipython",
    "version": 3
   },
   "file_extension": ".py",
   "mimetype": "text/x-python",
   "name": "python",
   "nbconvert_exporter": "python",
   "pygments_lexer": "ipython3",
   "version": "3.9.19"
  }
 },
 "nbformat": 4,
 "nbformat_minor": 2
}
