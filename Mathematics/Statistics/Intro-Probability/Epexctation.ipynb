{
 "cells": [
  {
   "cell_type": "markdown",
   "metadata": {},
   "source": [
    "# Expectation"
   ]
  },
  {
   "cell_type": "markdown",
   "metadata": {},
   "source": [
    "#### The expected value of a random variable is indeed a weighted average of all possible values that the variable can take, with each value being weighted by its probability of occurrence."
   ]
  },
  {
   "cell_type": "code",
   "execution_count": 1,
   "metadata": {},
   "outputs": [
    {
     "name": "stdout",
     "output_type": "stream",
     "text": [
      "Expected Value for rolling a fair six-sided die: 3.5\n"
     ]
    }
   ],
   "source": [
    "outcomes = [1, 2, 3, 4, 5, 6]\n",
    "probabilities = [1/6] * 6\n",
    "\n",
    "expected_value = sum(outcome * probability for outcome, probability in zip(outcomes, probabilities))\n",
    "print(f\"Expected Value for rolling a fair six-sided die: {expected_value}\")\n"
   ]
  },
  {
   "cell_type": "code",
   "execution_count": 2,
   "metadata": {},
   "outputs": [
    {
     "name": "stdout",
     "output_type": "stream",
     "text": [
      "Expected Value for custom discrete distribution: 2.0\n"
     ]
    }
   ],
   "source": [
    "outcomes = [0, 1, 2, 3]\n",
    "probabilities = [0.1, 0.2, 0.3, 0.4]\n",
    "\n",
    "expected_value = sum(outcome * probability for outcome, probability in zip(outcomes, probabilities))\n",
    "print(f\"Expected Value for custom discrete distribution: {expected_value}\")\n"
   ]
  },
  {
   "cell_type": "code",
   "execution_count": 3,
   "metadata": {},
   "outputs": [
    {
     "name": "stdout",
     "output_type": "stream",
     "text": [
      "Expected Value for the exponential distribution: 0.9999999999999998\n"
     ]
    }
   ],
   "source": [
    "import numpy as np\n",
    "from scipy.integrate import quad\n",
    "\n",
    "lambda_param = 1\n",
    "\n",
    "def exponential_pdf(x):\n",
    "    return lambda_param * np.exp(-lambda_param * x)\n",
    "\n",
    "def integrand(x):\n",
    "    return x * exponential_pdf(x)\n",
    "\n",
    "result, _ = quad(integrand, 0, np.inf)\n",
    "print(f\"Expected Value for the exponential distribution: {result}\")"
   ]
  },
  {
   "cell_type": "markdown",
   "metadata": {},
   "source": [
    "## Negative Binomial Distribution \n",
    "\n",
    "#### The negative binomial distribution is a probability distribution that models the number of trials needed to achieve a specified number of successes in a sequence of independent and identically distributed Bernoulli trials. This distribution extends the geometric distribution, which only counts the number of trials until the first success.\n",
    "\n",
    "- X is the number of failures that occur\n",
    "- k is a specific number of failures\n",
    "- r is the number of successes required\n",
    "- p is the probability of success on each trial\n",
    "\n",
    "- P(X = k) = (\n",
    "-             k + r -1\n",
    "              r-1      )  p^r(1-p)^k\n",
    "\n",
    "#### Scenarios\n",
    "\n",
    "- Quality Control: Determining the number of products that need to be tested before a certain number of defective items are found.\n",
    "- Estimating the number of risky events (like loan defaults or company bankruptcies) before reaching a financial threshold that triggers a response or policy change."
   ]
  },
  {
   "cell_type": "code",
   "execution_count": 4,
   "metadata": {},
   "outputs": [
    {
     "name": "stdout",
     "output_type": "stream",
     "text": [
      "P(X = 0) = 0.1250\n",
      "P(X = 1) = 0.1875\n",
      "P(X = 2) = 0.1875\n",
      "P(X = 3) = 0.1562\n",
      "P(X = 4) = 0.1172\n",
      "P(X = 5) = 0.0820\n",
      "P(X = 6) = 0.0547\n",
      "P(X = 7) = 0.0352\n",
      "P(X = 8) = 0.0220\n",
      "P(X = 9) = 0.0134\n",
      "P(X = 10) = 0.0081\n",
      "P(X = 11) = 0.0048\n",
      "P(X = 12) = 0.0028\n",
      "P(X = 13) = 0.0016\n",
      "P(X = 14) = 0.0009\n",
      "P(X = 15) = 0.0005\n",
      "P(X = 16) = 0.0003\n",
      "P(X = 17) = 0.0002\n",
      "P(X = 18) = 0.0001\n",
      "P(X = 19) = 0.0001\n"
     ]
    },
    {
     "data": {
      "image/png": "[encoded data removed]",
      "text/plain": [
       "<Figure size 800x400 with 1 Axes>"
      ]
     },
     "metadata": {},
     "output_type": "display_data"
    }
   ],
   "source": [
    "import numpy as np\n",
    "from scipy.stats import nbinom\n",
    "import matplotlib.pyplot as plt\n",
    "\n",
    "# Parameters\n",
    "r = 3  # Number of successes\n",
    "p = 0.5  # Probability of success in each trial\n",
    "\n",
    "# Values of k to calculate probabilities for\n",
    "k_values = np.arange(0, 20)  # Array of k values from 0 to 19\n",
    "\n",
    "# Calculate probabilities using the negative binomial distribution\n",
    "probabilities = nbinom.pmf(k_values, r, p)\n",
    "\n",
    "# Print the probabilities for each k\n",
    "for k, prob in zip(k_values, probabilities):\n",
    "    print(f\"P(X = {k}) = {prob:.4f}\")\n",
    "\n",
    "# Plotting the distribution\n",
    "plt.figure(figsize=(8, 4))\n",
    "plt.bar(k_values, probabilities, color='skyblue')\n",
    "plt.title('Negative Binomial Distribution')\n",
    "plt.xlabel('Number of Failures (k)')\n",
    "plt.ylabel('Probability')\n",
    "plt.grid(True)\n",
    "plt.show()\n"
   ]
  },
  {
   "cell_type": "markdown",
   "metadata": {},
   "source": [
    "## Example 4.3.13\n",
    "#### (St. Petersburg paradox). Suppose a wealthy stranger offers to play the following game with you. You will flip a fair coin until it lands Heads for the first time, and you will receive $2 if the game lasts for 1 round, $4 if the game lasts for 2 rounds, $8 if the game lasts for 3 rounds, and in general, $2n if the game lasts for n rounds. What is the fair value of this game (the expected payoff)? How much would you be willing to pay to play this game once?"
   ]
  }
 ],
 "metadata": {
  "kernelspec": {
   "display_name": "machine-learning-env",
   "language": "python",
   "name": "python3"
  },
  "language_info": {
   "codemirror_mode": {
    "name": "ipython",
    "version": 3
   },
   "file_extension": ".py",
   "mimetype": "text/x-python",
   "name": "python",
   "nbconvert_exporter": "python",
   "pygments_lexer": "ipython3",
   "version": "3.9.19"
  }
 },
 "nbformat": 4,
 "nbformat_minor": 2
}
