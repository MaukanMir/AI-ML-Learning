{
 "cells": [
  {
   "cell_type": "markdown",
   "metadata": {},
   "source": [
    "# The P Value and the Base Rate Fallacy"
   ]
  },
  {
   "cell_type": "markdown",
   "metadata": {},
   "source": [
    "#### Remember, p < 0.05 isn’t the same as a 5% chance your result is false.\n",
    "\n",
    "##### If you are testing multiple hypotheses or looking for correlations between many variables, use a procedure such as Bonferroni or Benjamini–Hochberg (or one of their various derivatives and adaptations) to control for the excess of false positives."
   ]
  },
  {
   "cell_type": "markdown",
   "metadata": {},
   "source": [
    "- Compare groups directly using appropriate statistical tests, instead of simply saying, “This one was significant, and this one wasn’t.”\n",
    "\n",
    "- Do not judge the significance of a difference by eye. Use a statistical test.\n",
    "\n",
    "- Remember that if you compare many groups, you need to adjust for making multiple comparisons!"
   ]
  },
  {
   "cell_type": "markdown",
   "metadata": {},
   "source": []
  }
 ],
 "metadata": {
  "language_info": {
   "name": "python"
  }
 },
 "nbformat": 4,
 "nbformat_minor": 2
}
