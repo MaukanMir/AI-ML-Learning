{
 "cells": [
  {
   "cell_type": "markdown",
   "metadata": {},
   "source": [
    "# Statistical Significance"
   ]
  },
  {
   "cell_type": "markdown",
   "metadata": {},
   "source": [
    "#### The p value is the probability, under the assumption that there is no true effect or no true difference, of collecting data that shows a difference equal to or more extreme than what you actually observed.\n",
    "\n",
    "#### So if you give your medication to 100 patients and find that their colds were a day shorter on average, then the p value of this result is the chance that if your medication didn’t actually do anything, their average cold would be a day or more shorter than the control group’s by luck alone. As you might guess, the p value depends on the size of the effect—colds that are shorter by four days are less common than colds that are shorter by just one day—as well as on the number of patients you test the medication on.\n",
    "\n",
    "#### Remember, a p value is not a measure of how right you are or how important a difference is. Instead, think of it as a measure of surprise. If you assume your medication is ineffective and there is no reason other than luck for the two groups to differ, then the smaller the p value, the more surprising and lucky your results are—or your assumption is wrong, and the medication truly works.\n",
    "\n",
    "#### The p-value represents the likelihood that any observed differences in a study, like shorter cold durations in patients given a medication, occurred purely by chance under the assumption that the medication is ineffective. It quantifies how surprising the results are. If the p-value is small, it suggests either a rare chance occurrence or that the initial assumption of no medication effect is incorrect, implying the medication might actually be effective. The p-value also depends on the size of the observed effect and the sample size; larger effects and larger samples generally lead to smaller p-values. However, the p-value does not indicate the significance or accuracy of the results, just the degree of surprise given the initial assumption."
   ]
  },
  {
   "cell_type": "code",
   "execution_count": null,
   "metadata": {},
   "outputs": [],
   "source": [
    "##"
   ]
  }
 ],
 "metadata": {
  "language_info": {
   "name": "python"
  }
 },
 "nbformat": 4,
 "nbformat_minor": 2
}
