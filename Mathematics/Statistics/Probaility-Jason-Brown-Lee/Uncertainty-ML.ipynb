{
 "cells": [
  {
   "cell_type": "markdown",
   "metadata": {},
   "source": [
    "## Uncertainty in Machine Learning"
   ]
  },
  {
   "cell_type": "markdown",
   "metadata": {},
   "source": [
    "\n",
    "- Uncertainty is the biggest source of difficulty for beginners in machine learning, especially developers.\n",
    "- Noise in data, incomplete coverage of the domain, and imperfect models provide the three main sources of uncertainty in machine learning.\n",
    "- Probability provides the foundation and tools for quantifying, handling, and harnessing uncertainty in applied machine learning.\n",
    "\n",
    "#### In many cases, it is more practical to use a simple but uncertain rule rather than a complex but certain one, even if the true rule is deterministic and our modeling system has the fidelity to accommodate a complex rule."
   ]
  }
 ],
 "metadata": {
  "kernelspec": {
   "display_name": "machine-learning-env",
   "language": "python",
   "name": "python3"
  },
  "language_info": {
   "name": "python",
   "version": "3.9.19"
  }
 },
 "nbformat": 4,
 "nbformat_minor": 2
}
