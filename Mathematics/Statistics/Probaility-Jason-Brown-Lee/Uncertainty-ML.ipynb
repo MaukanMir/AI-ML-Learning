{
 "cells": [
  {
   "cell_type": "markdown",
   "metadata": {},
   "source": [
    "## Uncertainty in Machine Learning"
   ]
  },
  {
   "cell_type": "markdown",
   "metadata": {},
   "source": [
    "\n",
    "- Uncertainty is the biggest source of difficulty for beginners in machine learning, especially developers.\n",
    "- Noise in data, incomplete coverage of the domain, and imperfect models provide the three main sources of uncertainty in machine learning.\n",
    "- Probability provides the foundation and tools for quantifying, handling, and harnessing uncertainty in applied machine learning.\n",
    "\n",
    "#### In many cases, it is more practical to use a simple but uncertain rule rather than a complex but certain one, even if the true rule is deterministic and our modeling system has the fidelity to accommodate a complex rule."
   ]
  },
  {
   "cell_type": "markdown",
   "metadata": {},
   "source": [
    "- Joint probability is the probability of two or more events occurring simultaneously.\n",
    "- Marginal probability is the probability of an event irrespective of the outcome of other\n",
    "variables\n",
    "- Conditional probability is the probability of one event occurring in the presence of one or more other events."
   ]
  },
  {
   "cell_type": "markdown",
   "metadata": {},
   "source": [
    "- Joint Probability: Probability of events A and B.\n",
    "- Marginal Probability: Probability of event A given variable Y .\n",
    "- Conditional Probability: Probability of event A given event B.\n",
    "\n",
    "- The probability of a row of data is the joint probability across each input variable.\n",
    "- The probability of a specific value of one input variable is the marginal probability across\n",
    "the values of the other input variables.\n",
    "- The predictive model itself is an estimate of the conditional probability of an output given an input example."
   ]
  },
  {
   "cell_type": "markdown",
   "metadata": {},
   "source": [
    "## Joint Probability for Two Variables\n",
    "\n",
    "#### We may be interested in the probability of two simultaneous events, e.g. the outcomes of two different random variables. The probability of two (or more) events is called the joint probability.\n",
    "\n",
    "#### The joint probability for events A and B is calculated as the probability of event A given event B multiplied by the probability of event B. This can be stated formally as follows:\n",
    "- P(A ∩ B) = P(A given B) × P(B)"
   ]
  },
  {
   "cell_type": "markdown",
   "metadata": {},
   "source": [
    "## Marginal Probability\n",
    "\n",
    "#### We may be interested in the probability of an event for one random variable, irrespective of the outcome of another random variable. For example, the probability of X = A for all outcomes of Y . The probability of one event in the presence of all (or a subset of) outcomes of the other random variable is called the marginal probability or the marginal distribution. The marginal probability of one random variable in the presence of additional random variables is referred to as the marginal probability distribution."
   ]
  },
  {
   "cell_type": "markdown",
   "metadata": {},
   "source": []
  }
 ],
 "metadata": {
  "kernelspec": {
   "display_name": "machine-learning-env",
   "language": "python",
   "name": "python3"
  },
  "language_info": {
   "name": "python",
   "version": "3.9.19"
  }
 },
 "nbformat": 4,
 "nbformat_minor": 2
}
