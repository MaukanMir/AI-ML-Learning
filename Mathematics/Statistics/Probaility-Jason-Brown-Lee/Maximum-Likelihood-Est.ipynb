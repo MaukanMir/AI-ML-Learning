{
 "cells": [
  {
   "cell_type": "markdown",
   "metadata": {},
   "source": [
    "# Maximum Likelihood Estimation"
   ]
  },
  {
   "cell_type": "markdown",
   "metadata": {},
   "source": [
    "- Maximum Likelihood Estimation is a probabilistic framework for solving the problem of density estimation.\n",
    "- It involves maximizing a likelihood function in order to find the probability distribution and parameters that best explain the observed data.\n",
    "- It provides a framework for predictive modeling in machine learning where finding model parameters can be framed as an optimization problem."
   ]
  },
  {
   "cell_type": "markdown",
   "metadata": {},
   "source": [
    "## Maximum Likelihood Estimation\n",
    "\n",
    "#### One solution to probability density estimation is referred to as Maximum Likelihood Estimation, or MLE for short. Maximum Likelihood Estimation involves treating the problem as an optimization or search problem, where we seek a set of parameters that results in the best fit for the joint probability of the data sample (X). First, it involves defining a parameter called theta (θ) that defines both the choice of the probability density function and the parameters of that distribution. It may be a vector of numerical values whose values change smoothly and map to different probability distributions and their parameters. In Maximum Likelihood Estimation, we wish to maximize the probability of observing the data from the joint probability distribution given a specific probability distribution and its parameters, stated formally as:\n",
    "\n",
    "- P(X|θ)"
   ]
  },
  {
   "cell_type": "code",
   "execution_count": 1,
   "metadata": {},
   "outputs": [
    {
     "name": "stdout",
     "output_type": "stream",
     "text": [
      "Probability 0.8\n",
      "Odds 4.0\n",
      "Probability 0.8\n"
     ]
    }
   ],
   "source": [
    "# example of converting between probability and odds # define our probability of success\n",
    "prob = 0.8\n",
    "print('Probability %.1f' % prob)\n",
    "# convert probability to odds\n",
    "odds = prob / (1 - prob) \n",
    "print('Odds %.1f' % odds)\n",
    "# convert back to probability \n",
    "prob = odds / (odds + 1) \n",
    "print('Probability %.1f' % prob)"
   ]
  },
  {
   "cell_type": "code",
   "execution_count": 2,
   "metadata": {},
   "outputs": [
    {
     "name": "stdout",
     "output_type": "stream",
     "text": [
      "Probability 0.8\n",
      "Odds 4.0\n",
      "Log-Odds 1.4\n",
      "Probability 0.8\n"
     ]
    }
   ],
   "source": [
    "# example of converting between probability and log-odds\n",
    "from math import log\n",
    "from math import exp\n",
    "# define our probability of success \n",
    "prob = 0.8\n",
    "print('Probability %.1f' % prob)\n",
    "# convert probability to odds\n",
    "\n",
    "odds = prob / (1 - prob) \n",
    "print('Odds %.1f' % odds)\n",
    "# convert odds to log-odds\n",
    "logodds = log(odds)\n",
    "print('Log-Odds %.1f' % logodds)\n",
    "# convert log-odds to a probability \n",
    "prob = 1 / (1 + exp(-logodds)) \n",
    "print('Probability %.1f' % prob)"
   ]
  }
 ],
 "metadata": {
  "kernelspec": {
   "display_name": "machine-learning-env",
   "language": "python",
   "name": "python3"
  },
  "language_info": {
   "codemirror_mode": {
    "name": "ipython",
    "version": 3
   },
   "file_extension": ".py",
   "mimetype": "text/x-python",
   "name": "python",
   "nbconvert_exporter": "python",
   "pygments_lexer": "ipython3",
   "version": "3.9.19"
  }
 },
 "nbformat": 4,
 "nbformat_minor": 2
}
