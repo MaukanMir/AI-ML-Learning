{
 "cells": [
  {
   "cell_type": "markdown",
   "metadata": {},
   "source": [
    "# Maximum Likelihood Estimation"
   ]
  },
  {
   "cell_type": "markdown",
   "metadata": {},
   "source": [
    "- Maximum Likelihood Estimation is a probabilistic framework for solving the problem of density estimation.\n",
    "- It involves maximizing a likelihood function in order to find the probability distribution and parameters that best explain the observed data.\n",
    "- It provides a framework for predictive modeling in machine learning where finding model parameters can be framed as an optimization problem."
   ]
  },
  {
   "cell_type": "markdown",
   "metadata": {},
   "source": [
    "## Maximum Likelihood Estimation\n",
    "\n",
    "#### One solution to probability density estimation is referred to as Maximum Likelihood Estimation, or MLE for short. Maximum Likelihood Estimation involves treating the problem as an optimization or search problem, where we seek a set of parameters that results in the best fit for the joint probability of the data sample (X). First, it involves defining a parameter called theta (θ) that defines both the choice of the probability density function and the parameters of that distribution. It may be a vector of numerical values whose values change smoothly and map to different probability distributions and their parameters. In Maximum Likelihood Estimation, we wish to maximize the probability of observing the data from the joint probability distribution given a specific probability distribution and its parameters, stated formally as:\n",
    "\n",
    "- P(X|θ)"
   ]
  },
  {
   "cell_type": "code",
   "execution_count": 1,
   "metadata": {},
   "outputs": [
    {
     "name": "stdout",
     "output_type": "stream",
     "text": [
      "Probability 0.8\n",
      "Odds 4.0\n",
      "Probability 0.8\n"
     ]
    }
   ],
   "source": [
    "# example of converting between probability and odds # define our probability of success\n",
    "prob = 0.8\n",
    "print('Probability %.1f' % prob)\n",
    "# convert probability to odds\n",
    "odds = prob / (1 - prob) \n",
    "print('Odds %.1f' % odds)\n",
    "# convert back to probability \n",
    "prob = odds / (odds + 1) \n",
    "print('Probability %.1f' % prob)"
   ]
  },
  {
   "cell_type": "code",
   "execution_count": 2,
   "metadata": {},
   "outputs": [
    {
     "name": "stdout",
     "output_type": "stream",
     "text": [
      "Probability 0.8\n",
      "Odds 4.0\n",
      "Log-Odds 1.4\n",
      "Probability 0.8\n"
     ]
    }
   ],
   "source": [
    "# example of converting between probability and log-odds\n",
    "from math import log\n",
    "from math import exp\n",
    "# define our probability of success \n",
    "prob = 0.8\n",
    "print('Probability %.1f' % prob)\n",
    "# convert probability to odds\n",
    "\n",
    "odds = prob / (1 - prob) \n",
    "print('Odds %.1f' % odds)\n",
    "# convert odds to log-odds\n",
    "logodds = log(odds)\n",
    "print('Log-Odds %.1f' % logodds)\n",
    "# convert log-odds to a probability \n",
    "prob = 1 / (1 + exp(-logodds)) \n",
    "print('Probability %.1f' % prob)"
   ]
  },
  {
   "cell_type": "markdown",
   "metadata": {},
   "source": [
    "#### It is common in optimization problems to prefer to minimize the cost function rather than to maximize it. Therefore, the negative of the log-likelihood function is used, referred to generally as a Negative Log-Likelihood (NLL) function.\n"
   ]
  },
  {
   "cell_type": "code",
   "execution_count": 3,
   "metadata": {},
   "outputs": [
    {
     "name": "stdout",
     "output_type": "stream",
     "text": [
      "y=1.0, yhat=0.9, likelihood: 0.900\n",
      "y=1.0, yhat=0.1, likelihood: 0.100\n",
      "y=0.0, yhat=0.1, likelihood: 0.900\n",
      "y=0.0, yhat=0.9, likelihood: 0.100\n"
     ]
    }
   ],
   "source": [
    "# test of Bernoulli likelihood function\n",
    "# likelihood function for Bernoulli distribution\n",
    "def likelihood(y, yhat):\n",
    "  return yhat * y + (1 - yhat) * (1 - y)\n",
    "# test for y=1\n",
    "y, yhat = 1, 0.9\n",
    "print('y=%.1f, yhat=%.1f, likelihood: %.3f' % (y, yhat, likelihood(y, yhat))) \n",
    "y, yhat = 1, 0.1\n",
    "print('y=%.1f, yhat=%.1f, likelihood: %.3f' % (y, yhat, likelihood(y, yhat))) \n",
    "# test for y=0\n",
    "y, yhat = 0, 0.1\n",
    "print('y=%.1f, yhat=%.1f, likelihood: %.3f' % (y, yhat, likelihood(y, yhat))) \n",
    "y, yhat = 0, 0.9\n",
    "print('y=%.1f, yhat=%.1f, likelihood: %.3f' % (y, yhat, likelihood(y, yhat)))"
   ]
  },
  {
   "cell_type": "code",
   "execution_count": 4,
   "metadata": {},
   "outputs": [
    {
     "data": {
      "image/png": "[encoded data removed]",
      "text/plain": [
       "<Figure size 640x480 with 1 Axes>"
      ]
     },
     "metadata": {},
     "output_type": "display_data"
    }
   ],
   "source": [
    "# example of a bimodal constructed from two gaussian processes\n",
    "from numpy import hstack\n",
    "from numpy.random import normal\n",
    "from matplotlib import pyplot\n",
    "# generate a sample\n",
    "X1 = normal(loc=20, scale=5, size=3000)\n",
    "X2 = normal(loc=40, scale=5, size=7000)\n",
    "X = hstack((X1, X2))\n",
    "# plot the histogram\n",
    "pyplot.hist(X, bins=50, density=True)\n",
    "pyplot.show()"
   ]
  },
  {
   "cell_type": "code",
   "execution_count": 6,
   "metadata": {},
   "outputs": [
    {
     "name": "stdout",
     "output_type": "stream",
     "text": [
      "[1 1 1 1 1 1 1 1 1 1 1 1 1 1 1 1 1 1 1 1 1 1 1 1 1 1 0 1 1 1 1 1 1 1 1 1 1\n",
      " 1 1 1 1 1 1 1 1 1 1 1 1 1 1 1 1 1 1 1 1 1 1 1 1 1 1 1 1 1 1 1 1 1 0 1 1 1\n",
      " 1 1 1 1 1 1 1 1 1 1 1 1 1 1 1 1 0 1 1 1 1 1 1 1 1 1]\n",
      "[1 0 0 0 0 0 0 0 0 0 0 1 0 0 0 0 0 0 0 0 0 0 0 0 0 0 0 0 0 0 0 0 0 0 0 0 0\n",
      " 0 0 0 0 0 0 0 0 0 0 0 0 0 0 0 0 0 0 0 0 0 0 0 0 0 0 0 0 0 0 0 0 0 0 0 0 0\n",
      " 0 0 0 0 0 0 0 0 0 0 0 0 0 0 1 0 0 0 0 0 0 0 0 0 0 0]\n"
     ]
    }
   ],
   "source": [
    "# example of fitting a gaussian mixture model with expectation maximization\n",
    "from numpy import hstack\n",
    "from numpy.random import normal\n",
    "from sklearn.mixture import GaussianMixture\n",
    "# generate a sample\n",
    "X1 = normal(loc=20, scale=5, size=3000)\n",
    "X2 = normal(loc=40, scale=5, size=7000)\n",
    "X = hstack((X1, X2))\n",
    "# reshape into a table with one column\n",
    "X = X.reshape((len(X), 1))\n",
    "# fit model\n",
    "model = GaussianMixture(n_components=2, init_params='random') \n",
    "model.fit(X)\n",
    "# predict latent values\n",
    "yhat = model.predict(X)\n",
    "# check latent value for first few points\n",
    "print(yhat[:100])\n",
    "# check latent value for last few points\n",
    "print(yhat[-100:])"
   ]
  }
 ],
 "metadata": {
  "kernelspec": {
   "display_name": "machine-learning-env",
   "language": "python",
   "name": "python3"
  },
  "language_info": {
   "codemirror_mode": {
    "name": "ipython",
    "version": 3
   },
   "file_extension": ".py",
   "mimetype": "text/x-python",
   "name": "python",
   "nbconvert_exporter": "python",
   "pygments_lexer": "ipython3",
   "version": "3.9.19"
  }
 },
 "nbformat": 4,
 "nbformat_minor": 2
}
