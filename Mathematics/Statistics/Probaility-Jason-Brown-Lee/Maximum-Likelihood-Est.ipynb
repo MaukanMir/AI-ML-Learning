{
 "cells": [
  {
   "cell_type": "markdown",
   "metadata": {},
   "source": [
    "# Maximum Likelihood Estimation"
   ]
  },
  {
   "cell_type": "markdown",
   "metadata": {},
   "source": [
    "- Maximum Likelihood Estimation is a probabilistic framework for solving the problem of density estimation.\n",
    "- It involves maximizing a likelihood function in order to find the probability distribution and parameters that best explain the observed data.\n",
    "- It provides a framework for predictive modeling in machine learning where finding model parameters can be framed as an optimization problem."
   ]
  },
  {
   "cell_type": "markdown",
   "metadata": {},
   "source": []
  }
 ],
 "metadata": {
  "kernelspec": {
   "display_name": "machine-learning-env",
   "language": "python",
   "name": "python3"
  },
  "language_info": {
   "name": "python",
   "version": "3.9.19"
  }
 },
 "nbformat": 4,
 "nbformat_minor": 2
}
