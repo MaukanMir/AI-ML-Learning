{
 "cells": [
  {
   "cell_type": "markdown",
   "metadata": {},
   "source": [
    "# Bayes Theorem"
   ]
  },
  {
   "cell_type": "markdown",
   "metadata": {},
   "source": [
    "## Naming The Terms in The Theorem\n",
    "\n",
    "#### The terms in the Bayes Theorem equation are given names depending on the context where the equation is used. It can be helpful to think about the calculation from these different perspectives and help to map your problem onto the equation. Firstly, in general the result P(A|B) is referred to as the posterior probability and P(A) is referred to as the prior probability.\n",
    "\n",
    "- P(A|B): Posterior probability\n",
    "- P(A): Prior probability\n",
    "\n",
    "#### Sometimes P(B|A) is referred to as the likelihood and P(B) is referred to as the evidence.\n",
    "\n",
    "- P(B|A): Likelihood.\n",
    "- P(B): Evidence.\n",
    "\n",
    "## This allows Bayes Theorem to be restated as:\n",
    " - Posterior = Likelihood × Prior / Evidence"
   ]
  },
  {
   "cell_type": "markdown",
   "metadata": {},
   "source": [
    "#### We can make this clear with a Smoke and Fire example. What is the probability that there is fire given that there is smoke, where P(Fire) is the Prior, P(Smoke|Fire) is the Likelihood, and P(Smoke) is the evidence:"
   ]
  },
  {
   "cell_type": "markdown",
   "metadata": {},
   "source": [
    "- P(Fire | Smoke) = P(Smoke | Fire) * P(Fire)  / P(Smoke)"
   ]
  },
  {
   "cell_type": "markdown",
   "metadata": {},
   "source": []
  }
 ],
 "metadata": {
  "language_info": {
   "name": "python"
  }
 },
 "nbformat": 4,
 "nbformat_minor": 2
}
