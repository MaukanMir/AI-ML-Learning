{
 "cells": [
  {
   "cell_type": "markdown",
   "metadata": {},
   "source": [
    "# What is Probability?"
   ]
  },
  {
   "cell_type": "markdown",
   "metadata": {},
   "source": [
    "## Frequentist Probability\n",
    "\n",
    "- The frequentist approach to probability is objective. Events are observed and counted, and their frequencies provide the basis for directly calculating a probability, hence the name frequentist.\n",
    "Probability theory was originally developed to analyze the frequencies of events.\n",
    "\n",
    "## Bayesian Probability\n",
    "\n",
    "#### The Bayesian approach to probability is subjective. Probabilities are assigned to events based on evidence and personal belief and are centered around Bayes’ theorem, hence the name Bayesian. This allows probabilities to be assigned to very infrequent events and events that have not been observed before, unlike frequentist probability.\n",
    "\n",
    "- One big advantage of the Bayesian interpretation is that it can be used to model our uncertainty about events that do not have long term frequencies."
   ]
  }
 ],
 "metadata": {
  "kernelspec": {
   "display_name": "machine-learning-env",
   "language": "python",
   "name": "python3"
  },
  "language_info": {
   "name": "python",
   "version": "3.9.19"
  }
 },
 "nbformat": 4,
 "nbformat_minor": 2
}
