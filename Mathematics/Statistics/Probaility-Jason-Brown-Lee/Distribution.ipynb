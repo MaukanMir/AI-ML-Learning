{
 "cells": [
  {
   "cell_type": "markdown",
   "metadata": {},
   "source": [
    "# Probability Distirbutions"
   ]
  },
  {
   "cell_type": "markdown",
   "metadata": {},
   "source": [
    "##### The variance is the spread of the values of a random variable from the mean. This is typically denoted as a function V ar; for example, V ar(X) is the variance of the random variable X or V ar(f (x)) for the variance of values drawn from the domain of X using the function f (). The square root of the variance normalizes the value and is referred to as the standard deviation. The variance between two variables is called the covariance and summarizes the linear relationship for how two random variables change together.\n",
    "\n",
    "- Expected Value. The average value of a random variable.\n",
    "- Variance. The average spread of values around the expected value."
   ]
  },
  {
   "cell_type": "markdown",
   "metadata": {},
   "source": [
    "## Discrete Probability Distributions\n",
    "#### A discrete probability distribution summarizes the probabilities for a discrete random variable. The probability mass function, or PMF, defines the probability distribution for a discrete random variable. It is a function that assigns a probability for specific discrete values. A discrete probability distribution has a cumulative distribution function, or CDF. This is a function that assigns a probability that a discrete random variable will have a value of less than or equal to a specific discrete value.\n",
    "\n",
    "- Probability Mass Function. Probability for a value for a discrete random variable.\n",
    "- Cumulative Distribution Function. Probability less than or equal to a value for a\n",
    "random variable.\n",
    "\n",
    "## Continuous Probability Distributions\n",
    "#### A continuous probability distribution summarizes the probability for a continuous random variable. The probability distribution function, or PDF, defines the probability distribution for a continuous random variable. Note the difference in the name from the discrete random variable that has a probability mass function, or PMF. Like a discrete probability distribution, the continuous probability distribution also has a cumulative distribution function, or CDF, that defines the probability of a value less than or equal to a specific numerical value from the domain.\n",
    "\n",
    "- Probability Distribution Function. Probability for a value for a continuous random variable.\n",
    "- Cumulative Distribution Function. Probability less than or equal to a value for a random variable."
   ]
  },
  {
   "cell_type": "code",
   "execution_count": 5,
   "metadata": {},
   "outputs": [
    {
     "name": "stdout",
     "output_type": "stream",
     "text": [
      "Total Success: 33\n"
     ]
    }
   ],
   "source": [
    "# example of simulating a binomial process and counting success\n",
    "from numpy.random import binomial\n",
    "import numpy as np\n",
    "# define the parameters of the distribution \n",
    "p = 0.3\n",
    "k = 100\n",
    "# run a single simulation\n",
    "success = binomial(k, p)\n",
    "print('Total Success: %d' % success)"
   ]
  },
  {
   "cell_type": "code",
   "execution_count": 6,
   "metadata": {},
   "outputs": [
    {
     "name": "stdout",
     "output_type": "stream",
     "text": [
      "Mean=30.000, Variance=21.000\n",
      "Sqrt 4.58257569495584\n"
     ]
    }
   ],
   "source": [
    "# calculate moments of a binomial distribution\n",
    "from scipy.stats import binom\n",
    "# define the parameters of the distribution\n",
    "p = 0.3\n",
    "k = 100\n",
    "# calculate moments\n",
    "mean, var, _, _ = binom.stats(k, p, moments='mvsk') \n",
    "print('Mean=%.3f, Variance=%.3f' % (mean, var))\n",
    "print(\"Sqrt\", np.sqrt(var))\n"
   ]
  },
  {
   "cell_type": "markdown",
   "metadata": {},
   "source": [
    "#### We can calculate the moments of this distribution, specifically the expected value or mean and the variance using the binom.stats() SciPy function. Running the example reports the expected value of the distribution, which is 30, as we would expect, as well as the variance of 21, which if we calculate the square root, gives us the standard deviation of about 4.5.\n"
   ]
  },
  {
   "cell_type": "markdown",
   "metadata": {},
   "source": [
    "#### We can use the probability mass function to calculate the likelihood of different numbers of successful outcomes for a sequence of trials, such as 10, 20, 30, to 100. We would expect 30 successful outcomes to have the highest probability."
   ]
  },
  {
   "cell_type": "code",
   "execution_count": 7,
   "metadata": {},
   "outputs": [
    {
     "name": "stdout",
     "output_type": "stream",
     "text": [
      "P of 10 success: 0.000%\n",
      "P of 20 success: 0.758%\n",
      "P of 30 success: 8.678%\n",
      "P of 40 success: 0.849%\n",
      "P of 50 success: 0.001%\n",
      "P of 60 success: 0.000%\n",
      "P of 70 success: 0.000%\n",
      "P of 80 success: 0.000%\n",
      "P of 90 success: 0.000%\n",
      "P of 100 success: 0.000%\n"
     ]
    }
   ],
   "source": [
    "# define the parameters of the distribution\n",
    "p = 0.3\n",
    "k = 100\n",
    "# define the distribution\n",
    "dist = binom(k, p)\n",
    "# calculate the probability of n successes\n",
    "for n in range(10, 110, 10):\n",
    "  print('P of %d success: %.3f%%' % (n, dist.pmf(n)*100))"
   ]
  }
 ],
 "metadata": {
  "kernelspec": {
   "display_name": "machine-learning-env",
   "language": "python",
   "name": "python3"
  },
  "language_info": {
   "codemirror_mode": {
    "name": "ipython",
    "version": 3
   },
   "file_extension": ".py",
   "mimetype": "text/x-python",
   "name": "python",
   "nbconvert_exporter": "python",
   "pygments_lexer": "ipython3",
   "version": "3.9.19"
  }
 },
 "nbformat": 4,
 "nbformat_minor": 2
}
