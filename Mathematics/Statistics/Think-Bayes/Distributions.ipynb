{
 "cells": [
  {
   "cell_type": "markdown",
   "metadata": {},
   "source": [
    "# Distributions"
   ]
  },
  {
   "cell_type": "markdown",
   "metadata": {},
   "source": [
    "## Probability Mass Functions\n",
    "\n",
    "#### If the outcomes in a distribution are discrete, we can describe the distribution with a probability mass function, or PMF, which is a function that maps from each possible outcome to its probability.\n",
    "#### This distribution, which contains the prior probability for each hypothesis, is called—wait for it—the prior distribution.\n",
    "\n",
    "#### The quantity with the highest posterior probability is called the MAP, which stands for “maximum a posteori probability”, where “a posteori” is unnecessary Latin for “posterior”."
   ]
  },
  {
   "cell_type": "markdown",
   "metadata": {},
   "source": [
    "## Example 3-1.\n",
    "#### Suppose I have a box with a 6-sided die, an 8-sided die, and a 12-sided die. I choose one of the dice at random, roll it four times, and get 1, 3, 5, and 7. What is the probability that I chose the 8-sided die? You can use the update_dice function or do the update yourself."
   ]
  },
  {
   "cell_type": "markdown",
   "metadata": {},
   "source": [
    "#### Step 1 Define the Hypotheses\n",
    "- H6 The hypothesis that the 6-sided die was chosen.\n",
    "- H8 The hypothesis that the 8-sided die was chosen.\n",
    "- H12 The hypothesis that the 12-sided die was chosen.\n",
    "\n",
    "#### Assign Prior Probabilities\n",
    "- P(H6) = 1/3\n",
    "- P(H8) = 1/3\n",
    "- P(H12) = 1/3\n",
    "\n",
    "#### Step 3: Calculate the Likelihood of Observing the Data Under Each Hypothesis\n",
    "\n",
    "- P(Data|H6) = 0\n",
    "- P(Data|H8) = (1/8)^4 = 1/4096\n",
    "- P(Data |H12) = (1/12)^4 = 1/20736\n",
    "\n",
    "#### Step 4:\n",
    "- P(H | Data) = P(Data|H) * P(H) / P(D)\n",
    "\n",
    "- P(Data) = \n"
   ]
  },
  {
   "cell_type": "code",
   "execution_count": null,
   "metadata": {},
   "outputs": [],
   "source": [
    "##"
   ]
  }
 ],
 "metadata": {
  "kernelspec": {
   "display_name": "machine-learning-env",
   "language": "python",
   "name": "python3"
  },
  "language_info": {
   "name": "python",
   "version": "3.9.19"
  }
 },
 "nbformat": 4,
 "nbformat_minor": 2
}
