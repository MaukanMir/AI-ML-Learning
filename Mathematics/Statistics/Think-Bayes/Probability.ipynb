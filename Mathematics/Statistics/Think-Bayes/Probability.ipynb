{
 "cells": [
  {
   "cell_type": "markdown",
   "metadata": {},
   "source": [
    "# Probability"
   ]
  },
  {
   "cell_type": "markdown",
   "metadata": {},
   "source": [
    "## Conditional Probability Is Not Commutative\n",
    "\n",
    "- conditional probability is not commutative; that is, conditional(A, B) != conditional(B, A)"
   ]
  },
  {
   "cell_type": "markdown",
   "metadata": {},
   "source": [
    "## Laws of Probability\n",
    "\n",
    "#### In the next few sections, we’ll derive three relationships between conjunction and conditional probability:\n",
    "\n",
    "- Theorem 1: Using a conjunction to compute a conditional probability.\n",
    "- Theorem 2: Using a conditional probability to compute a conjunction.\n",
    "- Theorem 3: Using conditional(A, B) to compute conditional(B, A).\n",
    "- Theorem 3 is also known as Bayes’s theorem.\n",
    "\n",
    "## I’ll write these theorems using mathematical notation for probability:\n",
    "\n",
    "- P(A) is the probability of proposition A\n",
    "- P(A and B) is the probability of the conjunction of A and B that is, the probability that both are true\n",
    "- P(A|B) is the conditional probability of A given that B is true. The vertical line between A and B is pronounced \"given\"."
   ]
  },
  {
   "cell_type": "markdown",
   "metadata": {},
   "source": [
    "- P(A|B) = P(A and B) / P(B)\n",
    "- P(A and B) = P(B) P(A|B)"
   ]
  },
  {
   "cell_type": "markdown",
   "metadata": {},
   "source": [
    "## The Law of Total Probability\n",
    "\n",
    "#### In addition to these three theorems, there’s one more thing we’ll need to do Bayesian statistics: the law of total probability. Here’s one form of the law, expressed in mathematical notation:\n",
    "\n",
    "- P(A) = P(B1 and A) + P(B2 and A)\n",
    "- Mutually exclusive, which means that only one of them can be true.\n",
    "- Collectively exhaustive, which means that one of them must be true."
   ]
  },
  {
   "cell_type": "markdown",
   "metadata": {},
   "source": []
  }
 ],
 "metadata": {
  "kernelspec": {
   "display_name": "machine-learning-env",
   "language": "python",
   "name": "python3"
  },
  "language_info": {
   "name": "python",
   "version": "3.9.19"
  }
 },
 "nbformat": 4,
 "nbformat_minor": 2
}
