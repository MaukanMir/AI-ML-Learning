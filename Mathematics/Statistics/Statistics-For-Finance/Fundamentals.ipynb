{
 "cells": [
  {
   "cell_type": "markdown",
   "metadata": {},
   "source": [
    "# Fundamentals"
   ]
  },
  {
   "cell_type": "markdown",
   "metadata": {},
   "source": [
    "## Interest rates\n",
    "#### Basically, an interest rate is the payment that the borrower (debtor) pays to the lender (creditor) at the end of each term for the right to use an amount that rightfully belongs to the lender.\n",
    "\n",
    "## Annuities\n",
    "#### An annuity is defined as a series of equal payments that are due at some equidistant payment dates. Each payment consists of a principal and an interest. The principal accounts for the actual loan, whereas the interest accounts for the expenses associated with the loan. As we shall see in the following, Danish Government bonds and house loans, etc., are examples of annuities.\n",
    "\n",
    "#### Consider an annuity with n terms. The duration of an annuity is the time elapsed from the time the loan contract has been negotiated to the last payment has been made (the n'th term). The first payments consist mainly of the principal, whereas the last payments consist mostly of the interest. Do note that the n payments are equal, but the distribution between principal and interest varies with time. The first payment of unit of account is made at the end of the first term.\n",
    "\n",
    "##  Future and present value of a single payment\n",
    "#### Assume that an initial capital c0 is deposited in a bank account with the interest rate r in n terms. It is fairly obvious that the future value of this account is:\n",
    "- cn = c0(1+r)^n"
   ]
  },
  {
   "cell_type": "markdown",
   "metadata": {},
   "source": [
    "##  Cash flows\n",
    "#### In this section we will extend the annuities (with equal payments) from the previous section to more general cash flows, where the payments at time i, i = 1,...,n, and the interest rates ri, may differ. Consider the cash flow diagram in Figure 2.4, which should be interpreted as follows: An initial investment c0 is made at time t = 0. At time t = 1, an income c1 is obtained, which should be discounted with the interest rate r1 to determine its present value, at time t = 2, the income c2 should be discounted with the interest rate r2 for two time periods, etc."
   ]
  },
  {
   "cell_type": "markdown",
   "metadata": {},
   "source": []
  }
 ],
 "metadata": {
  "language_info": {
   "name": "python"
  }
 },
 "nbformat": 4,
 "nbformat_minor": 2
}
