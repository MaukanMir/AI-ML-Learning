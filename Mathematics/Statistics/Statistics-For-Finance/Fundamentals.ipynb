{
 "cells": [
  {
   "cell_type": "markdown",
   "metadata": {},
   "source": [
    "# Fundamentals"
   ]
  },
  {
   "cell_type": "markdown",
   "metadata": {},
   "source": [
    "## Interest rates\n",
    "#### Basically, an interest rate is the payment that the borrower (debtor) pays to the lender (creditor) at the end of each term for the right to use an amount that rightfully belongs to the lender.\n",
    "\n",
    "##  Future and present value of a single payment\n",
    "#### Assume that an initial capital c0 is deposited in a bank account with the interest rate r in n terms. It is fairly obvious that the future value of this account is:\n",
    "- cn = c0(1+r)^n"
   ]
  },
  {
   "cell_type": "markdown",
   "metadata": {},
   "source": []
  }
 ],
 "metadata": {
  "language_info": {
   "name": "python"
  }
 },
 "nbformat": 4,
 "nbformat_minor": 2
}
