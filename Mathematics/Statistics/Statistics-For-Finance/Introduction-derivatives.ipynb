{
 "cells": [
  {
   "cell_type": "markdown",
   "metadata": {},
   "source": [
    "# Introduction to financial derivatives"
   ]
  },
  {
   "cell_type": "markdown",
   "metadata": {},
   "source": [
    "## European Call Option\n",
    "\n",
    "#### (European call option). A European call option on the amount of Y USD with exercise date T and strike or exercise price K is a contract, signed at time t = 0, that\n",
    "\n",
    "- gives the holder of the contract the right to buy an amount Y dollars at the exchange rate K [DKK/USD] at time t = T, and\n",
    "- allows the holder of the contract not to buy any dollars if the holder of the contract does not want to.\n",
    "\n",
    "#### Whereas the forward contract was, per definition, free, the option has a price. This price is determined by supply and demand on the option markets and it depends on the exercise date T and the strike price K. A higher strike price K gives rise to a lower price on the option, so IDEA is faced with the interesting problem of determining whether it is worth buying the option or not.\n",
    "\n",
    "- An option is a contingent claim which means that the holder of the option owns an uncertain claim on an underlying asset and that the value of the contract is contingent (conditional) on the future development of the price of the underlying asset.\n",
    "- An option is a financial derivative as it exists solely in terms of the underlying asset and its value is derived from the (expected) value of this asset (in our case USD)."
   ]
  },
  {
   "cell_type": "markdown",
   "metadata": {},
   "source": []
  }
 ],
 "metadata": {
  "language_info": {
   "name": "python"
  }
 },
 "nbformat": 4,
 "nbformat_minor": 2
}
