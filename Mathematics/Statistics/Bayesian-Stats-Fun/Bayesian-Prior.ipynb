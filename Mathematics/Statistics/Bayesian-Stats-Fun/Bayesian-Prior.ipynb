{
 "cells": [
  {
   "cell_type": "markdown",
   "metadata": {},
   "source": [
    "# BAYESIAN PRIORS AND WORKING WITH PROBABILITY DISTRIBUTIONS"
   ]
  },
  {
   "cell_type": "markdown",
   "metadata": {},
   "source": [
    "#### The formula for the posterior is actually very simple and intuitive. Given that we have only a likelihood and a prior, we can use the proportional form of Bayes’ theorem that we discussed in the previous chapter:\n",
    "\n",
    "- Posterior ∝ Likelihood × Prior\n",
    "\n",
    "#### Remember, using this proportional form of Bayes’ theorem means that our posterior distribution doesn’t necessarily sum to 1. But we’re lucky because there’s an easy way to combine beta distributions that will give us a normalized posterior when all we have is the likelihood and the prior."
   ]
  },
  {
   "cell_type": "markdown",
   "metadata": {},
   "source": [
    "## Exercise 1:\n",
    "\n",
    "#### A friend finds a coin on the ground, flips it, and gets six heads in a row and then one tails. Give the beta distribution that describes this. Use integration to determine the probability that the true rate of flipping heads is between 0.4 and 0.6, reflecting that the coin is reasonably fair.\n",
    "\n",
    "- Beta(1, 1) for the prior sice we don't have any information to go off of.\n",
    "- Posterior = Beta(alpha-prior + heads, Beta-prior + tails)"
   ]
  },
  {
   "cell_type": "code",
   "execution_count": 2,
   "metadata": {},
   "outputs": [
    {
     "name": "stdout",
     "output_type": "stream",
     "text": [
      "The probability that the true rate of flipping heads is between 0.4 and 0.6 is approximately 0.0426\n"
     ]
    }
   ],
   "source": [
    "import scipy.stats as stats\n",
    "\n",
    "alpha, beta = 6, 1\n",
    "\n",
    "dist = stats.beta(alpha, beta)\n",
    "\n",
    "p_low, p_high = 0.4, 0.6\n",
    "prob = dist.cdf(p_high) - dist.cdf(p_low)\n",
    "\n",
    "print(f\"The probability that the true rate of flipping heads is between 0.4 and 0.6 is approximately {prob:.4f}\")"
   ]
  },
  {
   "cell_type": "markdown",
   "metadata": {},
   "source": [
    "## Exercise 2\n",
    "#### Come up with a prior probability that the coin is fair. Use a beta distribution such that there is at least a 95 percent chance that the true rate of flipping heads is between 0.4 and 0.6."
   ]
  },
  {
   "cell_type": "code",
   "execution_count": 3,
   "metadata": {},
   "outputs": [
    {
     "name": "stdout",
     "output_type": "stream",
     "text": [
      "Alpha = Beta = 2: Probability = 0.29600\n",
      "Alpha = Beta = 3: Probability = 0.36512\n",
      "Alpha = Beta = 4: Probability = 0.42042\n",
      "Alpha = Beta = 5: Probability = 0.46686\n",
      "Alpha = Beta = 6: Probability = 0.50700\n",
      "Alpha = Beta = 7: Probability = 0.54231\n",
      "Alpha = Beta = 8: Probability = 0.57379\n",
      "Alpha = Beta = 9: Probability = 0.60213\n",
      "Alpha = Beta = 10: Probability = 0.62782\n",
      "Alpha = Beta = 11: Probability = 0.65124\n",
      "Alpha = Beta = 12: Probability = 0.67271\n",
      "Alpha = Beta = 13: Probability = 0.69246\n",
      "Alpha = Beta = 14: Probability = 0.71070\n",
      "Alpha = Beta = 15: Probability = 0.72757\n",
      "Alpha = Beta = 16: Probability = 0.74324\n",
      "Alpha = Beta = 17: Probability = 0.75780\n",
      "Alpha = Beta = 18: Probability = 0.77137\n",
      "Alpha = Beta = 19: Probability = 0.78404\n",
      "Alpha = Beta = 20: Probability = 0.79588\n",
      "Alpha = Beta = 21: Probability = 0.80697\n",
      "Alpha = Beta = 22: Probability = 0.81735\n",
      "Alpha = Beta = 23: Probability = 0.82710\n",
      "Alpha = Beta = 24: Probability = 0.83625\n",
      "Alpha = Beta = 25: Probability = 0.84485\n",
      "Alpha = Beta = 26: Probability = 0.85294\n",
      "Alpha = Beta = 27: Probability = 0.86056\n",
      "Alpha = Beta = 28: Probability = 0.86774\n",
      "Alpha = Beta = 29: Probability = 0.87451\n",
      "Alpha = Beta = 30: Probability = 0.88090\n",
      "Alpha = Beta = 31: Probability = 0.88692\n",
      "Alpha = Beta = 32: Probability = 0.89262\n",
      "Alpha = Beta = 33: Probability = 0.89800\n",
      "Alpha = Beta = 34: Probability = 0.90309\n",
      "Alpha = Beta = 35: Probability = 0.90790\n",
      "Alpha = Beta = 36: Probability = 0.91245\n",
      "Alpha = Beta = 37: Probability = 0.91676\n",
      "Alpha = Beta = 38: Probability = 0.92085\n",
      "Alpha = Beta = 39: Probability = 0.92471\n",
      "Alpha = Beta = 40: Probability = 0.92838\n",
      "Alpha = Beta = 41: Probability = 0.93185\n",
      "Alpha = Beta = 42: Probability = 0.93515\n",
      "Alpha = Beta = 43: Probability = 0.93827\n",
      "Alpha = Beta = 44: Probability = 0.94124\n",
      "Alpha = Beta = 45: Probability = 0.94406\n",
      "Alpha = Beta = 46: Probability = 0.94673\n",
      "Alpha = Beta = 47: Probability = 0.94926\n",
      "Alpha = Beta = 48: Probability = 0.95167\n"
     ]
    }
   ],
   "source": [
    "def find_beta_parameters():\n",
    "    alpha_beta = 2\n",
    "    while True:\n",
    "        beta_dist = stats.beta(alpha_beta, alpha_beta)\n",
    "        prob = beta_dist.cdf(0.6) - beta_dist.cdf(0.4)\n",
    "        print(f\"Alpha = Beta = {alpha_beta}: Probability = {prob:.5f}\")\n",
    "        if prob >= 0.95:\n",
    "            break\n",
    "        alpha_beta += 1\n",
    "\n",
    "find_beta_parameters()"
   ]
  },
  {
   "cell_type": "markdown",
   "metadata": {},
   "source": [
    "## Exercise 3:\n",
    "#### Now see how many more heads (with no more tails) it would take to convince you that there is a reasonable chance that the coin is not fair. In this case, let’s say that this means that our belief in the rate of the coin being between 0.4 and 0.6 drops below 0.5."
   ]
  },
  {
   "cell_type": "code",
   "execution_count": 4,
   "metadata": {},
   "outputs": [
    {
     "name": "stdout",
     "output_type": "stream",
     "text": [
      "Initial probability of p between 0.4 and 0.6: 0.79588\n",
      "After 10 more heads, the probability of p between 0.4 and 0.6 is 0.49013, which is below 50%.\n"
     ]
    }
   ],
   "source": [
    "\n",
    "alpha = beta = 20\n",
    "heads_count = 0\n",
    "\n",
    "beta_dist = stats.beta(alpha, beta)\n",
    "initial_prob = beta_dist.cdf(0.6) - beta_dist.cdf(0.4)\n",
    "\n",
    "print(f\"Initial probability of p between 0.4 and 0.6: {initial_prob:.5f}\")\n",
    "\n",
    "while True:\n",
    "    heads_count += 1\n",
    "\n",
    "    new_alpha = alpha + heads_count\n",
    "    beta_dist = stats.beta(new_alpha, beta)\n",
    "    new_prob = beta_dist.cdf(0.6) - beta_dist.cdf(0.4)\n",
    "\n",
    "    if new_prob < 0.5:\n",
    "        print(f\"After {heads_count} more heads, the probability of p between 0.4 and 0.6 is {new_prob:.5f}, which is below 50%.\")\n",
    "        break"
   ]
  },
  {
   "cell_type": "code",
   "execution_count": null,
   "metadata": {},
   "outputs": [],
   "source": []
  }
 ],
 "metadata": {
  "kernelspec": {
   "display_name": "machine-learning-env",
   "language": "python",
   "name": "python3"
  },
  "language_info": {
   "codemirror_mode": {
    "name": "ipython",
    "version": 3
   },
   "file_extension": ".py",
   "mimetype": "text/x-python",
   "name": "python",
   "nbconvert_exporter": "python",
   "pygments_lexer": "ipython3",
   "version": "3.9.19"
  }
 },
 "nbformat": 4,
 "nbformat_minor": 2
}
