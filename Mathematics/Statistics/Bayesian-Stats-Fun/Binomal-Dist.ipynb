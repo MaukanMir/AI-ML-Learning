{
 "cells": [
  {
   "cell_type": "markdown",
   "metadata": {},
   "source": [
    "# CREATING A BINOMIAL PROBABILITY DISTRIBUTION"
   ]
  },
  {
   "cell_type": "markdown",
   "metadata": {},
   "source": [
    "#### The distribution you’ll learn about here is the binomial distribution, used to calculate the probability of a certain number of successful outcomes, given a number of trials and the probability of the successful outcome. The “bi” in the term binomial refers to the two possible outcomes that we’re concerned with: an event happening and an event not happening. If there are more than two outcomes, the distribution is called multinomial. Example problems that follow a binomial distribution include the probability of:\n",
    "\n",
    "- Flipping two heads in three coin tosses\n",
    "- Buying 1 million lottery tickets and winning at least once\n",
    "- Rolling fewer than three 20s in 10 rolls of a 20-sided die"
   ]
  },
  {
   "cell_type": "markdown",
   "metadata": {},
   "source": [
    "#### Each of these problems shares a similar structure. Indeed, all binomial distributions involve three parameters:\n",
    "\n",
    "- k The number of outcomes we care about\n",
    "- n The total number of trials\n",
    "- p The probability of the event happening\n",
    "\n",
    "#### These parameters are the inputs to our distribution. So, for example, when we’re calculating the probability of flipping two heads in three coin tosses:\n",
    "\n",
    "- k = 2, the number of events we care about, in this case flipping a heads\n",
    "- n = 3, the number times the coin is flipped\n",
    "- p = 1/2, the probability of flipping a heads in a coin toss\n",
    "\n",
    "#### For the example of three coin tosses, we would write B(2; 3, 1/2). The B is short for binomial distribution. Notice that the k is separated from the other parameters by a semicolon. This is because when we are talking about a distribution of values, we usually care about all values of k for a fixed n and p. So B(k; n, p) denotes each value in our distribution, but the entire distribution is usually referred to by simply B(n, p)."
   ]
  },
  {
   "cell_type": "markdown",
   "metadata": {},
   "source": []
  }
 ],
 "metadata": {
  "kernelspec": {
   "display_name": "machine-learning-env",
   "language": "python",
   "name": "python3"
  },
  "language_info": {
   "name": "python",
   "version": "3.9.19"
  }
 },
 "nbformat": 4,
 "nbformat_minor": 2
}
