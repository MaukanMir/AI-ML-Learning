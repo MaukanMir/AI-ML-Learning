{
 "cells": [
  {
   "cell_type": "markdown",
   "metadata": {},
   "source": [
    "# CREATING A BINOMIAL PROBABILITY DISTRIBUTION"
   ]
  },
  {
   "cell_type": "markdown",
   "metadata": {},
   "source": [
    "#### The distribution you’ll learn about here is the binomial distribution, used to calculate the probability of a certain number of successful outcomes, given a number of trials and the probability of the successful outcome. The “bi” in the term binomial refers to the two possible outcomes that we’re concerned with: an event happening and an event not happening. If there are more than two outcomes, the distribution is called multinomial. Example problems that follow a binomial distribution include the probability of:\n",
    "\n",
    "- Flipping two heads in three coin tosses\n",
    "- Buying 1 million lottery tickets and winning at least once\n",
    "- Rolling fewer than three 20s in 10 rolls of a 20-sided die"
   ]
  },
  {
   "cell_type": "markdown",
   "metadata": {},
   "source": [
    "#### Each of these problems shares a similar structure. Indeed, all binomial distributions involve three parameters:\n",
    "\n",
    "- k The number of outcomes we care about\n",
    "- n The total number of trials\n",
    "- p The probability of the event happening\n",
    "\n",
    "#### These parameters are the inputs to our distribution. So, for example, when we’re calculating the probability of flipping two heads in three coin tosses:\n",
    "\n",
    "- k = 2, the number of events we care about, in this case flipping a heads\n",
    "- n = 3, the number times the coin is flipped\n",
    "- p = 1/2, the probability of flipping a heads in a coin toss\n",
    "\n",
    "#### For the example of three coin tosses, we would write B(2; 3, 1/2). The B is short for binomial distribution. Notice that the k is separated from the other parameters by a semicolon. This is because when we are talking about a distribution of values, we usually care about all values of k for a fixed n and p. So B(k; n, p) denotes each value in our distribution, but the entire distribution is usually referred to by simply B(n, p)."
   ]
  },
  {
   "cell_type": "markdown",
   "metadata": {},
   "source": [
    "#### There is a special operation in combinatorics, called the binomial coefficient, that represents counting the number of ways we can select k from n—that is, selecting the outcomes we care about from the total number of trials. The notation for the binomial coefficient looks like this:\n",
    "\n",
    "(\n",
    " n\n",
    " k\n",
    "  )\n",
    "\n",
    "  #### We read this expression as “n choose k.” So, for our example, we would represent “in three tosses choose two heads” as:\n",
    "\n",
    "  #### ( 3  2 )"
   ]
  },
  {
   "cell_type": "markdown",
   "metadata": {},
   "source": [
    "#### In this chapter we saw that we can use our rules of probability (combined with a trick from combinatorics) to create a general rule that solves an entire class of problems. Any problem that involves wanting to determine the probability of k outcomes in n trials, where the probability of the outcomes is p, we can solve easily using the binomial distribution"
   ]
  },
  {
   "cell_type": "markdown",
   "metadata": {},
   "source": [
    "## Exercise 1: What are the parameters of the binomial distribution for the probability of rolling either a 1 or a 20 on a 20-sided die, if we roll the die 12 times?"
   ]
  },
  {
   "cell_type": "markdown",
   "metadata": {},
   "source": [
    "#### n = 12, k = 2, P(1/20) + P(1/20) = 1/10"
   ]
  },
  {
   "cell_type": "markdown",
   "metadata": {},
   "source": [
    "## Exercise 2:\n",
    "#### There are four aces in a deck of 52 cards. If you pull a card, return the card, then reshuffle and pull a card again, how many ways can you pull just one ace in five pulls?\n",
    "\n",
    "#### n = 5, k = 1, p = 4/52 = 1/13"
   ]
  },
  {
   "cell_type": "markdown",
   "metadata": {},
   "source": [
    "## Exercise 3:\n",
    "\n",
    "#### For the example in question 2, what is the probability of pulling five aces in 10 pulls (remember the card is shuffled back in the deck when it is pulled)?\n",
    "\n",
    "#### n = 10, k = 5, p = 1/13"
   ]
  },
  {
   "cell_type": "code",
   "execution_count": 3,
   "metadata": {},
   "outputs": [
    {
     "data": {
      "text/plain": [
       "0.0004548552879040865"
      ]
     },
     "execution_count": 3,
     "metadata": {},
     "output_type": "execute_result"
    }
   ],
   "source": [
    "from scipy.stats import binom\n",
    "\n",
    "n = 10\n",
    "k = 5\n",
    "p = 1/13\n",
    "\n",
    "probability = binom.pmf(k, n, p)\n",
    "probability"
   ]
  },
  {
   "cell_type": "markdown",
   "metadata": {},
   "source": [
    "## Exercise 4:\n",
    "#### When you’re searching for a new job, it’s always helpful to have more than one offer on the table so you can use it in negotiations. If you have a 1/5 probability of receiving a job offer when you interview, and you interview with seven companies in a month, what is the probability you’ll have at least two competing offers by the end of that month?"
   ]
  },
  {
   "cell_type": "code",
   "execution_count": 7,
   "metadata": {},
   "outputs": [
    {
     "name": "stdout",
     "output_type": "stream",
     "text": [
      "0.4232832000000001\n"
     ]
    }
   ],
   "source": [
    "zero_offer = 0\n",
    "one_offer = 1\n",
    "p = 1/5\n",
    "n = 7\n",
    "\n",
    "prob_zero_offers = binom.pmf(zero_offer, n, p)\n",
    "prob_1_offer = binom.pmf(one_offer, n, p)\n",
    "atleast_2offers = 1 - (prob_zero_offers + prob_1_offer)\n",
    "\n",
    "print(atleast_2offers)"
   ]
  },
  {
   "cell_type": "markdown",
   "metadata": {},
   "source": [
    "## Exercise 5:\n",
    "#### You get a bunch of recruiter emails and find out you have 25 interviews lined up in the next month. Unfortunately, you know this will leave you exhausted, and the probability of getting an offer will drop to 1/10 if you’re tired. You really don’t want to go on this many interviews unless you are at least twice as likely to get at least two competing offers. Are you more likely to get at least two offers if you go for 25 interviews, or stick to just 7?\n",
    "\n"
   ]
  },
  {
   "cell_type": "code",
   "execution_count": 8,
   "metadata": {},
   "outputs": [
    {
     "name": "stdout",
     "output_type": "stream",
     "text": [
      "0.7287940935386334\n"
     ]
    }
   ],
   "source": [
    "zero_offer = 0\n",
    "one_offer = 1\n",
    "p = 1/10\n",
    "n = 25\n",
    "\n",
    "prob_zero_offers = binom.pmf(zero_offer, n, p)\n",
    "prob_1_offer = binom.pmf(one_offer, n, p)\n",
    "atleast_2offers = 1 - (prob_zero_offers + prob_1_offer)\n",
    "\n",
    "print(atleast_2offers)"
   ]
  }
 ],
 "metadata": {
  "kernelspec": {
   "display_name": "machine-learning-env",
   "language": "python",
   "name": "python3"
  },
  "language_info": {
   "codemirror_mode": {
    "name": "ipython",
    "version": 3
   },
   "file_extension": ".py",
   "mimetype": "text/x-python",
   "name": "python",
   "nbconvert_exporter": "python",
   "pygments_lexer": "ipython3",
   "version": "3.9.19"
  }
 },
 "nbformat": 4,
 "nbformat_minor": 2
}
