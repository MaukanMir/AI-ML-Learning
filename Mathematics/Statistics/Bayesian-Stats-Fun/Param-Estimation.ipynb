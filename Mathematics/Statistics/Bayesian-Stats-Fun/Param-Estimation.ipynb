{
 "cells": [
  {
   "cell_type": "markdown",
   "metadata": {},
   "source": [
    "# INTRODUCTION TO AVERAGING AND PARAMETER ESTIMATION"
   ]
  },
  {
   "cell_type": "markdown",
   "metadata": {},
   "source": [
    "####  we have an unknown value we want to estimate, and we can use information we have observed to make a guess. We refer to these unknown values as parameters, and the process of making the best guess about these parameters as parameter estimation."
   ]
  },
  {
   "cell_type": "markdown",
   "metadata": {},
   "source": [
    "## Defining Expectation, Mean, and Averaging\n",
    "\n",
    "#### What we’ve arrived at here is formally called the expectation or mean of our data. It is simply the sum of each value weighted by its probability. If we denote each of our measurements as xi and the probability of each measurement as pi, we mathematically define the mean—which is generally represented by μ (the lowercase Greek letter mu)—as follows:\n",
    "\n",
    "![Sample Image](/Users/maukanmir/Documents/Machine-Learning/AI-ML-Textbooks/AI-ML-Learning/images/mean-avg.jpg)"
   ]
  },
  {
   "cell_type": "markdown",
   "metadata": {},
   "source": [
    "## Means for Measurement vs. Means for Summary\n",
    "#### We’ve been using our mean to estimate a true measurement from a distribution of observations with some added error. But the mean is often used as a way to summarize a set of data. For example, we might refer to things like:\n",
    "\n",
    "- The mean height of a person\n",
    "- The average price of a home\n",
    "- The average age of a student"
   ]
  },
  {
   "cell_type": "markdown",
   "metadata": {},
   "source": [
    "#### A fundamental question you should always ask yourself when averaging data is: “What exactly am I trying to measure and what does this value really mean?” For our snowfall example, the answer is easy: we’re trying to estimate how much snow actually fell last night before the wind blew it around. However, when we’re measuring the “average height,” the answer is less clear. There is no such thing as an average person, and the differences in heights we observe aren’t errors—they’re truly different heights. A person isn’t 5’5” because part of their height drifted onto a 6’3” person!"
   ]
  },
  {
   "cell_type": "code",
   "execution_count": null,
   "metadata": {},
   "outputs": [],
   "source": [
    "## "
   ]
  }
 ],
 "metadata": {
  "kernelspec": {
   "display_name": "machine-learning-env",
   "language": "python",
   "name": "python3"
  },
  "language_info": {
   "name": "python",
   "version": "3.9.19"
  }
 },
 "nbformat": 4,
 "nbformat_minor": 2
}
