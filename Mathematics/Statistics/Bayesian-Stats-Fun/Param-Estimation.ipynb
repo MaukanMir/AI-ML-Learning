{
 "cells": [
  {
   "cell_type": "markdown",
   "metadata": {},
   "source": [
    "# INTRODUCTION TO AVERAGING AND PARAMETER ESTIMATION"
   ]
  },
  {
   "cell_type": "markdown",
   "metadata": {},
   "source": [
    "####  we have an unknown value we want to estimate, and we can use information we have observed to make a guess. We refer to these unknown values as parameters, and the process of making the best guess about these parameters as parameter estimation."
   ]
  },
  {
   "cell_type": "markdown",
   "metadata": {},
   "source": [
    "## Defining Expectation, Mean, and Averaging\n",
    "\n",
    "#### What we’ve arrived at here is formally called the expectation or mean of our data. It is simply the sum of each value weighted by its probability. If we denote each of our measurements as xi and the probability of each measurement as pi, we mathematically define the mean—which is generally represented by μ (the lowercase Greek letter mu)—as follows:\n",
    "\n",
    "![Sample Image](/Users/maukanmir/Documents/Machine-Learning/AI-ML-Textbooks/AI-ML-Learning/images/mean-avg.jpg)"
   ]
  },
  {
   "cell_type": "markdown",
   "metadata": {},
   "source": [
    "## Means for Measurement vs. Means for Summary\n",
    "#### We’ve been using our mean to estimate a true measurement from a distribution of observations with some added error. But the mean is often used as a way to summarize a set of data. For example, we might refer to things like:\n",
    "\n",
    "- The mean height of a person\n",
    "- The average price of a home\n",
    "- The average age of a student"
   ]
  },
  {
   "cell_type": "markdown",
   "metadata": {},
   "source": [
    "#### A fundamental question you should always ask yourself when averaging data is: “What exactly am I trying to measure and what does this value really mean?” For our snowfall example, the answer is easy: we’re trying to estimate how much snow actually fell last night before the wind blew it around. However, when we’re measuring the “average height,” the answer is less clear. There is no such thing as an average person, and the differences in heights we observe aren’t errors—they’re truly different heights. A person isn’t 5’5” because part of their height drifted onto a 6’3” person!"
   ]
  },
  {
   "cell_type": "markdown",
   "metadata": {},
   "source": [
    "## Exercise 1:\n",
    "#### It’s possible to get errors that don’t quite cancel out the way we want. In the Fahrenheit temperature scale, 98.6 degrees is the normal body temperature and 100.4 degrees is the typical threshold for a fever. Say you are taking care of a child that feels warm and seems sick, but you take repeated readings from the thermometer and they all read between 99.5 and 100.0 degrees: warm, but not quite a fever. You try the thermometer yourself and get several readings between 97.5 and 98. What could be wrong with the thermometer?\n",
    "\n",
    "#### It looks like the thermometer might be giving biased measurements that tend to be off by 1 degree F. If you added 1 degree to your results, you’d see that they were between 98.5 and 99, which seems correct for someone that normally has a 98.6 degree body temperature."
   ]
  },
  {
   "cell_type": "code",
   "execution_count": null,
   "metadata": {},
   "outputs": [],
   "source": [
    "## "
   ]
  }
 ],
 "metadata": {
  "kernelspec": {
   "display_name": "machine-learning-env",
   "language": "python",
   "name": "python3"
  },
  "language_info": {
   "name": "python",
   "version": "3.9.19"
  }
 },
 "nbformat": 4,
 "nbformat_minor": 2
}
