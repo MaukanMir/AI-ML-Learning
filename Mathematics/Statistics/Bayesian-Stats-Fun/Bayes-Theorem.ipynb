{
 "cells": [
  {
   "cell_type": "markdown",
   "metadata": {},
   "source": [
    "# BAYES’ THEOREM WITH LEGO"
   ]
  },
  {
   "cell_type": "markdown",
   "metadata": {},
   "source": [
    "#### Conceptually, Bayes’ theorem follows from intuition, but that doesn’t mean that the formalization of Bayes’ theorem is obvious. The benefit of our mathematical work is that it extracts reason out of intuition. We’ve confirmed that our original, intuitive beliefs are consistent, and now we have a powerful new tool to deal with problems in probability that are more complicated than LEGO bricks."
   ]
  },
  {
   "cell_type": "markdown",
   "metadata": {},
   "source": [
    "## Exercise 1\n",
    "\n",
    "#### Kansas City, despite its name, sits on the border of two US states: Missouri and Kansas. The Kansas City metropolitan area consists of 15 counties, 9 in Missouri and 6 in Kansas. The entire state of Kansas has 105 counties and Missouri has 114. Use Bayes’ theorem to calculate the probability that a relative who just moved to a county in the Kansas City metropolitan area also lives in a county in Kansas. Make sure to show P(Kansas) (assuming your relative either lives in Kansas or Missouri), P(Kansas City metropolitan area), and P(Kansas City metropolitan area | Kansas)."
   ]
  },
  {
   "cell_type": "markdown",
   "metadata": {},
   "source": [
    "- Let A be the event that your relative lives in the Kansas City metropolitan area.\n",
    "- Let K be the event that your relative lives in Kansas.\n",
    "\n",
    "\n",
    "- P(K) The probability that a randomly chosen county in either Kansas or Missouri is in Kansas.\n",
    "- P(A) The probability that a randomly chosen county in either Kansas or Missouri is in the Kansas City metropolitan area.\n",
    "\n",
    "- P(A | K): The probability that a county in Kansas is in the Kansas City metropolitan area.\n",
    "\n",
    "\n",
    "#### The total number of counties in Kansas and Missouri combined is 105 +114 = 219\n",
    "\n",
    "- P(K) = Number of Counties in Kansas / Total Number of Counties in Kansas and Missouri = 105 /219\n",
    "- P(A) = Number of Counties in Kansas Metro Area / Total Number of Counties in Kansas = 15 / 219\n",
    "\n",
    "- P(A | K) = Number of counties in Kansas that are in the Kansas City Metro / Total nmber of counties in Kansas = 6/105\n",
    "\n",
    "- P(Kansas | Kansas City) = (6/105 * 105/219) /   15/219"
   ]
  },
  {
   "cell_type": "code",
   "execution_count": 1,
   "metadata": {},
   "outputs": [
    {
     "name": "stdout",
     "output_type": "stream",
     "text": [
      "The probability that a relative lives in a county in Kansas given they are in the Kansas City metropolitan area is: 0.4000\n"
     ]
    }
   ],
   "source": [
    "p_k = 105/219\n",
    "p_a = 15/219\n",
    "P_a_given_k = 6/105\n",
    "\n",
    "P_K_given_A = (P_a_given_k * p_k) / p_a\n",
    "\n",
    "\n",
    "print(f\"The probability that a relative lives in a county in Kansas given they are in the Kansas City metropolitan area is: {P_K_given_A:.4f}\")"
   ]
  },
  {
   "cell_type": "markdown",
   "metadata": {},
   "source": [
    "## Exercise 2:\n",
    "#### A deck of cards has 52 cards with suits that are either red or black. There are four aces in a deck of cards: two red and two black. You remove a red ace from the deck and shuffle the cards. Your friend pulls a black card. What is the probability that it is an ace?"
   ]
  },
  {
   "cell_type": "markdown",
   "metadata": {},
   "source": [
    "- P(A) The probability of picking an Ace = 3/51\n",
    "- P(B) The probability of pickig a black card = 26/51\n",
    "- P(A N B) The probability picking a card that is black and an Ace = 2/51\n",
    "- P(A | B) = P(A N B) / P(B) = 2/51 / 26/51"
   ]
  },
  {
   "cell_type": "code",
   "execution_count": 2,
   "metadata": {},
   "outputs": [
    {
     "name": "stdout",
     "output_type": "stream",
     "text": [
      "The probability of drawing an Ace given that the card is Black is: 0.0769\n"
     ]
    }
   ],
   "source": [
    "P_A = 3/51\n",
    "P_B = 26/51\n",
    "P_A_and_B = 2/51\n",
    "\n",
    "P_A_given_B = P_A_and_B / P_B\n",
    "\n",
    "print(f\"The probability of drawing an Ace given that the card is Black is: {P_A_given_B:.4f}\")"
   ]
  }
 ],
 "metadata": {
  "kernelspec": {
   "display_name": "machine-learning-env",
   "language": "python",
   "name": "python3"
  },
  "language_info": {
   "codemirror_mode": {
    "name": "ipython",
    "version": 3
   },
   "file_extension": ".py",
   "mimetype": "text/x-python",
   "name": "python",
   "nbconvert_exporter": "python",
   "pygments_lexer": "ipython3",
   "version": "3.9.19"
  }
 },
 "nbformat": 4,
 "nbformat_minor": 2
}
