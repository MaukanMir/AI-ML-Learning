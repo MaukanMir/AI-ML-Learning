{
 "cells": [
  {
   "cell_type": "markdown",
   "metadata": {},
   "source": [
    "# BAYES’ THEOREM WITH LEGO"
   ]
  },
  {
   "cell_type": "markdown",
   "metadata": {},
   "source": [
    "#### Conceptually, Bayes’ theorem follows from intuition, but that doesn’t mean that the formalization of Bayes’ theorem is obvious. The benefit of our mathematical work is that it extracts reason out of intuition. We’ve confirmed that our original, intuitive beliefs are consistent, and now we have a powerful new tool to deal with problems in probability that are more complicated than LEGO bricks."
   ]
  },
  {
   "cell_type": "markdown",
   "metadata": {},
   "source": [
    "## Exercise 1\n",
    "\n",
    "#### Kansas City, despite its name, sits on the border of two US states: Missouri and Kansas. The Kansas City metropolitan area consists of 15 counties, 9 in Missouri and 6 in Kansas. The entire state of Kansas has 105 counties and Missouri has 114. Use Bayes’ theorem to calculate the probability that a relative who just moved to a county in the Kansas City metropolitan area also lives in a county in Kansas. Make sure to show P(Kansas) (assuming your relative either lives in Kansas or Missouri), P(Kansas City metropolitan area), and P(Kansas City metropolitan area | Kansas)."
   ]
  },
  {
   "cell_type": "markdown",
   "metadata": {},
   "source": [
    "- Let A be the event that your relative lives in the Kansas City metropolitan area.\n",
    "- Let K be the event that your relative lives in Kansas.\n",
    "\n",
    "\n",
    "- P(K) The probability that a randomly chosen county in either Kansas or Missouri is in Kansas.\n",
    "- P(A) The probability that a randomly chosen county in either Kansas or Missouri is in the Kansas City metropolitan area.\n",
    "\n",
    "- P(A | K): The probability that a county in Kansas is in the Kansas City metropolitan area.\n",
    "\n",
    "\n",
    "#### The total number of counties in Kansas and Missouri combined is 105 +114 = 219\n",
    "\n",
    "- P(K) = Number of Counties in Kansas / Total Number of Counties in Kansas and Missouri = 105 /219\n",
    "- P(A) = Number of Counties in Kansas Metro Area / Total Number of Counties in Kansas = 15 / 219\n",
    "\n",
    "- P(A | K) = Number of counties in Kansas that are in the Kansas City Metro / Total nmber of counties in Kansas = 6/105\n",
    "\n",
    "- P(Kansas | Kansas City) = (6/105 * 105/219) /   15/19"
   ]
  },
  {
   "cell_type": "code",
   "execution_count": null,
   "metadata": {},
   "outputs": [],
   "source": [
    "###"
   ]
  }
 ],
 "metadata": {
  "kernelspec": {
   "display_name": "machine-learning-env",
   "language": "python",
   "name": "python3"
  },
  "language_info": {
   "name": "python",
   "version": "3.9.19"
  }
 },
 "nbformat": 4,
 "nbformat_minor": 2
}
