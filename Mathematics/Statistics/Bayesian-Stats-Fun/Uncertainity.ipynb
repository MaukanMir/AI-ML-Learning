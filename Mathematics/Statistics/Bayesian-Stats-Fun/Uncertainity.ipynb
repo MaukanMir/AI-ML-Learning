{
 "cells": [
  {
   "cell_type": "markdown",
   "metadata": {},
   "source": [
    "# The Logic Of Uncertainty"
   ]
  },
  {
   "cell_type": "markdown",
   "metadata": {},
   "source": [
    "#### The probability of one event OR another event occurring is slightly more complicated because the events can either be mutually exclusive or not mutually exclusive. Events are mutually exclusive if one event happening implies the other possible events cannot happen. For example, the possible outcomes of rolling a die are mutually exclusive because a single roll cannot yield both a 1 and a 6. However, say a baseball game will be cancelled if it is either raining or the coach is sick; these events are not mutually exclusive because it is perfectly possible that the coach is sick and it rains.\n",
    "\n",
    "#### we can see that, as long as events are mutually exclusive, we can simply add up all of the probabilities of each possible event to get the probability of either event happening to calculate the probability of one event OR the other. Another example of this is rolling a die. We know that the probability of rolling a 1 is 1/6, and the same is true for rolling a 2:"
   ]
  },
  {
   "cell_type": "markdown",
   "metadata": {},
   "source": [
    "#### This addition rule applies only to combinations of mutually exclusive outcomes. In probabilistic terms, mutually exclusive means that:\n",
    "\n",
    "- P(A) AND P(B) = 0\n",
    "\n",
    "#### That is, the probability of getting both A AND B together is 0. We see that this holds for our examples:\n",
    "\n",
    "- It is impossible to flip one coin and get both heads and tails.\n",
    "- It is impossible to roll both a 1 and a 2 on a single roll of a die.\n",
    "\n",
    "#### Again using the example of rolling a die and flipping a coin, let’s look at the probability of either flipping heads OR rolling a 6. Many newcomers to probability may naively assume that adding probabilities will work in this case as well. Given that we know that P(heads) = 1/2 and P(six) = 1/6, it might initially seem plausible that the probability of either of these events is simply 4/6. It becomes obvious that this doesn’t work, however, when we consider the possibility of either flipping a heads or rolling a number less than 6. Because P(less than six) = 5/6, adding these probabilities together gives us 8/6, which is greater than 1! Since this violates the rule that probabilities must be between 0 and 1, we must have made a mistake.\n",
    "\n",
    "#### The trouble is that flipping a heads and rolling a 6 are not mutually exclusive. As we know from earlier in the chapter, P(heads, six) = 1/12. Because the probability of both events happening at the same time is not 0, we know they are, by definition, not mutually exclusive.\n",
    "\n",
    "#### The reason that adding our probabilities doesn’t work for non–mutually exclusive events is that doing so doubles the counting of events where both things happen. As an example of overcounting.\n",
    "\n"
   ]
  },
  {
   "cell_type": "markdown",
   "metadata": {},
   "source": []
  }
 ],
 "metadata": {
  "language_info": {
   "name": "python"
  }
 },
 "nbformat": 4,
 "nbformat_minor": 2
}
