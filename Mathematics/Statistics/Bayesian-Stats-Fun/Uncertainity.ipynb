{
 "cells": [
  {
   "cell_type": "markdown",
   "metadata": {},
   "source": [
    "# The Logic Of Uncertainty"
   ]
  },
  {
   "cell_type": "markdown",
   "metadata": {},
   "source": [
    "#### The probability of one event OR another event occurring is slightly more complicated because the events can either be mutually exclusive or not mutually exclusive. Events are mutually exclusive if one event happening implies the other possible events cannot happen. For example, the possible outcomes of rolling a die are mutually exclusive because a single roll cannot yield both a 1 and a 6. However, say a baseball game will be cancelled if it is either raining or the coach is sick; these events are not mutually exclusive because it is perfectly possible that the coach is sick and it rains.\n",
    "\n",
    "#### we can see that, as long as events are mutually exclusive, we can simply add up all of the probabilities of each possible event to get the probability of either event happening to calculate the probability of one event OR the other. Another example of this is rolling a die. We know that the probability of rolling a 1 is 1/6, and the same is true for rolling a 2:"
   ]
  },
  {
   "cell_type": "markdown",
   "metadata": {},
   "source": [
    "#### This addition rule applies only to combinations of mutually exclusive outcomes. In probabilistic terms, mutually exclusive means that:\n",
    "\n",
    "- P(A) AND P(B) = 0\n",
    "\n",
    "#### That is, the probability of getting both A AND B together is 0. We see that this holds for our examples:\n",
    "\n",
    "- It is impossible to flip one coin and get both heads and tails.\n",
    "- It is impossible to roll both a 1 and a 2 on a single roll of a die.\n",
    "\n",
    "#### Again using the example of rolling a die and flipping a coin, let’s look at the probability of either flipping heads OR rolling a 6. Many newcomers to probability may naively assume that adding probabilities will work in this case as well. Given that we know that P(heads) = 1/2 and P(six) = 1/6, it might initially seem plausible that the probability of either of these events is simply 4/6. It becomes obvious that this doesn’t work, however, when we consider the possibility of either flipping a heads or rolling a number less than 6. Because P(less than six) = 5/6, adding these probabilities together gives us 8/6, which is greater than 1! Since this violates the rule that probabilities must be between 0 and 1, we must have made a mistake.\n",
    "\n",
    "#### The trouble is that flipping a heads and rolling a 6 are not mutually exclusive. As we know from earlier in the chapter, P(heads, six) = 1/12. Because the probability of both events happening at the same time is not 0, we know they are, by definition, not mutually exclusive.\n",
    "\n",
    "#### The reason that adding our probabilities doesn’t work for non–mutually exclusive events is that doing so doubles the counting of events where both things happen. As an example of overcounting.\n",
    "\n",
    "#### To correct our probabilities, we must add up all of our probabilities and then subtract the probability of both events occurring. This leads us to the rule for combining non–mutually exclusive probabilities with OR, known as the sum rule of probability:\n",
    "\n",
    "- P(A) OR P(B) = P(A) + P(B) – P(A,B)\n",
    "\n",
    "#### We add the probability of each event happening and then subtract the probability of both events happening, to ensure we are not counting these probabilities twice since they are a part of both P(A) and P(B). So, using our die roll and coin toss example, the probability of rolling a number equal to 6 or flipping a heads is:\n",
    "\n",
    "#### he next important logical rule involves combining two probabilities with AND. We do this using the product rule, which simply states that to get the probability of two events occurring together, P(A) and P(B), we just multiply them together:\n",
    "\n",
    "- P(A,B) = P(A) × P(B)\n",
    "\n",
    "##### The final rule involves combining probabilities with OR using the sum rule. The tricky part of the sum rule is that if we add non–mutually exclusive probabilities, we’ll end up overcounting for the case where they both occur, so we have to subtract the probability of both events occurring together. The sum rule uses the product rule to solve this (remember, for mutually exclusive events, P(A, B) = 0):\n",
    "\n",
    "- P(A OR B) = P(A) + P(B) – P(A,B)"
   ]
  },
  {
   "cell_type": "markdown",
   "metadata": {},
   "source": [
    "## Exercise 1: What is the probability of rolling a 20 three times in a row on a 20-sided die?\n",
    "\n",
    "- 1/20 * 1/20 * 1/20 = 1/8000\n",
    "\n",
    "## Independent Events\n",
    "#### Independent events are those where the outcome of one event does not affect the outcome of another. In your case, each roll of a 20-sided die is independent because the result of one roll does not influence or change the probability of outcomes on subsequent rolls. Each roll has the same probability of landing a 20, regardless of the results of previous rolls.\n",
    "\n",
    "## Mutually Exclusive Events\n",
    "#### Mutually exclusive events, on the other hand, are events that cannot happen at the same time. For example, rolling a 20 and rolling a 15 on the same single roll of a die are mutually exclusive because both outcomes cannot occur simultaneously."
   ]
  },
  {
   "cell_type": "markdown",
   "metadata": {},
   "source": [
    "## Exercise 2: The weather report says there’s a 10 percent chance of rain tomorrow, and you forget your umbrella half the time you go out. What is the probability that you’ll be caught in the rain without an umbrella tomorrow?\n",
    "\n",
    "- P(rain) = 0.10%\n",
    "- P(Not rain) = 1 - P(rain) = 0.90%\n",
    "- P(You Forget Your Umbrella) = 0.50%\n",
    "\n",
    "#### What is the probability you will be in the rain without an umbrella? \n",
    "\n",
    "#### P(A) *  P(B)\n",
    "- P(rain) * P(Forgot Umbrella) - P(Umbrella N Rain) = (0.10 * 0.50)"
   ]
  },
  {
   "cell_type": "code",
   "execution_count": 3,
   "metadata": {},
   "outputs": [
    {
     "data": {
      "text/plain": [
       "0.05"
      ]
     },
     "execution_count": 3,
     "metadata": {},
     "output_type": "execute_result"
    }
   ],
   "source": [
    "rain = 0.10\n",
    "umbrella = 0.50\n",
    "(rain * umbrella)"
   ]
  },
  {
   "cell_type": "markdown",
   "metadata": {},
   "source": [
    "## Exercise 3: Raw eggs have a 1/20,000 probability of having salmonella. If you eat two raw eggs, what is the probability you ate a raw egg with salmonella?"
   ]
  },
  {
   "cell_type": "markdown",
   "metadata": {},
   "source": [
    "#### P(No Salmonella in one egg) = 1- 1/20000 = 19999/20000\n",
    "\n",
    "#### Probability of neither of the two eggs having salmonella (assuming independence between the eggs): 19999/20000 * 19999/20000\n",
    "\n",
    "#### P(At least one egg has salmonella) = 1- P(no salmonella in either egg) = 1 - (19999/20000)**2\n",
    "\n"
   ]
  },
  {
   "cell_type": "markdown",
   "metadata": {},
   "source": [
    "## Exercise 4: What is the probability of either flipping two heads in two coin tosses or rolling three 6s in three six-sided dice rolls?\n",
    "\n",
    "#### P(2 Heads) = 1/2 * 1/2 = 1/4\n",
    "#### P(Three 6's) = 1/6 * 1/6 * 1/6 = 1/216\n",
    "\n",
    "#### P(two heads n three 6s) (1/4) * (1/216) = 1/864\n",
    "\n",
    "#### Formula = P(A) + P(B) * P(A N B) = 1/4 + 1/216 - (1/864)"
   ]
  },
  {
   "cell_type": "code",
   "execution_count": 6,
   "metadata": {},
   "outputs": [
    {
     "data": {
      "text/plain": [
       "0.25347222222222227"
      ]
     },
     "execution_count": 6,
     "metadata": {},
     "output_type": "execute_result"
    }
   ],
   "source": [
    "heads = 1/4\n",
    "dice = 1/216\n",
    "\n",
    "heads + dice - (heads * dice)"
   ]
  }
 ],
 "metadata": {
  "kernelspec": {
   "display_name": "machine-learning-env",
   "language": "python",
   "name": "python3"
  },
  "language_info": {
   "codemirror_mode": {
    "name": "ipython",
    "version": 3
   },
   "file_extension": ".py",
   "mimetype": "text/x-python",
   "name": "python",
   "nbconvert_exporter": "python",
   "pygments_lexer": "ipython3",
   "version": "3.9.19"
  }
 },
 "nbformat": 4,
 "nbformat_minor": 2
}
