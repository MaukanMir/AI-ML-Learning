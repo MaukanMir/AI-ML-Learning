{
 "cells": [
  {
   "cell_type": "markdown",
   "metadata": {},
   "source": [
    "# BETA DISTRIBUTION"
   ]
  },
  {
   "cell_type": "markdown",
   "metadata": {},
   "source": [
    "####  You use the beta distribution to estimate the probability of an event for which you’ve already observed a number of trials and the number of successful outcomes. For example, you would use it to estimate the probability of flipping a heads when so far you have observed 100 tosses of a coin and 40 of those were heads."
   ]
  },
  {
   "cell_type": "code",
   "execution_count": 2,
   "metadata": {},
   "outputs": [
    {
     "name": "stdout",
     "output_type": "stream",
     "text": [
      "H1 Is 0.016025366094254444\n",
      "H2 Is 0.13047093903185558\n"
     ]
    }
   ],
   "source": [
    "from scipy.stats import binom\n",
    "\n",
    "h1 = binom.pmf(k=14, n=41, p=1/2)\n",
    "h2 = binom.pmf(k=14, n=41, p=14/41)\n",
    "\n",
    "print(f\"H1 Is {h1}\")\n",
    "print(f\"H2 Is {h2}\")"
   ]
  },
  {
   "cell_type": "markdown",
   "metadata": {},
   "source": [
    "## The Beta Distribution\n",
    "\n",
    "#### To solve both of these problems, we’ll be using the beta distribution. Unlike the binomial distribution, which breaks up nicely into discrete values, the beta distribution represents a continuous range of values, which allows us to represent our infinite number of possible hypotheses.\n",
    "\n",
    "#### We define the beta distribution with a probability density function (PDF), which is very similar to the probability mass function we use in the binomial distribution, but is defined for continuous values. Here is the formula for the PDF of the beta distribution:\n",
    "\n",
    "![Sample Image](/Users/maukanmir/Documents/Machine-Learning/AI-ML-Textbooks/AI-ML-Learning/images/beta-pdf.jpg)\n",
    "\n",
    "- p Represents the probability of an event. This corresponds to our different hypotheses for the possible probabilities for our black box.\n",
    "- α Represents how many times we observe an event we care about, such as getting two quarters from the box.\n",
    "- β Represents how many times the event we care about didn’t happen. For our example, this is the number of times that the black box ate the quarter.\n",
    "\n",
    "#### The total number of trials is α + β. This is different than the binomial distribution, where we have k observations we’re interested in and a finite number of n total trials.\n",
    "\n",
    "#### What we get in the end is a function that describes the probability of each possible hypothesis for our true belief in the probability of getting two coins from the box, given that we have observed α examples of one outcome and β examples of another. Remember that we arrived at the beta distribution by comparing how well different binomial distributions, each with its own probability p, described our data. In other words, the beta distribution represents how well all possible binomial distributions describe the data observed.\n",
    "\n",
    "#### The beta distribution is fundamentally different from the binomial distribution in that with the latter, we are looking at the distribution of k, the number of outcomes we care about, which is always something we can count. For the beta distribution, however, we are looking at the distribution of p, for which we have an infinite number of possible values. This leads to an interesting problem that might be familiar if you’ve studied calculus before (but it’s okay if you haven’t!). For our example of α=14 and β=27, we want to know: what is the probability that the chance of getting two coins is 1/2?\n",
    "\n",
    "#### While it’s easy to ask the likelihood of an exact value with the binomial distribution thanks to its finite number of outcomes, this is a really tricky question for a continuous distribution. We know that the fundamental rule of probability is that the sum of all our values must be 1, but each of our individual values is infinitely small, meaning the probability of any specific value is in practice 0.\n",
    "\n",
    "![Sample Image](/Users/maukanmir/Documents/Machine-Learning/AI-ML-Textbooks/AI-ML-Learning/images/integral.jpg)\n",
    "\n"
   ]
  },
  {
   "cell_type": "code",
   "execution_count": 3,
   "metadata": {},
   "outputs": [
    {
     "name": "stdout",
     "output_type": "stream",
     "text": [
      "Integral result: 0.9807613458579001\n",
      "Estimate of the absolute error: 2.7539015981024157e-12\n"
     ]
    }
   ],
   "source": [
    "import scipy.stats as stats\n",
    "import scipy.integrate as integrate\n",
    "\n",
    "def beta_pdf(p):\n",
    "  return stats.beta.pdf(p,14,27)\n",
    "\n",
    "result, error = integrate.quad(beta_pdf, 0, 0.5)\n",
    "print(\"Integral result:\", result)\n",
    "print(\"Estimate of the absolute error:\", error)"
   ]
  },
  {
   "cell_type": "code",
   "execution_count": 4,
   "metadata": {},
   "outputs": [
    {
     "name": "stdout",
     "output_type": "stream",
     "text": [
      "Integral result: 0.2850559397961514\n",
      "Estimate of the absolute error: 2.3196680874694366e-09\n"
     ]
    }
   ],
   "source": [
    "def beta_pdf(p):\n",
    "  return stats.beta.pdf(p, 5, 1195)\n",
    "\n",
    "result, error = integrate.quad(beta_pdf, 0.005, 1)\n",
    "print(\"Integral result:\", result)\n",
    "print(\"Estimate of the absolute error:\", error)"
   ]
  },
  {
   "cell_type": "markdown",
   "metadata": {},
   "source": [
    "## Exercise 1\n",
    "\n",
    "#### You want to use the beta distribution to determine whether or not a coin you have is a fair coin—meaning that the coin gives you heads and tails equally. You flip the coin 10 times and get 4 heads and 6 tails. Using the beta distribution, what is the probability that the coin will land on heads more than 60 percent of the time?"
   ]
  },
  {
   "cell_type": "code",
   "execution_count": 10,
   "metadata": {},
   "outputs": [
    {
     "data": {
      "text/plain": [
       "0.09935257600000003"
      ]
     },
     "execution_count": 10,
     "metadata": {},
     "output_type": "execute_result"
    }
   ],
   "source": [
    "alpha = 5\n",
    "beta = 7\n",
    "\n",
    "beta_dist = stats.beta(alpha, beta)\n",
    "\n",
    "prob_p_greater = 1 - beta_dist.cdf(0.6)\n",
    "prob_p_greater"
   ]
  },
  {
   "cell_type": "markdown",
   "metadata": {},
   "source": [
    "## Exercise 2\n",
    "\n",
    "#### You flip the coin 10 more times and now have 9 heads and 11 tails total. What is the probability that the coin is fair, using our definition of fair, give or take 5 percent?"
   ]
  },
  {
   "cell_type": "code",
   "execution_count": 12,
   "metadata": {},
   "outputs": [
    {
     "name": "stdout",
     "output_type": "stream",
     "text": [
      "The probability that the coin is fair (p between 0.45 and 0.55) is: 0.3276\n"
     ]
    }
   ],
   "source": [
    "alpha = 5 + 5\n",
    "beta = 7 +5\n",
    "\n",
    "beta_dist = stats.beta(alpha, beta)\n",
    "prob_fair = beta_dist.cdf(0.55) - beta_dist.cdf(0.45)\n",
    "print(f\"The probability that the coin is fair (p between 0.45 and 0.55) is: {prob_fair:.4f}\")"
   ]
  },
  {
   "cell_type": "code",
   "execution_count": null,
   "metadata": {},
   "outputs": [],
   "source": []
  }
 ],
 "metadata": {
  "kernelspec": {
   "display_name": "machine-learning-env",
   "language": "python",
   "name": "python3"
  },
  "language_info": {
   "codemirror_mode": {
    "name": "ipython",
    "version": 3
   },
   "file_extension": ".py",
   "mimetype": "text/x-python",
   "name": "python",
   "nbconvert_exporter": "python",
   "pygments_lexer": "ipython3",
   "version": "3.9.19"
  }
 },
 "nbformat": 4,
 "nbformat_minor": 2
}
