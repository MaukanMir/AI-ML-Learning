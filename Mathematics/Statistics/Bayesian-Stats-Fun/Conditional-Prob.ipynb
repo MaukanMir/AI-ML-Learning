{
 "cells": [
  {
   "cell_type": "markdown",
   "metadata": {},
   "source": [
    "# CONDITIONAL PROBABILITY"
   ]
  },
  {
   "cell_type": "markdown",
   "metadata": {},
   "source": [
    "#### We can generalize this solution to rewrite our product rule as follows:\n",
    "\n",
    "- P(A,B) = P(A) × P(B | A)\n",
    "\n",
    "#### This definition works for independent probabilities as well, because for independent probabilities P(B) = P(B | A). This makes intuitive sense when you think about flipping heads and rolling a 6; because P(six) is 1/6 independent of the coin toss, P(six | heads) is also 1/6.\n",
    "\n",
    "#### We can also update our definition of the sum rule to account for this fact:\n",
    "\n",
    "- P(A or B) = P(A) + P(B) – P(A) × P(B | A)\n",
    "\n"
   ]
  },
  {
   "cell_type": "markdown",
   "metadata": {},
   "source": []
  }
 ],
 "metadata": {
  "kernelspec": {
   "display_name": "machine-learning-env",
   "language": "python",
   "name": "python3"
  },
  "language_info": {
   "name": "python",
   "version": "3.9.19"
  }
 },
 "nbformat": 4,
 "nbformat_minor": 2
}
