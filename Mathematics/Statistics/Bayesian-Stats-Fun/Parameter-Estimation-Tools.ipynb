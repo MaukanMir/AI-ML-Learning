{
 "cells": [
  {
   "cell_type": "markdown",
   "metadata": {},
   "source": [
    "# TOOLS OF PARAMETER ESTIMATION: THE PDF, CDF, AND QUANTILE FUNCTION"
   ]
  },
  {
   "cell_type": "markdown",
   "metadata": {},
   "source": [
    "#### The most common mathematical use of the PDF is in integration, to solve for probabilities associated with various ranges, just as we did in the previous section. However, we can save ourselves a lot of effort with the cumulative distribution function (CDF), which sums all parts of our distribution, replacing a lot of calculus work."
   ]
  },
  {
   "cell_type": "markdown",
   "metadata": {},
   "source": [
    "## Visualizing and Interpreting the CDF\n",
    "#### The PDF is most useful visually for quickly estimating where the peak of a distribution is, and for getting a rough sense of the width (variance) and shape of a distribution. However, with the PDF it is very difficult to reason about the probability of various ranges visually. The CDF is a much better tool for this. For example, we can use the CDF in Figure 13-4 to visually reason about a much wider range of probabilistic estimates for our problem than we can using the PDF alone. "
   ]
  },
  {
   "cell_type": "markdown",
   "metadata": {},
   "source": [
    "## Finding the Median\n",
    "#### The median is the point in the data at which half the values fall on one side and half on the other—it is the exact middle value of our data. In other words, the probability of a value being greater than the median and the probability of it being less than the median are both 0.5. The median is particularly useful for summarizing the data in cases where it contains extreme values."
   ]
  },
  {
   "cell_type": "markdown",
   "metadata": {},
   "source": [
    "## Estimating Confidence Intervals\n",
    "\n",
    "#### Looking at the probability of ranges of values leads us to a very important concept in probability: the confidence interval. A confidence interval is a lower and upper bound of values, typically centered on the mean, describing a range of high probability, usually 95, 99, or 99.9 percent. When we say something like “The 95 percent confidence interval is from 12 to 20,” what we mean is that there is a 95 percent probability that our true measurement is somewhere between 12 and 20. Confidence intervals provide a good method of describing the range of possibilities when we’re dealing with uncertain information."
   ]
  },
  {
   "cell_type": "markdown",
   "metadata": {},
   "source": [
    "#### While computing the inverse of the CDF visually is easy for estimates, we need a separate mathematical function to compute it for exact values. The inverse of the CDF is an incredibly common and useful tool called the quantile function. To compute an exact value for our median and confidence interval, we need to use the quantile function for the beta distribution. Just like the CDF, the quantile function is often very tricky to derive and use mathematically, so instead we rely on software to do the hard work for us."
   ]
  },
  {
   "cell_type": "markdown",
   "metadata": {},
   "source": [
    "## CDF VS PDF\n",
    "\n",
    "#### Key Difference: The PDF describes the probability density at a given value, while the CDF provides the cumulative probability up to that value. In simple terms, the PDF tells you the relative likelihood of the random variable at a precise value, and the CDF tells you the likelihood of the random variable being less than or equal to a certain value."
   ]
  },
  {
   "cell_type": "markdown",
   "metadata": {},
   "source": [
    "## Exercise 2:\n",
    "\n",
    "#### Returning to the task of measuring snowfall from Chapter 10, say you have the following measurements (in inches) of snowfall: 7.8, 9.4, 10.0, 7.9, 9.4, 7.0, 7.0, 7.1, 8.9, 7.4 What is your 99.9 percent confidence interval for the true value of snowfall?"
   ]
  },
  {
   "cell_type": "code",
   "execution_count": 1,
   "metadata": {},
   "outputs": [
    {
     "name": "stdout",
     "output_type": "stream",
     "text": [
      "99.9% Confidence Interval for the true mean snowfall: (6.474413856518159, 9.905586143481845)\n"
     ]
    }
   ],
   "source": [
    "import numpy as np\n",
    "import scipy.stats as stats\n",
    "\n",
    "data = np.array([7.8, 9.4, 10.0, 7.9, 9.4, 7.0, 7.0, 7.1, 8.9, 7.4])\n",
    "\n",
    "mean_snowfall = np.mean(data)\n",
    "std_snowfall = np.std(data, ddof=1)\n",
    "n = len(data)\n",
    "\n",
    "t_critical = stats.t.ppf(0.9995, n-1)\n",
    "\n",
    "margin_error = t_critical * (std_snowfall /np.sqrt(n))\n",
    "\n",
    "confidence_interval = (mean_snowfall - margin_error, mean_snowfall + margin_error)\n",
    "\n",
    "\n",
    "print(f\"99.9% Confidence Interval for the true mean snowfall: {confidence_interval}\")"
   ]
  },
  {
   "cell_type": "markdown",
   "metadata": {},
   "source": [
    "## Using Normal Distribution"
   ]
  },
  {
   "cell_type": "code",
   "execution_count": 2,
   "metadata": {},
   "outputs": [
    {
     "name": "stdout",
     "output_type": "stream",
     "text": [
      "99.9% Confidence Interval (Normal): (4.46, 11.92)\n"
     ]
    }
   ],
   "source": [
    "lower = stats.norm.ppf(0.0005, loc=mean_snowfall, scale=std_snowfall)\n",
    "upper = stats.norm.ppf(0.9995, loc=mean_snowfall, scale=std_snowfall)\n",
    "\n",
    "print(f\"99.9% Confidence Interval (Normal): ({lower:.2f}, {upper:.2f})\")"
   ]
  },
  {
   "cell_type": "markdown",
   "metadata": {},
   "source": [
    "##### Two-Tailed Test/Interval: This involves looking for extreme values at both ends of the distribution. For a confidence interval, this means we're concerned with deviations from the mean in both directions—both above and below.\n",
    "##### In the context of a 99.9% confidence interval for mean snowfall, saying it's \"two-tailed\" means we're considering the possibility that the true mean could be either significantly higher or significantly lower than our sample mean. Thus, we split our alpha level (the remaining 0.1% probability) between the lower and upper ends of the distribution, placing 0.05% in each tail."
   ]
  },
  {
   "cell_type": "markdown",
   "metadata": {},
   "source": [
    "## Exercise 3:\n",
    "\n",
    "#### A child is going door to door selling candy bars. So far she has visited 30 houses and sold 10 candy bars. She will visit 40 more houses today. What is the 95 percent confidence interval for how many candy bars she will sell the rest of the day?"
   ]
  },
  {
   "cell_type": "markdown",
   "metadata": {},
   "source": [
    "## Standard Error (SE)\n",
    "#### Definition: The standard error of a statistic (in this case, the sample proportion) measures the dispersion or variability of that statistic from the true population value. It quantifies the uncertainty inherent in estimating a population parameter from a sample."
   ]
  },
  {
   "cell_type": "code",
   "execution_count": 3,
   "metadata": {},
   "outputs": [
    {
     "name": "stdout",
     "output_type": "stream",
     "text": [
      "95% Confidence Interval for candy bars sold in next 40 houses: 12.48 to 14.19\n"
     ]
    }
   ],
   "source": [
    "from scipy.stats import norm\n",
    "\n",
    "p = 10/30\n",
    "n = 30\n",
    "\n",
    "SE = np.sqrt(p * (1-p) /n )\n",
    "\n",
    "z = norm.pdf(0.975)\n",
    "\n",
    "MOE = z * SE\n",
    "\n",
    "CI_lower = p - MOE\n",
    "CI_upper = p + MOE\n",
    "\n",
    "sales_lower = CI_lower * 40\n",
    "sales_upper = CI_upper * 40\n",
    "\n",
    "print(f\"95% Confidence Interval for candy bars sold in next 40 houses: {sales_lower:.2f} to {sales_upper:.2f}\")"
   ]
  }
 ],
 "metadata": {
  "kernelspec": {
   "display_name": "machine-learning-env",
   "language": "python",
   "name": "python3"
  },
  "language_info": {
   "codemirror_mode": {
    "name": "ipython",
    "version": 3
   },
   "file_extension": ".py",
   "mimetype": "text/x-python",
   "name": "python",
   "nbconvert_exporter": "python",
   "pygments_lexer": "ipython3",
   "version": "3.9.19"
  }
 },
 "nbformat": 4,
 "nbformat_minor": 2
}
