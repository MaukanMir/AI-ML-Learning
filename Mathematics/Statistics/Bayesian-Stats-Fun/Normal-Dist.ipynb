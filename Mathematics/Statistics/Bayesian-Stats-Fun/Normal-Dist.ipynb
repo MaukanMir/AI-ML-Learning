{
 "cells": [
  {
   "cell_type": "markdown",
   "metadata": {},
   "source": [
    "# NORMAL DISTRIBUTION"
   ]
  },
  {
   "cell_type": "markdown",
   "metadata": {},
   "source": [
    "#### In the previous two chapters, you learned about two very important concepts: mean (μ), which allows us to estimate a measurement from various observations, and standard deviation (σ), which allows us to measure the spread of our observations."
   ]
  },
  {
   "cell_type": "markdown",
   "metadata": {},
   "source": [
    "#### The true goal of parameter estimation isn’t simply to estimate a value, but rather to assign a probability for a range of possible values. This allows us to perform more sophisticated reasoning with uncertain values."
   ]
  }
 ],
 "metadata": {
  "kernelspec": {
   "display_name": "machine-learning-env",
   "language": "python",
   "name": "python3"
  },
  "language_info": {
   "name": "python",
   "version": "3.9.19"
  }
 },
 "nbformat": 4,
 "nbformat_minor": 2
}
