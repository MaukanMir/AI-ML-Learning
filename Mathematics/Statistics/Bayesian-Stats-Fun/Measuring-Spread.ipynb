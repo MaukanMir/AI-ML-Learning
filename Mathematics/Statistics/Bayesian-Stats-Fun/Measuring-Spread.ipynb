{
 "cells": [
  {
   "cell_type": "markdown",
   "metadata": {},
   "source": [
    "# MEASURING THE SPREAD OF OUR DATA"
   ]
  },
  {
   "cell_type": "markdown",
   "metadata": {},
   "source": [
    "#### We call the result of this formula the mean absolute deviation (MAD). The MAD is a very useful and intuitive measure of how spread out your observations are. Given that group a has a MAD of 0.04 and group b around 0.4, we can now say that group b is about 10 times as spread out as group a.\n",
    "\n",
    "#### We call the result of this formula the mean absolute deviation (MAD). The MAD is a very useful and intuitive measure of how spread out your observations are.\n",
    "\n",
    "\n",
    "![Sample Image](/Users/maukanmir/Documents/Machine-Learning/AI-ML-Textbooks/AI-ML-Learning/images/MAD.jpg)"
   ]
  },
  {
   "cell_type": "markdown",
   "metadata": {},
   "source": [
    "## Finding the Variance\n",
    "#### Another way to mathematically make all of our differences positive without invalidating the data is to square them: (xi – μ)2. This method has at least two benefits over using MAD.\n",
    "\n",
    "#### The first benefit is a bit academic: squaring values is much easier to work with mathematically than taking their absolute value. In this book, we won’t take advantage of this directly, but for mathematicians, the absolute value function can be a bit annoying in practice.\n",
    "\n",
    "#### The second, and more practical, reason is that squaring results in having an exponential penalty, meaning measurements very far away from the mean are penalized much more. In other words, small differences aren’t nearly as important as big ones, as we would feel intuitively. If someone scheduled your meeting in the wrong room, for example, you wouldn’t be too upset if you ended up next door to the right room, but you’d almost certainly be upset if you were sent to an office on the other side of the countr\n",
    "\n",
    "![Sample Image](/Users/maukanmir/Documents/Machine-Learning/AI-ML-Textbooks/AI-ML-Learning/images/Var.jpg)\n",
    "\n",
    "#### This formula, which has a very special place in the study of probability, is called the variance. Notice that the equation for variance is exactly the same as MAD except that the absolute value function in MAD has been replaced with squaring. Because it has nicer mathematical properties, variance is used much more frequently in the study of probability than MAD. We can see how different our results look when we calculate their variance:"
   ]
  },
  {
   "cell_type": "markdown",
   "metadata": {},
   "source": [
    "## Finding the Standard Deviation\n",
    "\n",
    "#### While in theory variance has many properties that make it useful, in practice it can be hard to interpret the results. It’s difficult for humans to think about what a difference of 0.002 seconds squared means. As we’ve mentioned, the great thing about MAD is that the result maps quite well to our intuition. If the MAD of group b is 0.4, that means that the average distance between any given observation and the mean is literally 0.4 seconds. But averaging over squared differences doesn’t allow us to reason about a result as nicely.\n",
    "\n",
    "#### To fix this, we can take the square root of the variance in order to scale it back into a number that works with our intuition a bit better. The square root of a variance is called the standard deviation and is represented by the lowercase Greek letter sigma (σ). It is defined as follows:\n",
    "\n",
    "![Sample Image](/Users/maukanmir/Documents/Machine-Learning/AI-ML-Textbooks/AI-ML-Learning/images/STD.jpg)\n",
    "\n",
    "#### The standard deviation is a happy medium between the intuitiveness of MAD and the mathematical ease of variance. Notice that, just like with MAD, the difference in the spread between b and a is a factor of 10. The standard deviation is so useful and ubiquitous that, in most of the literature on probability and statistics, variance is defined simply as σ2, or sigma squared!"
   ]
  },
  {
   "cell_type": "markdown",
   "metadata": {},
   "source": []
  }
 ],
 "metadata": {
  "kernelspec": {
   "display_name": "machine-learning-env",
   "language": "python",
   "name": "python3"
  },
  "language_info": {
   "name": "python",
   "version": "3.9.19"
  }
 },
 "nbformat": 4,
 "nbformat_minor": 2
}
