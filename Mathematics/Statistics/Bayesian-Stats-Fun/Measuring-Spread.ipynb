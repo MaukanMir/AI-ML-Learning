{
 "cells": [
  {
   "cell_type": "markdown",
   "metadata": {},
   "source": [
    "# MEASURING THE SPREAD OF OUR DATA"
   ]
  },
  {
   "cell_type": "markdown",
   "metadata": {},
   "source": [
    "#### We call the result of this formula the mean absolute deviation (MAD). The MAD is a very useful and intuitive measure of how spread out your observations are. Given that group a has a MAD of 0.04 and group b around 0.4, we can now say that group b is about 10 times as spread out as group a.\n",
    "\n",
    "#### We call the result of this formula the mean absolute deviation (MAD). The MAD is a very useful and intuitive measure of how spread out your observations are.\n",
    "\n",
    "\n",
    "![Sample Image](/Users/maukanmir/Documents/Machine-Learning/AI-ML-Textbooks/AI-ML-Learning/images/MAD.jpg)"
   ]
  },
  {
   "cell_type": "markdown",
   "metadata": {},
   "source": [
    "## Finding the Variance\n",
    "#### Another way to mathematically make all of our differences positive without invalidating the data is to square them: (xi – μ)2. This method has at least two benefits over using MAD.\n",
    "\n",
    "#### The first benefit is a bit academic: squaring values is much easier to work with mathematically than taking their absolute value. In this book, we won’t take advantage of this directly, but for mathematicians, the absolute value function can be a bit annoying in practice.\n",
    "\n",
    "#### The second, and more practical, reason is that squaring results in having an exponential penalty, meaning measurements very far away from the mean are penalized much more. In other words, small differences aren’t nearly as important as big ones, as we would feel intuitively. If someone scheduled your meeting in the wrong room, for example, you wouldn’t be too upset if you ended up next door to the right room, but you’d almost certainly be upset if you were sent to an office on the other side of the countr\n",
    "\n",
    "![Sample Image](/Users/maukanmir/Documents/Machine-Learning/AI-ML-Textbooks/AI-ML-Learning/images/Var.jpg)"
   ]
  },
  {
   "cell_type": "markdown",
   "metadata": {},
   "source": []
  }
 ],
 "metadata": {
  "kernelspec": {
   "display_name": "machine-learning-env",
   "language": "python",
   "name": "python3"
  },
  "language_info": {
   "name": "python",
   "version": "3.9.19"
  }
 },
 "nbformat": 4,
 "nbformat_minor": 2
}
