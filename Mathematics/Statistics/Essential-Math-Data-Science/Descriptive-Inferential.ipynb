{
 "cells": [
  {
   "cell_type": "markdown",
   "metadata": {},
   "source": [
    "# Descriptive and Inferential Statistics"
   ]
  },
  {
   "cell_type": "markdown",
   "metadata": {},
   "source": [
    "#### Inferential statistics tries to uncover attributes about a larger population, often based on a sample. It is often misunderstood and less intuitive than descriptive statistics. Often we are interested in studying a group that is too large to observe (e.g., average height of adolescents in North America) and we have to resort to using only a few members of that group to infer conclusions about them. As you can guess, this is not easy to get right. After all, we are trying to represent a population with a sample that may not be representative. We will explore these caveats along the way."
   ]
  },
  {
   "cell_type": "markdown",
   "metadata": {},
   "source": [
    "## COEFFICIENT OF VARIATION\n",
    "#### A helpful tool for measuring spread is the coefficient of variation. It compares two distributions and quantifies how spread out each of them is."
   ]
  },
  {
   "cell_type": "markdown",
   "metadata": {},
   "source": [
    "## Confidence Intervals\n",
    "\n",
    "#### You may have heard the term “confidence interval,” which often confuses statistics newcomers and students. A confidence interval is a range calculation showing how confidently we believe a sample mean (or other parameter) falls in a range for the population mean.\n",
    "\n",
    "#### One interesting thing to note here too is that in our margin of error formula, the larger n becomes, the narrower our confidence interval becomes! This makes sense because if we have a larger sample, we are more confident in the population mean falling in a smaller range, hence why it’s called a confidence interval."
   ]
  },
  {
   "cell_type": "markdown",
   "metadata": {},
   "source": [
    "## Exercises\n",
    "#### A manufacturer says the Z-Phone smart phone has a mean consumer life of 42 months with a standard deviation of 8 months. Assuming a normal distribution, what is the probability a given random Z-Phone will last between 20 and 30 months?"
   ]
  },
  {
   "cell_type": "code",
   "execution_count": 2,
   "metadata": {},
   "outputs": [
    {
     "name": "stdout",
     "output_type": "stream",
     "text": [
      "0.0638274380338035\n"
     ]
    }
   ],
   "source": [
    "from scipy.stats import norm\n",
    "mean = 42\n",
    "std = 8\n",
    "\n",
    "z_score1 = (20 - 42) / 8\n",
    "z_score2 = (30 - 42) / 8\n",
    "\n",
    "prob_less_20 = norm.cdf(z_score1)\n",
    "prob_less_30 = norm.cdf(z_score2)\n",
    "\n",
    "print(prob_less_30 - prob_less_20)\n"
   ]
  },
  {
   "cell_type": "markdown",
   "metadata": {},
   "source": [
    "## Exercise 3:\n",
    "#### I am skeptical that my 3D printer filament is not 1.75 mm in average diameter as advertised. I sampled 34 measurements with my tool. The sample mean is 1.715588 and the sample standard deviation is 0.029252. What is the 99% confidence interval for the mean of my entire spool of filament?"
   ]
  },
  {
   "cell_type": "code",
   "execution_count": 3,
   "metadata": {},
   "outputs": [
    {
     "name": "stdout",
     "output_type": "stream",
     "text": [
      "99% Confidence Interval: (1.7018760349925839, 1.729299965007416)\n"
     ]
    }
   ],
   "source": [
    "from scipy.stats import t\n",
    "import numpy as np\n",
    "\n",
    "# Given values\n",
    "n = 34\n",
    "mean = 1.715588\n",
    "std_dev = 0.029252\n",
    "confidence_level = 0.99\n",
    "\n",
    "# Degrees of freedom\n",
    "df = n - 1\n",
    "\n",
    "# t-critical value for 99% confidence level\n",
    "t_critical = t.ppf((1 + confidence_level) / 2, df)\n",
    "\n",
    "# Standard error of the mean\n",
    "sem = std_dev / np.sqrt(n)\n",
    "\n",
    "# Confidence interval calculation\n",
    "margin_of_error = t_critical * sem\n",
    "confidence_interval = (mean - margin_of_error, mean + margin_of_error)\n",
    "\n",
    "print(f\"99% Confidence Interval: {confidence_interval}\")\n"
   ]
  },
  {
   "cell_type": "markdown",
   "metadata": {},
   "source": [
    "## What Does Standard Error Tell Us?\n",
    "\n",
    "#### Standard error measures the dispersion or variability of the sample mean from the population mean. It tells us how much the sample mean would vary from the true population mean if you were to repeat the experiment multiple times under the same conditions."
   ]
  },
  {
   "cell_type": "markdown",
   "metadata": {},
   "source": [
    "## What is Margin of Error?\n",
    "#### Margin of error in a confidence interval calculation represents the extent of the interval on either side of the sample mean, indicating the precision of our estimate."
   ]
  },
  {
   "cell_type": "markdown",
   "metadata": {},
   "source": [
    "## Exercise 4\n",
    "\n",
    "#### Your marketing department has started a new advertising campaign and wants to know if it affected sales, which in the past averaged $10,345 a day with a standard deviation of $552. The new advertising campaign ran for 45 days and averaged $11,641 in sales. Did the campaign affect sales? Why or why not? (Use a two-tailed test for more reliable significance.)"
   ]
  },
  {
   "cell_type": "code",
   "execution_count": 6,
   "metadata": {},
   "outputs": [
    {
     "name": "stdout",
     "output_type": "stream",
     "text": [
      "Two-tailed P-value 0.01888333596496139\n",
      "Passes two-tailed test\n"
     ]
    }
   ],
   "source": [
    "from scipy.stats import norm\n",
    "\n",
    "mean = 10345\n",
    "std_dev = 552\n",
    "\n",
    "p1 = 1.0 - norm.cdf(11641, mean, std_dev)\n",
    "\n",
    "# Take advantage of symmetry\n",
    "p2 = p1\n",
    "\n",
    "# P-value of both tails\n",
    "# I could have also just multiplied by 2\n",
    "p_value = p1 + p2\n",
    "\n",
    "print(\"Two-tailed P-value\", p_value)\n",
    "if p_value <= .05:\n",
    "    print(\"Passes two-tailed test\")\n",
    "else:\n",
    "    print(\"Fails two-tailed test\")"
   ]
  },
  {
   "cell_type": "code",
   "execution_count": null,
   "metadata": {},
   "outputs": [],
   "source": []
  }
 ],
 "metadata": {
  "kernelspec": {
   "display_name": "machine-learning-env",
   "language": "python",
   "name": "python3"
  },
  "language_info": {
   "codemirror_mode": {
    "name": "ipython",
    "version": 3
   },
   "file_extension": ".py",
   "mimetype": "text/x-python",
   "name": "python",
   "nbconvert_exporter": "python",
   "pygments_lexer": "ipython3",
   "version": "3.9.19"
  }
 },
 "nbformat": 4,
 "nbformat_minor": 2
}
