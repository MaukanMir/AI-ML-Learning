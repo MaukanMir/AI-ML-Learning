{
 "cells": [
  {
   "cell_type": "markdown",
   "metadata": {},
   "source": [
    "# Linear Regression"
   ]
  },
  {
   "cell_type": "code",
   "execution_count": 1,
   "metadata": {},
   "outputs": [
    {
     "name": "stdout",
     "output_type": "stream",
     "text": [
      "m = [1.93939394]\n",
      "b = [4.73333333]\n"
     ]
    },
    {
     "data": {
      "image/png": "[encoded data removed]",
      "text/plain": [
       "<Figure size 640x480 with 1 Axes>"
      ]
     },
     "metadata": {},
     "output_type": "display_data"
    }
   ],
   "source": [
    "import pandas as pd\n",
    "import matplotlib.pyplot as plt\n",
    "from sklearn.linear_model import LinearRegression\n",
    "\n",
    "# Import points\n",
    "df = pd.read_csv('https://bit.ly/3goOAnt', delimiter=\",\")\n",
    "\n",
    "# Extract input variables (all rows, all columns but last column)\n",
    "X = df.values[:, :-1]\n",
    "\n",
    "# Extract output column (all rows, last column)\n",
    "Y = df.values[:, -1]\n",
    "\n",
    "# Fit a line to the points\n",
    "fit = LinearRegression().fit(X, Y)\n",
    "\n",
    "# m = 1.7867224, b = -16.51923513\n",
    "m = fit.coef_.flatten()\n",
    "b = fit.intercept_.flatten()\n",
    "print(\"m = {0}\".format(m))\n",
    "print(\"b = {0}\".format(b))\n",
    "\n",
    "# show in chart\n",
    "plt.plot(X, Y, 'o') # scatterplot\n",
    "plt.plot(X, m*X+b) # line\n",
    "plt.show()"
   ]
  },
  {
   "cell_type": "markdown",
   "metadata": {},
   "source": [
    "## M\n",
    "\n",
    "#### m: Slope of the regression line. It represents the change in y for a one-unit change in 𝑥. In other words, it quantifies the relationship between the independent variable and the dependent variable. It tells you how much y increases or decreases when x increases by one unit.\n",
    "\n",
    "## B\n",
    "#### Intercept of the regression line. It is the predicted value of y when x is zero. It’s where the line crosses the y-axis."
   ]
  },
  {
   "cell_type": "code",
   "execution_count": 2,
   "metadata": {},
   "outputs": [
    {
     "name": "stdout",
     "output_type": "stream",
     "text": [
      "[1.93939394 4.73333333]\n"
     ]
    }
   ],
   "source": [
    "import pandas as pd\n",
    "from numpy.linalg import inv\n",
    "import numpy as np\n",
    "\n",
    "# Import points\n",
    "df = pd.read_csv('https://bit.ly/3goOAnt', delimiter=\",\")\n",
    "\n",
    "# Extract input variables (all rows, all columns but last column)\n",
    "X = df.values[:, :-1].flatten()\n",
    "\n",
    "# Add placeholder \"1\" column to generate intercept\n",
    "X_1 = np.vstack([X, np.ones(len(X))]).T\n",
    "\n",
    "# Extract output column (all rows, last column)\n",
    "Y = df.values[:, -1]\n",
    "\n",
    "# Calculate coefficents for slope and intercept\n",
    "b = inv(X_1.transpose() @ X_1) @ (X_1.transpose() @ Y)\n",
    "print(b) # [1.93939394, 4.73333333]\n",
    "\n",
    "# Predict against the y-values\n",
    "y_predict = X_1.dot(b)"
   ]
  },
  {
   "cell_type": "code",
   "execution_count": 3,
   "metadata": {},
   "outputs": [
    {
     "name": "stdout",
     "output_type": "stream",
     "text": [
      "[1.93939394 4.73333333]\n"
     ]
    }
   ],
   "source": [
    "import pandas as pd\n",
    "from numpy.linalg import qr, inv\n",
    "import numpy as np\n",
    "\n",
    "# Import points\n",
    "df = pd.read_csv('https://bit.ly/3goOAnt', delimiter=\",\")\n",
    "\n",
    "# Extract input variables (all rows, all columns but last column)\n",
    "X = df.values[:, :-1].flatten()\n",
    "\n",
    "# Add placeholder \"1\" column to generate intercept\n",
    "X_1 = np.vstack([X, np.ones(len(X))]).transpose()\n",
    "\n",
    "# Extract output column (all rows, last column)\n",
    "Y = df.values[:, -1]\n",
    "\n",
    "# calculate coefficents for slope and intercept\n",
    "# using QR decomposition\n",
    "Q, R = qr(X_1)\n",
    "b = inv(R).dot(Q.transpose()).dot(Y)\n",
    "\n",
    "print(b) # [1.93939394, 4.73333333]"
   ]
  },
  {
   "cell_type": "markdown",
   "metadata": {},
   "source": [
    "## Gradient Descent\n",
    "\n",
    "#### Gradient descent is an optimization technique that uses derivatives and iterations to minimize/maximize a set of parameters against an objective. To learn about gradient descent, let’s do a quick thought experiment and then apply it on a simple example.\n",
    "\n"
   ]
  },
  {
   "cell_type": "code",
   "execution_count": 4,
   "metadata": {},
   "outputs": [
    {
     "name": "stdout",
     "output_type": "stream",
     "text": [
      "-2.2621571628540997 2.262157162854099\n"
     ]
    }
   ],
   "source": [
    "from scipy.stats import t\n",
    "\n",
    "n = 10\n",
    "lower_cv = t(n-1).ppf(.025)\n",
    "upper_cv = t(n-1).ppf(.975)\n",
    "\n",
    "print(lower_cv, upper_cv)"
   ]
  },
  {
   "cell_type": "code",
   "execution_count": 5,
   "metadata": {},
   "outputs": [
    {
     "name": "stdout",
     "output_type": "stream",
     "text": [
      "TEST VALUE: 9.399564671312076\n",
      "CRITICAL RANGE: -2.2621571628540997, 2.262157162854099\n",
      "CORRELATION PROVEN, REJECT H0\n",
      "P-VALUE: 5.9763860877914965e-06\n"
     ]
    }
   ],
   "source": [
    "from scipy.stats import t\n",
    "from math import sqrt\n",
    "\n",
    "# sample size\n",
    "n = 10\n",
    "\n",
    "lower_cv = t(n-1).ppf(.025)\n",
    "upper_cv = t(n-1).ppf(.975)\n",
    "\n",
    "# correlation coefficient\n",
    "# derived from data https://bit.ly/2KF29Bd\n",
    "r = 0.957586\n",
    "\n",
    "# Perform the test\n",
    "test_value = r / sqrt((1-r**2) / (n-2))\n",
    "\n",
    "print(\"TEST VALUE: {}\".format(test_value))\n",
    "print(\"CRITICAL RANGE: {}, {}\".format(lower_cv, upper_cv))\n",
    "\n",
    "if test_value < lower_cv or test_value > upper_cv:\n",
    "    print(\"CORRELATION PROVEN, REJECT H0\")\n",
    "else:\n",
    "    print(\"CORRELATION NOT PROVEN, FAILED TO REJECT H0 \")\n",
    "\n",
    "# Calculate p-value\n",
    "if test_value > 0:\n",
    "    p_value = 1.0 - t(n-1).cdf(test_value)\n",
    "else:\n",
    "    p_value = t(n-1).cdf(test_value)\n",
    "\n",
    "# Two-tailed, so multiply by 2\n",
    "p_value = p_value * 2\n",
    "print(\"P-VALUE: {}\".format(p_value))"
   ]
  },
  {
   "cell_type": "markdown",
   "metadata": {},
   "source": [
    "## Coefficient of Determination\n",
    "#### Let’s learn an important metric you will see a lot in statistics and machine learning regressions. The coefficient of determination, called 𝑟2, measures how much variation in one variable is explainable by the variation of the other variable. It is also the square of the correlation coefficient 𝑟. As 𝑟 approaches a perfect correlation (–1 or 1), 𝑟2 approaches 1. Essentially, 𝑟2 shows how much two variables interact with each other."
   ]
  },
  {
   "cell_type": "code",
   "execution_count": 6,
   "metadata": {},
   "outputs": [
    {
     "name": "stdout",
     "output_type": "stream",
     "text": [
      "          x         y\n",
      "x  1.000000  0.916971\n",
      "y  0.916971  1.000000\n"
     ]
    }
   ],
   "source": [
    "import pandas as pd\n",
    "\n",
    "# Read data into Pandas dataframe\n",
    "df = pd.read_csv('https://bit.ly/2KF29Bd', delimiter=\",\")\n",
    "\n",
    "# Print correlations between variables\n",
    "coeff_determination = df.corr(method='pearson') ** 2\n",
    "print(coeff_determination)\n",
    "\n",
    "# OUTPUT:\n",
    "#           x         y\n",
    "# x  1.000000  0.916971\n",
    "# y  0.916971  1.000000"
   ]
  },
  {
   "cell_type": "code",
   "execution_count": 7,
   "metadata": {},
   "outputs": [
    {
     "name": "stdout",
     "output_type": "stream",
     "text": [
      "16.46251687560351 25.966483124396493\n"
     ]
    }
   ],
   "source": [
    "import pandas as pd\n",
    "from scipy.stats import t\n",
    "from math import sqrt\n",
    "\n",
    "# Load the data\n",
    "points = list(pd.read_csv('https://bit.ly/2KF29Bd', delimiter=\",\").itertuples())\n",
    "\n",
    "n = len(points)\n",
    "\n",
    "# Linear Regression Line\n",
    "m = 1.939\n",
    "b = 4.733\n",
    "\n",
    "# Calculate Prediction Interval for x = 8.5\n",
    "x_0 = 8.5\n",
    "x_mean = sum(p.x for p in points) / len(points)\n",
    "\n",
    "t_value = t(n - 2).ppf(.975)\n",
    "\n",
    "standard_error = sqrt(sum((p.y - (m * p.x + b)) ** 2 for p in points) / (n - 2))\n",
    "\n",
    "margin_of_error = t_value * standard_error * \\\n",
    "                  sqrt(1 + (1 / n) + (n * (x_0 - x_mean) ** 2) / \\\n",
    "                       (n * sum(p.x ** 2 for p in points) - \\\n",
    "                            sum(p.x for p in points) ** 2))\n",
    "\n",
    "predicted_y = m*x_0 + b\n",
    "\n",
    "# Calculate prediction interval\n",
    "print(predicted_y - margin_of_error, predicted_y + margin_of_error)\n",
    "# 16.462516875955465 25.966483124044537"
   ]
  },
  {
   "cell_type": "code",
   "execution_count": 8,
   "metadata": {},
   "outputs": [
    {
     "name": "stdout",
     "output_type": "stream",
     "text": [
      "r^2: 0.993\n"
     ]
    }
   ],
   "source": [
    "import pandas as pd\n",
    "from sklearn.linear_model import LinearRegression\n",
    "from sklearn.model_selection import train_test_split\n",
    "\n",
    "# Load the data\n",
    "df = pd.read_csv('https://bit.ly/3cIH97A', delimiter=\",\")\n",
    "\n",
    "# Extract input variables (all rows, all columns but last column)\n",
    "X = df.values[:, :-1]\n",
    "\n",
    "# Extract output column (all rows, last column)\n",
    "Y = df.values[:, -1]\n",
    "\n",
    "# Separate training and testing data\n",
    "# This leaves a third of the data out for testing\n",
    "X_train, X_test, Y_train, Y_test = train_test_split(X, Y, test_size=1/3)\n",
    "\n",
    "model = LinearRegression()\n",
    "model.fit(X_train, Y_train)\n",
    "result = model.score(X_test, Y_test)\n",
    "print(\"r^2: %.3f\" % result)"
   ]
  },
  {
   "cell_type": "code",
   "execution_count": 9,
   "metadata": {},
   "outputs": [
    {
     "name": "stdout",
     "output_type": "stream",
     "text": [
      "[0.99337354 0.99345032 0.99251425]\n",
      "MSE: mean=0.993 (stdev-0.000)\n"
     ]
    }
   ],
   "source": [
    "import pandas as pd\n",
    "from sklearn.linear_model import LinearRegression\n",
    "from sklearn.model_selection import KFold, cross_val_score\n",
    "\n",
    "df = pd.read_csv('https://bit.ly/3cIH97A', delimiter=\",\")\n",
    "\n",
    "# Extract input variables (all rows, all columns but last column)\n",
    "X = df.values[:, :-1]\n",
    "\n",
    "# Extract output column (all rows, last column)\\\n",
    "Y = df.values[:, -1]\n",
    "\n",
    "# Perform a simple linear regression\n",
    "kfold = KFold(n_splits=3, random_state=7, shuffle=True)\n",
    "model = LinearRegression()\n",
    "results = cross_val_score(model, X, Y, cv=kfold)\n",
    "print(results)\n",
    "print(\"MSE: mean=%.3f (stdev-%.3f)\" % (results.mean(), results.std()))"
   ]
  },
  {
   "cell_type": "code",
   "execution_count": 10,
   "metadata": {},
   "outputs": [
    {
     "name": "stdout",
     "output_type": "stream",
     "text": [
      "[0.82514286 0.23552344 0.92653455 0.91620594 0.73260142 0.8698865\n",
      " 0.55254014 0.89593526 0.91570078 0.82086621]\n",
      "mean=0.769 (stdev-0.208)\n"
     ]
    }
   ],
   "source": [
    "import pandas as pd\n",
    "from sklearn.linear_model import LinearRegression\n",
    "from sklearn.model_selection import cross_val_score, ShuffleSplit\n",
    "\n",
    "df = pd.read_csv('https://bit.ly/38XwbeB', delimiter=\",\")\n",
    "\n",
    "# Extract input variables (all rows, all columns but last column)\n",
    "X = df.values[:, :-1]\n",
    "\n",
    "# Extract output column (all rows, last column)\\\n",
    "Y = df.values[:, -1]\n",
    "\n",
    "# Perform a simple linear regression\n",
    "kfold = ShuffleSplit(n_splits=10, test_size=.33, random_state=7)\n",
    "model = LinearRegression()\n",
    "results = cross_val_score(model, X, Y, cv=kfold)\n",
    "\n",
    "print(results)\n",
    "print(\"mean=%.3f (stdev-%.3f)\" % (results.mean(), results.std()))"
   ]
  },
  {
   "cell_type": "markdown",
   "metadata": {},
   "source": [
    "## Exercise 1\n",
    "#### Perform a simple linear regression to find the m and b values that minimizes the loss (sum of squares)."
   ]
  },
  {
   "cell_type": "code",
   "execution_count": 21,
   "metadata": {},
   "outputs": [
    {
     "name": "stdout",
     "output_type": "stream",
     "text": [
      "m = 1.759193148105248\n",
      "b = 4.69359654825405\n"
     ]
    }
   ],
   "source": [
    "df = pd.read_csv(\"https://bit.ly/3C8JzrM\")\n",
    "\n",
    "\n",
    "X = df.values[:, :-1]\n",
    "y = df.values[:, -1]\n",
    "\n",
    "fit = LinearRegression().fit(X, y)\n",
    "\n",
    "m = fit.coef_.flatten()[0]\n",
    "b = fit.intercept_.flatten()[0]\n",
    "print(\"m = {0}\".format(m))\n",
    "print(\"b = {0}\".format(b))\n"
   ]
  },
  {
   "cell_type": "code",
   "execution_count": 23,
   "metadata": {},
   "outputs": [
    {
     "name": "stdout",
     "output_type": "stream",
     "text": [
      "Sum Of Squares: 42719.84974651069\n"
     ]
    }
   ],
   "source": [
    "df = pd.read_csv(\"https://bit.ly/3C8JzrM\").itertuples()\n",
    "\n",
    "sum_of_squares = 0.0\n",
    "for val in df:\n",
    "  y_actual = val.y\n",
    "  y_predict = m * val.x + b\n",
    "  residual = y_actual - y_predict\n",
    "  residual_squared = (residual)**2\n",
    "  sum_of_squares += residual_squared\n",
    "\n",
    "print(f\"Sum Of Squares: {sum_of_squares}\")"
   ]
  },
  {
   "cell_type": "markdown",
   "metadata": {},
   "source": [
    "## Exercise 2\n",
    "#### Calculate the correlation coefficient and statistical significance of this data (at 95% confidence). Is the correlation useful?"
   ]
  },
  {
   "cell_type": "code",
   "execution_count": 26,
   "metadata": {},
   "outputs": [
    {
     "data": {
      "text/html": [
       "<div>\n",
       "<style scoped>\n",
       "    .dataframe tbody tr th:only-of-type {\n",
       "        vertical-align: middle;\n",
       "    }\n",
       "\n",
       "    .dataframe tbody tr th {\n",
       "        vertical-align: top;\n",
       "    }\n",
       "\n",
       "    .dataframe thead th {\n",
       "        text-align: right;\n",
       "    }\n",
       "</style>\n",
       "<table border=\"1\" class=\"dataframe\">\n",
       "  <thead>\n",
       "    <tr style=\"text-align: right;\">\n",
       "      <th></th>\n",
       "      <th>x</th>\n",
       "      <th>y</th>\n",
       "    </tr>\n",
       "  </thead>\n",
       "  <tbody>\n",
       "    <tr>\n",
       "      <th>x</th>\n",
       "      <td>1.00000</td>\n",
       "      <td>0.92421</td>\n",
       "    </tr>\n",
       "    <tr>\n",
       "      <th>y</th>\n",
       "      <td>0.92421</td>\n",
       "      <td>1.00000</td>\n",
       "    </tr>\n",
       "  </tbody>\n",
       "</table>\n",
       "</div>"
      ],
      "text/plain": [
       "         x        y\n",
       "x  1.00000  0.92421\n",
       "y  0.92421  1.00000"
      ]
     },
     "execution_count": 26,
     "metadata": {},
     "output_type": "execute_result"
    }
   ],
   "source": [
    "df = pd.read_csv(\"https://bit.ly/3C8JzrM\")\n",
    "correlations = df.corr(method=\"pearson\")\n",
    "correlations"
   ]
  },
  {
   "cell_type": "code",
   "execution_count": 27,
   "metadata": {},
   "outputs": [
    {
     "name": "stdout",
     "output_type": "stream",
     "text": [
      "-2.2621571628540997 2.262157162854099\n"
     ]
    }
   ],
   "source": [
    "from scipy.stats import t\n",
    "\n",
    "n = 10\n",
    "lower_cv = t(n-1).ppf(.025)\n",
    "upper_cv = t(n-1).ppf(.975)\n",
    "\n",
    "print(lower_cv, upper_cv)"
   ]
  },
  {
   "cell_type": "code",
   "execution_count": 32,
   "metadata": {},
   "outputs": [
    {
     "name": "stdout",
     "output_type": "stream",
     "text": [
      "TEST VALUE: 6.845161076596911\n",
      "CRITICAL RANGE: -2.2621571628540997, 2.262157162854099\n",
      "CORRELATION PROVEN, REJECT H0\n",
      "P-VALUE: 7.514012525766667e-05\n"
     ]
    }
   ],
   "source": [
    "r = correlations[\"y\"][\"x\"]\n",
    "\n",
    "test_value = r / sqrt((1 - r ** 2) / (n - 2))\n",
    "\n",
    "print(\"TEST VALUE: {}\".format(test_value))\n",
    "print(\"CRITICAL RANGE: {}, {}\".format(lower_cv, upper_cv))\n",
    "\n",
    "if test_value < lower_cv or test_value > upper_cv:\n",
    "    print(\"CORRELATION PROVEN, REJECT H0\")\n",
    "else:\n",
    "    print(\"CORRELATION NOT PROVEN, FAILED TO REJECT H0 \")\n",
    "\n",
    "# Calculate p-value\n",
    "if test_value > 0:\n",
    "    p_value = 1.0 - t(n - 1).cdf(test_value)\n",
    "else:\n",
    "    p_value = t(n - 1).cdf(test_value)\n",
    "\n",
    "# Two-tailed, so multiply by 2\n",
    "p_value = p_value * 2\n",
    "print(\"P-VALUE: {}\".format(p_value))"
   ]
  },
  {
   "cell_type": "code",
   "execution_count": null,
   "metadata": {},
   "outputs": [],
   "source": []
  }
 ],
 "metadata": {
  "kernelspec": {
   "display_name": "machine-learning-env",
   "language": "python",
   "name": "python3"
  },
  "language_info": {
   "codemirror_mode": {
    "name": "ipython",
    "version": 3
   },
   "file_extension": ".py",
   "mimetype": "text/x-python",
   "name": "python",
   "nbconvert_exporter": "python",
   "pygments_lexer": "ipython3",
   "version": "3.9.19"
  }
 },
 "nbformat": 4,
 "nbformat_minor": 2
}
