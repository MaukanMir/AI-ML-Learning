{
 "cells": [
  {
   "cell_type": "markdown",
   "metadata": {},
   "source": [
    "# Probability"
   ]
  },
  {
   "cell_type": "code",
   "execution_count": 4,
   "metadata": {},
   "outputs": [
    {
     "data": {
      "text/plain": [
       "0.06538461538461539"
      ]
     },
     "execution_count": 4,
     "metadata": {},
     "output_type": "execute_result"
    }
   ],
   "source": [
    "P_coffe = 0.65\n",
    "p_cancer = .005\n",
    "\n",
    "# p_cancer_given_coffe = P(coffe | Cancer) * P(cancer) / P(Coffee)\n",
    "\n",
    "p = ( .85 *.005)/ .065\n",
    "p\n"
   ]
  },
  {
   "cell_type": "code",
   "execution_count": 9,
   "metadata": {},
   "outputs": [
    {
     "data": {
      "text/plain": [
       "0.3486784401000001"
      ]
     },
     "execution_count": 9,
     "metadata": {},
     "output_type": "execute_result"
    }
   ],
   "source": [
    "from scipy.stats import binom\n",
    "\n",
    "n = 10\n",
    "k = 10\n",
    "p = 9/10\n",
    "\n",
    "probability = binom.pmf(k, n, p)\n",
    "probability"
   ]
  },
  {
   "cell_type": "code",
   "execution_count": 10,
   "metadata": {},
   "outputs": [
    {
     "name": "stdout",
     "output_type": "stream",
     "text": [
      "0 - 9.999999999999981e-11\n",
      "1 - 8.999999999999986e-09\n",
      "2 - 3.644999999999997e-07\n",
      "3 - 8.747999999999995e-06\n",
      "4 - 0.00013778099999999982\n",
      "5 - 0.0014880347999999988\n",
      "6 - 0.011160261000000001\n",
      "7 - 0.05739562799999998\n",
      "8 - 0.1937102445\n",
      "9 - 0.387420489\n",
      "10 - 0.3486784401000001\n"
     ]
    }
   ],
   "source": [
    "from scipy.stats import binom\n",
    "\n",
    "n = 10\n",
    "p = 0.9\n",
    "\n",
    "for k in range(n + 1):\n",
    "    probability = binom.pmf(k, n, p)\n",
    "    print(\"{0} - {1}\".format(k, probability))"
   ]
  },
  {
   "cell_type": "code",
   "execution_count": 11,
   "metadata": {},
   "outputs": [
    {
     "name": "stdout",
     "output_type": "stream",
     "text": [
      "0.7748409780000002\n"
     ]
    }
   ],
   "source": [
    "from scipy.stats import beta\n",
    "\n",
    "a = 8\n",
    "b = 2\n",
    "\n",
    "p = beta.cdf(.90, a, b)\n",
    "\n",
    "print(p)"
   ]
  },
  {
   "cell_type": "markdown",
   "metadata": {},
   "source": [
    "#### So according to our calculation, there is a 77.48% chance the underlying probability of success is 90% or less."
   ]
  },
  {
   "cell_type": "code",
   "execution_count": 12,
   "metadata": {},
   "outputs": [
    {
     "name": "stdout",
     "output_type": "stream",
     "text": [
      "0.22515902199999982\n"
     ]
    }
   ],
   "source": [
    "from scipy.stats import beta\n",
    "\n",
    "a = 8\n",
    "b = 2\n",
    "\n",
    "p = 1.0 - beta.cdf(.90, a, b)\n",
    "print(p)"
   ]
  },
  {
   "cell_type": "markdown",
   "metadata": {},
   "source": [
    "#### This means that out of 8/10 successful engine tests, there is only a 22.5% chance the underlying success rate is 90% or greater."
   ]
  },
  {
   "cell_type": "code",
   "execution_count": 14,
   "metadata": {},
   "outputs": [
    {
     "name": "stdout",
     "output_type": "stream",
     "text": [
      "0.13163577484183697\n"
     ]
    }
   ],
   "source": [
    "from scipy.stats import beta\n",
    "\n",
    "a = 30\n",
    "b = 6\n",
    "\n",
    "p = 1.0 - beta.cdf(.90, a, b)\n",
    "\n",
    "print(p)"
   ]
  },
  {
   "cell_type": "code",
   "execution_count": 15,
   "metadata": {},
   "outputs": [
    {
     "name": "stdout",
     "output_type": "stream",
     "text": [
      "0.33863336199999994\n"
     ]
    }
   ],
   "source": [
    "from scipy.stats import beta\n",
    "\n",
    "a = 8\n",
    "b = 2\n",
    "\n",
    "p = beta.cdf(.90, a, b) - beta.cdf(.80, a, b)\n",
    "\n",
    "print(p)"
   ]
  },
  {
   "cell_type": "markdown",
   "metadata": {},
   "source": [
    "## Exercise 1:\n",
    "\n",
    "##### There is a 30% chance of rain today, and a 40% chance your umbrella order will arrive on time. You are eager to walk in the rain today and cannot do so without either! What is the probability it will rain AND your umbrella will arrive?\n",
    "\n",
    "- P(Rain) = 0.30%\n",
    "- P(umbrella) = 0.40%\n",
    "- P(Rain AND Umbrella) = Joint Probability  P(rain) * P(umbrella)\n",
    "- Joint Probabilities = P(A AND B) = P(A) * P(B)"
   ]
  },
  {
   "cell_type": "code",
   "execution_count": 16,
   "metadata": {},
   "outputs": [
    {
     "data": {
      "text/plain": [
       "0.12"
      ]
     },
     "execution_count": 16,
     "metadata": {},
     "output_type": "execute_result"
    }
   ],
   "source": [
    "rain = 0.30\n",
    "umbrella = 0.40\n",
    "\n",
    "umbrella * rain"
   ]
  },
  {
   "cell_type": "markdown",
   "metadata": {},
   "source": [
    "#### This is known as the sum rule of probability and ensures every joint event is counted only once:\n",
    "- P(A OR B) = P(A) + P(B) - P(A AND B)"
   ]
  },
  {
   "cell_type": "markdown",
   "metadata": {},
   "source": [
    "## Exercise 2\n",
    "#### There is a 30% chance of rain today, and a 40% chance your umbrella order will arrive on time. You will be able to run errands only if it does not rain or your umbrella arrives. What is the probability it will not rain OR your umbrella arrives?\n",
    "\n",
    "- P(Not Rain) = 0.70%\n",
    "- P(Umbrella) = 0.40%\n",
    "- P(Umbrella OR Not Rain) = 0.70 + 0.40 - (0.70 * 0.40)"
   ]
  },
  {
   "cell_type": "code",
   "execution_count": 17,
   "metadata": {},
   "outputs": [
    {
     "data": {
      "text/plain": [
       "0.8200000000000001"
      ]
     },
     "execution_count": 17,
     "metadata": {},
     "output_type": "execute_result"
    }
   ],
   "source": [
    "(0.70 + 0.40) - (0.70 * 0.40)"
   ]
  },
  {
   "cell_type": "markdown",
   "metadata": {},
   "source": [
    "## Exercise 3\n",
    "#### There is a 30% chance of rain today, and a 40% chance your umbrella order will arrive on time. However, you found out if it rains there is only a 20% chance your umbrella will arrive on time. What is the probability it will rain AND your umbrella will arrive on time?\n",
    "\n",
    "- P(rain) = 0.30\n",
    "- p(umbrella) = 0.40\n",
    "- P(umbrella | rain) = 0.20\n",
    "- P(Rain AND Umbrella) =  P(umbrella | Rain) * P(Rain)"
   ]
  },
  {
   "cell_type": "code",
   "execution_count": 19,
   "metadata": {},
   "outputs": [
    {
     "data": {
      "text/plain": [
       "0.06"
      ]
     },
     "execution_count": 19,
     "metadata": {},
     "output_type": "execute_result"
    }
   ],
   "source": [
    "(0.20 * 0.30 )"
   ]
  },
  {
   "cell_type": "markdown",
   "metadata": {},
   "source": [
    "## Exercise 4\n",
    "\n",
    "#### You have 137 passengers booked on a flight from Las Vegas to Dallas. However, it is Las Vegas on a Sunday morning and you estimate each passenger is 40% likely to not show up. You are trying to figure out how many seats to overbook so the plane does not fly empty. How likely is it at least 50 passengers will not show up?"
   ]
  },
  {
   "cell_type": "code",
   "execution_count": 20,
   "metadata": {},
   "outputs": [
    {
     "name": "stdout",
     "output_type": "stream",
     "text": [
      "The probability that at least 50 passengers will not show up is: 0.8221\n"
     ]
    }
   ],
   "source": [
    "from scipy.stats import binom\n",
    "\n",
    "n = 137  # Total number of passengers\n",
    "p = 0.40  # Probability of a passenger not showing up\n",
    "\n",
    "# We want the probability of having at least 50 passengers not show up\n",
    "k = 50\n",
    "\n",
    "# Calculating P(X >= 50)\n",
    "# Since CDF gives P(X <= k), we use 1 - P(X <= k-1) to get P(X >= k)\n",
    "probability_at_least_50 = 1 - binom.cdf(k-1, n, p)\n",
    "\n",
    "print(f\"The probability that at least 50 passengers will not show up is: {probability_at_least_50:.4f}\")\n"
   ]
  },
  {
   "cell_type": "markdown",
   "metadata": {},
   "source": [
    "## Exercise 5\n",
    "#### You flipped a coin 10 times and got heads 8 times and tails 2 times. Do you think this coin has any good probability of being fair? Why or why not?"
   ]
  },
  {
   "cell_type": "code",
   "execution_count": 22,
   "metadata": {},
   "outputs": [
    {
     "data": {
      "text/plain": [
       "0.98046875"
      ]
     },
     "execution_count": 22,
     "metadata": {},
     "output_type": "execute_result"
    }
   ],
   "source": [
    "from scipy.stats import beta\n",
    "\n",
    "a = 8\n",
    "b = 2\n",
    "\n",
    "1 - beta.cdf(.50, a, b)"
   ]
  }
 ],
 "metadata": {
  "kernelspec": {
   "display_name": "machine-learning-env",
   "language": "python",
   "name": "python3"
  },
  "language_info": {
   "codemirror_mode": {
    "name": "ipython",
    "version": 3
   },
   "file_extension": ".py",
   "mimetype": "text/x-python",
   "name": "python",
   "nbconvert_exporter": "python",
   "pygments_lexer": "ipython3",
   "version": "3.9.19"
  }
 },
 "nbformat": 4,
 "nbformat_minor": 2
}
