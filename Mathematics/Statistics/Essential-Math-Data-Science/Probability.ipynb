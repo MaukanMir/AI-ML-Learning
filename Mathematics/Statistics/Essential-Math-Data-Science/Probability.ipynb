{
 "cells": [
  {
   "cell_type": "markdown",
   "metadata": {},
   "source": [
    "# Probability"
   ]
  },
  {
   "cell_type": "code",
   "execution_count": 4,
   "metadata": {},
   "outputs": [
    {
     "data": {
      "text/plain": [
       "0.06538461538461539"
      ]
     },
     "execution_count": 4,
     "metadata": {},
     "output_type": "execute_result"
    }
   ],
   "source": [
    "P_coffe = 0.65\n",
    "p_cancer = .005\n",
    "\n",
    "# p_cancer_given_coffe = P(coffe | Cancer) * P(cancer) / P(Coffee)\n",
    "\n",
    "p = ( .85 *.005)/ .065\n",
    "p\n"
   ]
  },
  {
   "cell_type": "code",
   "execution_count": 9,
   "metadata": {},
   "outputs": [
    {
     "data": {
      "text/plain": [
       "0.3486784401000001"
      ]
     },
     "execution_count": 9,
     "metadata": {},
     "output_type": "execute_result"
    }
   ],
   "source": [
    "from scipy.stats import binom\n",
    "\n",
    "n = 10\n",
    "k = 10\n",
    "p = 9/10\n",
    "\n",
    "probability = binom.pmf(k, n, p)\n",
    "probability"
   ]
  },
  {
   "cell_type": "code",
   "execution_count": 10,
   "metadata": {},
   "outputs": [
    {
     "name": "stdout",
     "output_type": "stream",
     "text": [
      "0 - 9.999999999999981e-11\n",
      "1 - 8.999999999999986e-09\n",
      "2 - 3.644999999999997e-07\n",
      "3 - 8.747999999999995e-06\n",
      "4 - 0.00013778099999999982\n",
      "5 - 0.0014880347999999988\n",
      "6 - 0.011160261000000001\n",
      "7 - 0.05739562799999998\n",
      "8 - 0.1937102445\n",
      "9 - 0.387420489\n",
      "10 - 0.3486784401000001\n"
     ]
    }
   ],
   "source": [
    "from scipy.stats import binom\n",
    "\n",
    "n = 10\n",
    "p = 0.9\n",
    "\n",
    "for k in range(n + 1):\n",
    "    probability = binom.pmf(k, n, p)\n",
    "    print(\"{0} - {1}\".format(k, probability))"
   ]
  },
  {
   "cell_type": "code",
   "execution_count": 11,
   "metadata": {},
   "outputs": [
    {
     "name": "stdout",
     "output_type": "stream",
     "text": [
      "0.7748409780000002\n"
     ]
    }
   ],
   "source": [
    "from scipy.stats import beta\n",
    "\n",
    "a = 8\n",
    "b = 2\n",
    "\n",
    "p = beta.cdf(.90, a, b)\n",
    "\n",
    "print(p)"
   ]
  }
 ],
 "metadata": {
  "kernelspec": {
   "display_name": "machine-learning-env",
   "language": "python",
   "name": "python3"
  },
  "language_info": {
   "codemirror_mode": {
    "name": "ipython",
    "version": 3
   },
   "file_extension": ".py",
   "mimetype": "text/x-python",
   "name": "python",
   "nbconvert_exporter": "python",
   "pygments_lexer": "ipython3",
   "version": "3.9.19"
  }
 },
 "nbformat": 4,
 "nbformat_minor": 2
}
