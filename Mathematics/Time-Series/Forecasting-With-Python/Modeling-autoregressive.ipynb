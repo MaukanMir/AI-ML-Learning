{
 "cells": [
  {
   "cell_type": "markdown",
   "metadata": {},
   "source": [
    "# Modeling an autoregressive process"
   ]
  },
  {
   "cell_type": "markdown",
   "metadata": {},
   "source": [
    "## Defining the autoregressive process\n",
    "\n",
    "#### An autoregressive process establishes that the output variable depends linearly on its own previous values. In other words, it is a regression of the variable against itself.\n",
    "\n",
    "#### An autoregressive process is denoted as an AR(p) process, where p is the order. In such a process, the present value yt is a linear combination of a constant C, the present error term ϵt, which is also white noise, and the past values of the series yt–p. The magnitude of the influence of the past values on the present value is denoted as ϕp, which represents the coefficients of the AR(p)) model. Mathematically, we express a general AR(p) model with equation 5.1.\n",
    "\n",
    "- yt = C + ϕ1yt–1 + ϕ2yt–2 +⋅⋅⋅ ϕpyt–p + ϵt"
   ]
  },
  {
   "cell_type": "markdown",
   "metadata": {},
   "source": [
    "## Autoregressive process\n",
    "\n",
    "#### An autoregressive process is a regression of a variable against itself. In a time series, this means that the present value is linearly dependent on its past values."
   ]
  },
  {
   "cell_type": "markdown",
   "metadata": {},
   "source": []
  }
 ],
 "metadata": {
  "kernelspec": {
   "display_name": "machine-learning-env",
   "language": "python",
   "name": "python3"
  },
  "language_info": {
   "name": "python",
   "version": "3.9.19"
  }
 },
 "nbformat": 4,
 "nbformat_minor": 2
}
