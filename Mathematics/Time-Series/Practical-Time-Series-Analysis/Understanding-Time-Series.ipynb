{
 "cells": [
  {
   "cell_type": "markdown",
   "metadata": {},
   "source": [
    "# Understanding Time Series Data"
   ]
  },
  {
   "cell_type": "markdown",
   "metadata": {},
   "source": [
    "#### This is also known as convolving over the time index. The two important parameters of the convolving operation are window size and stride length. The former defines the number of time units taken as input to the aggregate function while the latter sets the gap along the time index between every computation. For example, suppose a window size of k and stride of length l is used to compute the function f over a time series x1,x2, ... ,xn having N observations. In this scenario, the moving statistic is obtained as f(x1,x2, ... ,xt), f(x1+l,x2+l, ... ,xt+l), and so on. Notice that every time the function is calculated by shifting the time window to the right by l time units."
   ]
  },
  {
   "cell_type": "markdown",
   "metadata": {},
   "source": [
    "####  Another way of understanding stationarity is that the series has constant mean and constant variance without any predictable and repetitive patterns."
   ]
  },
  {
   "cell_type": "markdown",
   "metadata": {},
   "source": [
    "## Differencing\n",
    "\n",
    "#### The basic idea of differencing is taking differences between successive occurrences of the time series Δxt = xt - xt-1 such that Δxt have constant mean and variance and hence can be treated as a stationary series.\n",
    "The ADF test is based on the idea of differencing the original time series and therefore we will explain it after discussing various types of differencing techniques.\n",
    "\n"
   ]
  },
  {
   "cell_type": "markdown",
   "metadata": {},
   "source": [
    "## First-order differencing\n",
    "\n",
    "#### First order differencing implies taking differences between successive realizations of the time series so that the differences Δxt are irregular variations free from any long run trend or seasonality. The random walk model discussed in the last chapter is a sum of subsequent random variations and is given by xt = xt-l + Єt where Єt is a zero mean random number from normal distribution. Random walks are characterized by long sequence of upward or downward trends. Besides, they take unforeseen changes in direction. Based on these characteristics, random walks are non-stationary. However, the first differences (Δxt of a random walk are equal to the random noise Єt. Hence the residuals remaining after first-order differencing of a random walk is a zero-mean stationary series.\n",
    "\n",
    "## Second-order differencing\n",
    "#### In some cases, first-order differencing does not stationarize the time series and therefore the data is differenced another time to generate a stationary time series. Therefore, the second-order differenced time series is generated as follows:\n",
    "\n",
    "## Seasonal differencing\n",
    "#### When a time series exhibits seasonality of a known time period of m time indices, it can be stationarized by taking seasonal differences between xt and xt-m. These differences taken at lags of length m are indicative of the seasons or quarters in a year. In this case m = 12 and the differences are taken between original observations that are a year apart from each other. The seasonal differences can be expressed as follows:"
   ]
  },
  {
   "cell_type": "markdown",
   "metadata": {},
   "source": [
    "## Augmented Dickey-Fuller test\n",
    "#### The statistical tests for objectively determining whether differencing is required to stationarize a time series are known as unit root tests. There are several such tests of which we discuss the ADF test is one of the unit root tests, that is most commonly used for verifying non-stationarity in the original time series. According to the ADF test, in the presence of autocorrelation, the first-order differences x't of the original series can be expressed as a linear regression model of the previous time index and first-order differences up to a lag of m times indices. "
   ]
  },
  {
   "cell_type": "markdown",
   "metadata": {},
   "source": [
    "## Second order exponential smoothing\n",
    "\n",
    "#### If first order exponential smoothing does not perform well, then there is a trend in the time series data. The trend is commonly observed in many domains such as when marketing campaigns are run by e-commerce companies, the sales rise or any good annual performance by a company will have a bullish effect on its stock prices. The linear trend can occur due to linear trend between time and response:\n",
    "\n",
    "- xt = constant + ωt + εt"
   ]
  },
  {
   "cell_type": "markdown",
   "metadata": {},
   "source": [
    "## First Order Exponential Smoothing\n",
    "\n",
    "#### First-order exponential smoothing is a straightforward and widely used technique for forecasting time series data, particularly when you want to smooth out short-term fluctuations and predict future values based on past data. This method is especially useful when the series does not display strong trend or seasonal patterns.\n",
    "- Smoothing Constant (α): This method involves a smoothing constant α, often referred to as the smoothing factor, which ranges from 0 to 1. This factor determines how much weight is given to the most recent observations relative to older data. A higher α value gives more weight to recent data, making the forecast more responsive to changes. Conversely, a lower α results in smoother forecasts that are less responsive to recent changes.\n",
    "- Forecast Equation: The forecast for the next period\n",
    "\n",
    "## When to Use First-Order Exponential Smoothing\n",
    "#### This method is best suited for data without a strong trend or seasonal effects. It's particularly effective for:\n",
    "\n",
    "- Smoothing out random variations in data.\n",
    "- Providing a simple forecasting approach that can be implemented quickly and easily.\n",
    "- Cases where model simplicity and interpretability are more desirable than capturing complex behaviors in the data."
   ]
  }
 ],
 "metadata": {
  "language_info": {
   "name": "python"
  }
 },
 "nbformat": 4,
 "nbformat_minor": 2
}
