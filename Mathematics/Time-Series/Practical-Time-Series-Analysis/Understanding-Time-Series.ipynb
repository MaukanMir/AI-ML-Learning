{
 "cells": [
  {
   "cell_type": "markdown",
   "metadata": {},
   "source": [
    "# Understanding Time Series Data"
   ]
  },
  {
   "cell_type": "markdown",
   "metadata": {},
   "source": [
    "#### This is also known as convolving over the time index. The two important parameters of the convolving operation are window size and stride length. The former defines the number of time units taken as input to the aggregate function while the latter sets the gap along the time index between every computation. For example, suppose a window size of k and stride of length l is used to compute the function f over a time series x1,x2, ... ,xn having N observations. In this scenario, the moving statistic is obtained as f(x1,x2, ... ,xt), f(x1+l,x2+l, ... ,xt+l), and so on. Notice that every time the function is calculated by shifting the time window to the right by l time units."
   ]
  },
  {
   "cell_type": "markdown",
   "metadata": {},
   "source": [
    "####  Another way of understanding stationarity is that the series has constant mean and constant variance without any predictable and repetitive patterns."
   ]
  },
  {
   "cell_type": "markdown",
   "metadata": {},
   "source": [
    "## Differencing\n",
    "\n",
    "#### The basic idea of differencing is taking differences between successive occurrences of the time series Δxt = xt - xt-1 such that Δxt have constant mean and variance and hence can be treated as a stationary series.\n",
    "The ADF test is based on the idea of differencing the original time series and therefore we will explain it after discussing various types of differencing techniques.\n",
    "\n"
   ]
  },
  {
   "cell_type": "markdown",
   "metadata": {},
   "source": [
    "## First-order differencing\n",
    "\n",
    "#### First order differencing implies taking differences between successive realizations of the time series so that the differences Δxt are irregular variations free from any long run trend or seasonality. The random walk model discussed in the last chapter is a sum of subsequent random variations and is given by xt = xt-l + Єt where Єt is a zero mean random number from normal distribution. Random walks are characterized by long sequence of upward or downward trends. Besides, they take unforeseen changes in direction. Based on these characteristics, random walks are non-stationary. However, the first differences (Δxt of a random walk are equal to the random noise Єt. Hence the residuals remaining after first-order differencing of a random walk is a zero-mean stationary series.\n",
    "\n",
    "## Second-order differencing\n",
    "#### In some cases, first-order differencing does not stationarize the time series and therefore the data is differenced another time to generate a stationary time series. Therefore, the second-order differenced time series is generated as follows:"
   ]
  }
 ],
 "metadata": {
  "language_info": {
   "name": "python"
  }
 },
 "nbformat": 4,
 "nbformat_minor": 2
}
