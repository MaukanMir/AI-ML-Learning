{
 "cells": [
  {
   "cell_type": "markdown",
   "metadata": {},
   "source": [
    "# Understanding Time Series Data"
   ]
  },
  {
   "cell_type": "markdown",
   "metadata": {},
   "source": [
    "#### This is also known as convolving over the time index. The two important parameters of the convolving operation are window size and stride length. The former defines the number of time units taken as input to the aggregate function while the latter sets the gap along the time index between every computation. For example, suppose a window size of k and stride of length l is used to compute the function f over a time series x1,x2, ... ,xn having N observations. In this scenario, the moving statistic is obtained as f(x1,x2, ... ,xt), f(x1+l,x2+l, ... ,xt+l), and so on. Notice that every time the function is calculated by shifting the time window to the right by l time units."
   ]
  },
  {
   "cell_type": "markdown",
   "metadata": {},
   "source": [
    "####  Another way of understanding stationarity is that the series has constant mean and constant variance without any predictable and repetitive patterns."
   ]
  },
  {
   "cell_type": "markdown",
   "metadata": {},
   "source": []
  }
 ],
 "metadata": {
  "language_info": {
   "name": "python"
  }
 },
 "nbformat": 4,
 "nbformat_minor": 2
}
