{
 "cells": [
  {
   "cell_type": "markdown",
   "metadata": {},
   "source": [
    "# Auto-Regressive Models"
   ]
  },
  {
   "cell_type": "markdown",
   "metadata": {},
   "source": [
    "#### In the previous chapter, exponential smoothing-based forecasting techniques were covered, which is based on the assumption that time series is composed on deterministic and stochastic terms. The random component is zero out with number of observations considered for the forecasting. This assumes that random noise is truly random and follows independent identical distribution. However, this assumption often tends to get violated and smoothing is not sufficient to model the process and set up a forecasting model.\n",
    "\n",
    "#### In these scenarios, auto-regressive models can be very useful as these models adjust immediately using the prior lag values by taking advantage of inherent serial correlation between observations. This chapter introduces forecasting concepts using auto-regressive models. The auto-regressive model includes auto-regressive terms or moving average terms. Based on the components used, there are multiple approaches that can be used in time series forecasting such as moving average (MA), auto-regressive moving average (ARMA), and auto-regressive integrated moving average (ARIMA). \n",
    "\n",
    "#### "
   ]
  },
  {
   "cell_type": "markdown",
   "metadata": {},
   "source": [
    "## Auto-regressive models\n",
    "\n",
    "#### Another very famous approach to regress on time series data is to regress it with its lag term. This genre of models is referred to as auto-regressive models (AR models). The AR models are very good in capturing trends as the next time values are predicted based on the prior time values. Thus, AR models are very useful in situations where the next forecasted value is a function of the previous time period, such as an increase in average stock price gain due to good company growth; we expect the effect to retain over time and price should keep increasing as a function of time as the trend component."
   ]
  },
  {
   "cell_type": "markdown",
   "metadata": {},
   "source": []
  }
 ],
 "metadata": {
  "language_info": {
   "name": "python"
  }
 },
 "nbformat": 4,
 "nbformat_minor": 2
}
