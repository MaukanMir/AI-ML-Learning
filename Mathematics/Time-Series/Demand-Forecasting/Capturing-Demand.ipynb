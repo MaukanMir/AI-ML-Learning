{
 "cells": [
  {
   "cell_type": "markdown",
   "metadata": {},
   "source": [
    "# Capturing unconstrained demand (and not sales)"
   ]
  },
  {
   "cell_type": "markdown",
   "metadata": {},
   "source": [
    "#### Remember, unconstrained demand is defined as your clients’ initially requested product, quantity, and delivery date (what, how much, when). Demand is not measured as the number of actual sales which are constrained by inventory at hand (or, more generally, by supply availability). In other words, demand is about what your clients want, how much they want, and when they want it. Not what you shipped, how much you shipped, and when you shipped it (or invoiced).\n",
    "\n",
    "## Order Collection & Management\n",
    "\n",
    "- Open orders: These are the orders that aren’t delivered yet—most likely because you do not have the required goods on hand currently. You need to keep a backlog of these open orders and update your clients about them. Your message should be along these lines, “We recorded your order. We’ll ship it when we have inventory. We should have inventory within two weeks.” If you do not track properly open orders (or do not communicate about them), you risk order duplication.\n",
    "\n",
    "- Duplicated orders: If you do not keep a backlog of open orders, your clients might reorder the same order multiple times until it is fulfilled. As you record each incoming order as a new one, you will capture over-inflated demand.\n",
    "\n",
    "- Canceled orders: Some clients will cancel their orders because you can’t serve them in time. You need to track these orders (especially their initially requested delivery dates) and their reason for cancellation5.\n",
    "\n",
    "- Substitution orders: Some customers will decide to buy another product instead of their initial choice if it is unavailable. You will need to track these substitution orders separately because demand should be allocated to the initial product rather than to the sold product. If an order can’t be fulfilled, your order management system should automatically propose a substitute (or another shipping location). You should avoid any manual input, which will often result in (precious) information getting lost."
   ]
  },
  {
   "cell_type": "markdown",
   "metadata": {},
   "source": [
    "#### On the other hand, sales and demand are equivalent when there is no shortage. Tracking when you are out of stock will allow you to know when demand and sales are not aligned. Figure 3.1 shows an example where you can see the impact of product availability on sales. By tracking both inventory and sales over time, we can highlight periods where we know the actual unconstrained demand (when stock is available). And periods where we only see constrained sales (in this example, sales drop to zero when there is a shortage).\n",
    "\n",
    "-  The model should acknowledge that sales are constrained during out-of-stock periods and not be fooled by low sales numbers.\n",
    "\n",
    "#### Leveraging information about historical shortage periods is usually your best bet to unconstrained sales. Unfortunately, in practice, information about inventory levels is nearly never used by modern forecast engines—even though the data is often readily available. It is time supply chains start using smarter engines.\n",
    "\n",
    "\n",
    "##  Using demand drivers to forecast historical demand\n",
    "\n",
    "#### If you want to better assess historical demand (and estimate lost sales), you can leverage demand drivers that aren’t impacted by lack of inventory (such as weather, web traffic, or the number of people visiting a store) to retrospectively estimate demand during shortages. There’s more about demand drivers in chapter 14.\n",
    "\n",
    "## Substitution and cannibalization\n",
    "\n",
    "#### Being out-of-stock on one product might result in higher sales for another product as your clients have to fall back on similar products (figure 3.2).\n",
    "\n",
    "#### This effect is called substitution: it will result in more sales than (original) demand for the substitute and fewer sales than demand for the substituted product. In our example from figure 3.2, you will have more sales than demand for vanilla ice cream but fewer sales than demand for chocolate ice cream.\n",
    "\n",
    "#### On the other hand, cannibalization happens when you run a promotion on a product, resulting in lower sales and demand for similar items. Cannibalization could also occur when launching new products "
   ]
  },
  {
   "cell_type": "markdown",
   "metadata": {},
   "source": [
    "- The bullwhip effect (caused mainly by order forecasting, order batching, price fluctuations, shortage gaming, and variable lead times) will cause massive overstocks and shortages in supply chains.\n",
    "- Bullwhip effect will ultimately result in extra costs and lower service levels for all stakeholders.\n",
    "- Sharing demand and inventory data with your clients and suppliers will allow you to improve your forecasting accuracy and dampen the bullwhip effect. More information also usually means more stable lead times and fewer shortages.\n",
    "- If your supplier-client relationship allows for planning alignment, you will also achieve massive savings thanks to multi-echelon inventory optimization."
   ]
  },
  {
   "cell_type": "markdown",
   "metadata": {},
   "source": []
  }
 ],
 "metadata": {
  "kernelspec": {
   "display_name": "machine-learning-env",
   "language": "python",
   "name": "python3"
  },
  "language_info": {
   "name": "python",
   "version": "3.9.19"
  }
 },
 "nbformat": 4,
 "nbformat_minor": 2
}
