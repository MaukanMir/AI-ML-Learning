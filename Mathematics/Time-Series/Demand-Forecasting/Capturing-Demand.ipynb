{
 "cells": [
  {
   "cell_type": "markdown",
   "metadata": {},
   "source": [
    "# Capturing unconstrained demand (and not sales)"
   ]
  },
  {
   "cell_type": "markdown",
   "metadata": {},
   "source": [
    "#### Remember, unconstrained demand is defined as your clients’ initially requested product, quantity, and delivery date (what, how much, when). Demand is not measured as the number of actual sales which are constrained by inventory at hand (or, more generally, by supply availability). In other words, demand is about what your clients want, how much they want, and when they want it. Not what you shipped, how much you shipped, and when you shipped it (or invoiced).\n",
    "\n",
    "## Order Collection & Management\n",
    "\n",
    "- Open orders: These are the orders that aren’t delivered yet—most likely because you do not have the required goods on hand currently. You need to keep a backlog of these open orders and update your clients about them. Your message should be along these lines, “We recorded your order. We’ll ship it when we have inventory. We should have inventory within two weeks.” If you do not track properly open orders (or do not communicate about them), you risk order duplication.\n",
    "\n",
    "- Duplicated orders: If you do not keep a backlog of open orders, your clients might reorder the same order multiple times until it is fulfilled. As you record each incoming order as a new one, you will capture over-inflated demand.\n",
    "\n",
    "- Canceled orders: Some clients will cancel their orders because you can’t serve them in time. You need to track these orders (especially their initially requested delivery dates) and their reason for cancellation5.\n",
    "\n",
    "- Substitution orders: Some customers will decide to buy another product instead of their initial choice if it is unavailable. You will need to track these substitution orders separately because demand should be allocated to the initial product rather than to the sold product. If an order can’t be fulfilled, your order management system should automatically propose a substitute (or another shipping location). You should avoid any manual input, which will often result in (precious) information getting lost."
   ]
  },
  {
   "cell_type": "markdown",
   "metadata": {},
   "source": [
    "#### On the other hand, sales and demand are equivalent when there is no shortage. Tracking when you are out of stock will allow you to know when demand and sales are not aligned. Figure 3.1 shows an example where you can see the impact of product availability on sales. By tracking both inventory and sales over time, we can highlight periods where we know the actual unconstrained demand (when stock is available). And periods where we only see constrained sales (in this example, sales drop to zero when there is a shortage).\n",
    "\n",
    "-  The model should acknowledge that sales are constrained during out-of-stock periods and not be fooled by low sales numbers.\n",
    "\n",
    "#### Leveraging information about historical shortage periods is usually your best bet to unconstrained sales. Unfortunately, in practice, information about inventory levels is nearly never used by modern forecast engines—even though the data is often readily available. It is time supply chains start using smarter engines.\n",
    "\n",
    "\n",
    "##  Using demand drivers to forecast historical demand\n",
    "\n",
    "#### If you want to better assess historical demand (and estimate lost sales), you can leverage demand drivers that aren’t impacted by lack of inventory (such as weather, web traffic, or the number of people visiting a store) to retrospectively estimate demand during shortages. There’s more about demand drivers in chapter 14.\n",
    "\n",
    "## Substitution and cannibalization\n",
    "\n",
    "#### Being out-of-stock on one product might result in higher sales for another product as your clients have to fall back on similar products (figure 3.2).\n",
    "\n",
    "#### This effect is called substitution: it will result in more sales than (original) demand for the substitute and fewer sales than demand for the substituted product. In our example from figure 3.2, you will have more sales than demand for vanilla ice cream but fewer sales than demand for chocolate ice cream.\n",
    "\n",
    "#### On the other hand, cannibalization happens when you run a promotion on a product, resulting in lower sales and demand for similar items. Cannibalization could also occur when launching new products "
   ]
  },
  {
   "cell_type": "markdown",
   "metadata": {},
   "source": [
    "- The bullwhip effect (caused mainly by order forecasting, order batching, price fluctuations, shortage gaming, and variable lead times) will cause massive overstocks and shortages in supply chains.\n",
    "- Bullwhip effect will ultimately result in extra costs and lower service levels for all stakeholders.\n",
    "- Sharing demand and inventory data with your clients and suppliers will allow you to improve your forecasting accuracy and dampen the bullwhip effect. More information also usually means more stable lead times and fewer shortages.\n",
    "- If your supplier-client relationship allows for planning alignment, you will also achieve massive savings thanks to multi-echelon inventory optimization."
   ]
  },
  {
   "cell_type": "markdown",
   "metadata": {},
   "source": [
    "## The three forecasting dimensions\n",
    "\n",
    "- Demand forecasts are defined across three dimensions (or hierarchies): materiality, geography, and temporality.\n",
    "- Materiality: You can forecast demand using different material levels: per SKU, product, segment, brand, and so on. As well as with different measuring metrics: units, value, weight, type of raw material required, . . . .\n",
    "- Geography: You can forecast demand per country, region, market, channel, customer segment, warehouse, store, zip code, . . . .11\n",
    "- Horizon: How many periods forward do you need to forecast (one week, six months, two years)?\n",
    "\n",
    "## Zooming In Or Out\n",
    "- Bottom-up: Aggregated forecasts are created by summing up granular downstream levels. For example, you can sum up the forecasts of each store in a country to get a forecast at the country level.\n",
    "- Top-down: Detailed forecasts are created by disaggregating high-level forecasts (usually) using simple rules. For example, You can transform a monthly forecast into a daily one using a flat split (dividing the monthly forecast into daily buckets of equal amounts). Similarly, top-down forecasts can also be split using historical splits relying on historical weighted averages (or ratios). For example, you can spread a national forecast into its national stores based on their historical revenues. In practice, many forecasting tools will rely on techniques using historical averages to disaggregate top-down forecasts.\n",
    "- Middle-out: This is an in-between situation: you can use a single forecast to generate a more aggregated view and a detailed version. For example, starting with a forecast per country, you can sum it up per geographical region and spread it by store.\n",
    "\n",
    "##### The idea is simple: because your supply chain makes decisions at specific hierarchical levels, you need to focus on forecasting demand to these particular aggregation levels.\n",
    "\n",
    "- Imagine you need to decide which products to ship from your plant to your regional warehouses. The best practice is to forecast demand per warehouse based on their geographical footprints (and not based on their actual historical shipments).\n",
    "- Instead, you need to predict demand based on the geographical region that the warehouse usually serves. In other words, you need to forecast the demand that should be served from the warehouse, assuming there are no constraints. Tracking demand based on geography (for example, using zip codes) rather than outbound shipments is especially critical as warehouse footholds will change over time when new warehouses open or close.\n",
    "\n",
    "#### Many supply chains still forecast demand per country even though they have multiple warehouses serving different areas of the same country. This case is a clear discrepancy between the decisions that need to be made (in which warehouse should we ship our products) and the information used to make these (we will sell that much in this country). This too-common discrepancy will result in poor inventory allocation across warehouses.\n",
    "\n",
    "## Lag\n",
    "\n",
    "#### A lag denotes how many periods forward you are forecasting demand (as shown in figure 6.1). By convention, Lag 0 is the current period. For example, for a monthly forecast populated in January, Lag 0 denotes January, Lag 1 is February, Lag 2 is March, and so on.\n",
    "\n",
    "#### If you face seasonal demand, you can try using seasonal benchmarks. Instead of using the previous period(s) to forecast the next one, you use the same-period(s)-last-season(s) demand to forecast each new period. These forecasts are then called either seasonal naïve forecasts (only using information from the previous seasonal cycle) or seasonal moving averages (averaging multiple cycles)."
   ]
  },
  {
   "cell_type": "markdown",
   "metadata": {},
   "source": [
    "## 1.1 Internal benchmarks\n",
    "\n",
    "#### The idea of internal benchmarking is simple (figure 12.2):\n",
    "\n",
    "- Run a simple forecasting algorithm—such as a (seasonal) moving average—through historical periods and track its accuracy.\n",
    "- Compare the benchmark’s results against your model/process. (Do not forget to do this for all relevant lags.)\n",
    "\n",
    "#### Using benchmarks to compare yourself with is the best practice to know if you are doing a good job at demand forecasting. The idea is to compare your forecasting process against a benchmark to see by how much extra accuracy you can beat it. This comparison will tell you a lot about process efficiency and efficacy: how much investment (in software and time) do you need to beat a simplistic method? By how much could you beat the benchmark?\n",
    "\n",
    "- Many companies providing benchmarks won’t compute forecast accuracy themselves. Instead, they will simply ask companies to respond to a survey. Who knows how your competitors measure forecast accuracy?\n",
    "- Different companies will compute forecasting accuracy at different aggregation levels (for example, by country, whereas you track it per region) and horizons.\n",
    "- Different businesses often follow different strategies, resulting in different product portfolio sizes, sales channels, and promotion strategies.33 These differences will result in natural differences in forecasting accuracy between companies within the same industry. For example, you might have 500 products in your catalog, whereas your main low-cost competitor only offers 20. Naturally, this will result in better accuracy. Nevertheless, the fact that your low-cost competitor achieves a good forecast accuracy doesn’t say anything about your own demand forecasting process.\n",
    "- The same holds true for the distribution footprint. You might be present in some markets or channels, whereas your competitors will use a different distribution system.\n",
    "- Moreover, industry benchmarks are often only available for a specific forecasting horizon (lag). You want to make sure your forecasting process is adding value along the whole relevant horizon (Chapter 6). Not just for a single lag."
   ]
  },
  {
   "cell_type": "markdown",
   "metadata": {},
   "source": [
    "- Focus on products for which you have information that the baseline model is unaware of (such as promotions, marketing, client actions). We will discuss this crucial best practice further in chapter 16.\n",
    "- Spend time on new products’ introduction. These are typically items for which you have more information than your model.\n",
    "- Review items manifesting strange behaviors such as consistent over/under-forecasting or massive demand shifts since last periods.\n",
    "- Spend more time on high-cost products (or products with longer lead times) because forecast errors will be more expensive for these products. Critical items could be products with higher holding costs than usual, such as products requiring special storage conditions (frozen products) or with a short shelf-life (food, medicine).\n",
    "\n",
    "## Demand driver\n",
    "\n",
    "#### Demand drivers are the factors influencing the purchasing behaviors of businesses and consumers. These drivers can be internal to your company (e.g., prices, marketing budget, or promotions) or external (e.g., weather or competitive activity).\n",
    "\n",
    "#### If you have a promotion-driven business, promotions most likely have a massive impact on demand. Because they can be easily tracked and planned, they should be included in your model (figure 14.5)."
   ]
  }
 ],
 "metadata": {
  "kernelspec": {
   "display_name": "machine-learning-env",
   "language": "python",
   "name": "python3"
  },
  "language_info": {
   "name": "python",
   "version": "3.9.19"
  }
 },
 "nbformat": 4,
 "nbformat_minor": 2
}
