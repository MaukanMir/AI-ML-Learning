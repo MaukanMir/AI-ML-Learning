{
 "cells": [
  {
   "cell_type": "markdown",
   "metadata": {},
   "source": [
    "# Demand Forecasting Excellence"
   ]
  },
  {
   "cell_type": "markdown",
   "metadata": {},
   "source": [
    "## Objective. What Do you need to forecast?\n",
    "\n",
    "#### A forecast is a piece of information that various teams in the supply chain will use to make smart decisions (chapter 2). When discussing demand planning improvement with clients, I always start with why. “Why do you forecast demand? What decisions are you supporting with this forecast?” This should be your starting point too. (Answering these two main questions will also answer a third one: “Who will use this forecast?”) Knowing the types of decisions your supply chain needs to make (e.g., how much to produce, where to deploy inventory, whether to open or close plants) is the first step of the 5-step framework. Based on these decisions, we will assess the relevant material and temporal aggregation levels (chapter 5) as well as the forecasting horizon (chapter 6). We will also discuss how different teams might have to use different forecasting models and processes (chapter 7).\n",
    "\n",
    "## Data. What data do you need to support your forecasting model and process?\n",
    "\n",
    "#### The most critical data to collect is unconstrained demand rather than constrained sales (chapters 2 and 3). Moreover, you will also need to assess what external drivers impact your demand (such as promotions, pricing, or product launches) and start collecting this data as well (chapter 14).\n",
    "\n",
    "## Metrics. How do you evaluate forecasting quality?\n",
    "\n",
    "#### First, you will need to select relevant metrics to assess your forecasting quality. We will discuss accuracy and bias in chapters 8 and 9. In chapter 10, you will learn how to assess if your forecasting model and process are achieving satisfactory accuracy thanks to benchmarks. In chapter 11, we will refine our metrics to cope with broad product portfolios."
   ]
  },
  {
   "cell_type": "markdown",
   "metadata": {},
   "source": []
  }
 ],
 "metadata": {
  "kernelspec": {
   "display_name": "machine-learning-env",
   "language": "python",
   "name": "python3"
  },
  "language_info": {
   "name": "python",
   "version": "3.9.19"
  }
 },
 "nbformat": 4,
 "nbformat_minor": 2
}
