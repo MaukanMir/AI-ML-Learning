{
 "cells": [
  {
   "cell_type": "markdown",
   "metadata": {},
   "source": [
    "# Vectors Part 2"
   ]
  },
  {
   "cell_type": "markdown",
   "metadata": {},
   "source": [
    "## Linear Weighted Combination\n",
    "\n",
    "#### Linear weighted combination simply means scalar-vector multiplication and addition: take some set of vectors, multiply each vector by a scalar, and add them to produce a single vector"
   ]
  },
  {
   "cell_type": "markdown",
   "metadata": {},
   "source": [
    "#### A set of vectors is linearly dependent if at least one vector in the set can be expressed as a linear weighted combination of other vectors in that set. And thus, a set of vectors is linearly independent if no vector can be expressed as a linear weighted combination of other vectors in the set.\n"
   ]
  },
  {
   "cell_type": "markdown",
   "metadata": {},
   "source": [
    "#### That is, for some (finite) set of vectors, the infinite number of ways to linearly combine them—​using the same vectors but different numerical values for the weights—​creates a vector subspace. And the mechanism of combining all possible linear weighted combinations is called the span of the vector set."
   ]
  },
  {
   "cell_type": "markdown",
   "metadata": {},
   "source": [
    "#### The formal definition of a vector subspace is a subset that is closed under addition and scalar multiplication, and includes the origin of the space. That means that any linear weighted combination of vectors in the subspace must also be in the same subspace, including setting all weights to zero to produce the zeros vector at the origin of the space."
   ]
  },
  {
   "cell_type": "markdown",
   "metadata": {},
   "source": [
    "#### I find that thinking of span as a verb and subspace as a noun helps understand their distinction: a set of vectors spans, and the result of their spanning is a subspace. Now consider that a subspace can be a smaller portion of a larger space. Putting these together: span is the mechanism of creating a subspace. (On the other hand, when you use span as a noun, then span and subspace refer to the same infinite vector set."
   ]
  },
  {
   "cell_type": "markdown",
   "metadata": {},
   "source": [
    "## Exercise 3-1.\n",
    "### Rewrite the code for linear weighted combination, but put the scalars in a list and the vectors as elements in a list (thus, you will have two lists, one of scalars and one of NumPy arrays). Then use a for loop to implement the linear weighted combination operation. Initialize the output vector using np.zeros(). Confirm that you get the same result as in the previous code."
   ]
  },
  {
   "cell_type": "code",
   "execution_count": 8,
   "metadata": {},
   "outputs": [
    {
     "name": "stdout",
     "output_type": "stream",
     "text": [
      " Scaler: 2, Vector: [1 2 3]\n",
      "Output Vector: [2 4 6]\n",
      " Scaler: 3, Vector: [4 5 6]\n",
      "Output Vector: [14 19 24]\n",
      " Scaler: -1, Vector: [7 8 9]\n",
      "Output Vector: [ 7 11 15]\n",
      "The resulting linear weighted combination is: [ 7 11 15]\n"
     ]
    }
   ],
   "source": [
    "import numpy as np\n",
    "\n",
    "scalers = [2, 3,-1]\n",
    "\n",
    "vectors = [np.array([1,2,3]), np.array([4,5,6]), np.array([7,8,9])]\n",
    "\n",
    "output_vector = np.zeros_like(vectors[0])\n",
    "\n",
    "for scaler, vector in zip(scalers, vectors):\n",
    "  print(f\" Scaler: {scaler}, Vector: {vector}\")\n",
    "  output_vector += scaler * vector\n",
    "  print(f\"Output Vector: {output_vector}\")\n",
    "\n",
    "print(\"The resulting linear weighted combination is:\", output_vector)\n"
   ]
  },
  {
   "cell_type": "code",
   "execution_count": null,
   "metadata": {},
   "outputs": [],
   "source": []
  }
 ],
 "metadata": {
  "kernelspec": {
   "display_name": "machine-learning-env",
   "language": "python",
   "name": "python3"
  },
  "language_info": {
   "codemirror_mode": {
    "name": "ipython",
    "version": 3
   },
   "file_extension": ".py",
   "mimetype": "text/x-python",
   "name": "python",
   "nbconvert_exporter": "python",
   "pygments_lexer": "ipython3",
   "version": "3.9.19"
  }
 },
 "nbformat": 4,
 "nbformat_minor": 2
}
