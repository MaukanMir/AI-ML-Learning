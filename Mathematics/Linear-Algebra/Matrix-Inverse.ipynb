{
 "cells": [
  {
   "cell_type": "markdown",
   "metadata": {},
   "source": [
    "# Matrix Inverse"
   ]
  },
  {
   "cell_type": "markdown",
   "metadata": {},
   "source": [
    "## Exercise 8-1.\n",
    "##### The inverse of the inverse is the original matrix; in other words, \n",
    "(\n",
    "𝐀\n",
    "-\n",
    "1\n",
    ")\n",
    "-\n",
    "1\n",
    "=\n",
    "𝐀\n",
    ". This is analgous to how \n",
    "1\n",
    "/\n",
    "(\n",
    "1\n",
    "/\n",
    "𝑎\n",
    ")\n",
    "=\n",
    "𝑎\n",
    ". Illustrate this using Python."
   ]
  },
  {
   "cell_type": "code",
   "execution_count": 1,
   "metadata": {},
   "outputs": [
    {
     "data": {
      "text/plain": [
       "(array([[0.89356665, 0.84460956, 0.92390723],\n",
       "        [0.70601461, 0.73075582, 0.83477707],\n",
       "        [0.07301655, 0.29729439, 0.60216714]]),\n",
       " array([[0.89356665, 0.84460956, 0.92390723],\n",
       "        [0.70601461, 0.73075582, 0.83477707],\n",
       "        [0.07301655, 0.29729439, 0.60216714]]))"
      ]
     },
     "execution_count": 1,
     "metadata": {},
     "output_type": "execute_result"
    }
   ],
   "source": [
    "import numpy as np\n",
    "\n",
    "A= np.random.rand(3,3)\n",
    "\n",
    "A_inv = np.linalg.inv(A)\n",
    "\n",
    "A_inv_inv = np.linalg.inv(A_inv)\n",
    "\n",
    "A, A_inv_inv"
   ]
  },
  {
   "cell_type": "markdown",
   "metadata": {},
   "source": [
    "## Exercise 8-2.\n",
    "\n",
    "#### Implement the full algorithm described in “Inverting Any Square Full-Rank Matrix” and reproduce Figure 8-3. Of course, your matrices will look different from Figure 8-3 because of random numbers, although the grid and identity matrices will be the same."
   ]
  },
  {
   "cell_type": "code",
   "execution_count": 2,
   "metadata": {},
   "outputs": [
    {
     "data": {
      "image/png": "[encoded data removed]",
      "text/plain": [
       "<Figure size 1500x500 with 3 Axes>"
      ]
     },
     "metadata": {},
     "output_type": "display_data"
    }
   ],
   "source": [
    "import matplotlib.pyplot as plt\n",
    "\n",
    "A = np.random.rand(3, 3)\n",
    "\n",
    "while np.linalg.matrix_rank(A) != 3:\n",
    "    A = np.random.rand(3, 3)\n",
    "\n",
    "A_inv = np.linalg.inv(A)\n",
    "A_product = np.dot(A, A_inv)\n",
    "\n",
    "fig, axes = plt.subplots(1,3, figsize=(15,5))\n",
    "\n",
    "axes[0].imshow(A, cmap='viridis')\n",
    "axes[0].set_title('Matrix $A$')\n",
    "axes[0].set_axis_off()\n",
    "\n",
    "axes[1].imshow(A_inv, cmap='viridis')\n",
    "axes[1].set_title('Inverse of $A$ ($A^{-1}$)')\n",
    "axes[1].set_axis_off()\n",
    "\n",
    "axes[2].imshow(A_product, cmap='viridis')\n",
    "axes[2].set_title('Product $A \\\\times A^{-1}$')\n",
    "axes[2].set_axis_off()"
   ]
  },
  {
   "cell_type": "markdown",
   "metadata": {},
   "source": [
    "## Exercise 8-4.\n",
    "#### Derive the right-inverse for wide matrices by following the logic that allowed us to discover the left-inverse. Then reproduce Figure 8-4 for a wide matrix. (Hint: start from the code for the left-inverse and adjust as necessary.)"
   ]
  },
  {
   "cell_type": "code",
   "execution_count": 3,
   "metadata": {},
   "outputs": [
    {
     "data": {
      "image/png": "[encoded data removed]",
      "text/plain": [
       "<Figure size 1500x500 with 3 Axes>"
      ]
     },
     "metadata": {},
     "output_type": "display_data"
    }
   ],
   "source": [
    "A_wide = np.random.rand(2,3)\n",
    "\n",
    "A_r = np.dot(np.linalg.inv(np.dot(A_wide.T, A_wide)), A_wide.T)\n",
    "\n",
    "A_product_wide = np.dot(A_wide, A_r)\n",
    "\n",
    "fig, axes = plt.subplots(1, 3, figsize=(15, 5))\n",
    "\n",
    "axes[0].imshow(A_wide, cmap='viridis')\n",
    "axes[0].set_title('Wide Matrix $A$')\n",
    "axes[0].set_axis_off()\n",
    "\n",
    "axes[1].imshow(A_r, cmap='viridis')\n",
    "axes[1].set_title('Right-Inverse $A_r$')\n",
    "axes[1].set_axis_off()\n",
    "\n",
    "axes[2].imshow(A_product_wide, cmap='viridis')\n",
    "axes[2].set_title('Product $A \\\\times A_r$')\n",
    "axes[2].set_axis_off()\n",
    "\n",
    "plt.show()"
   ]
  },
  {
   "cell_type": "markdown",
   "metadata": {},
   "source": [
    "## Exercise 8-5.\n",
    "\n",
    "#### Illustrate in Python that the pseudoinverse (via np.linalg.pinv) equals the full inverse (via np.linalg.inv) for an invertible matrix. Next, illustrate that the pseudoinverse equals the left-inverse for a tall full column-rank matrix, and that it equals the right-inverse for a wide full row-rank matrix."
   ]
  },
  {
   "cell_type": "markdown",
   "metadata": {},
   "source": [
    "- Pseudoinverse equals the full inverse for an invertible square matrix.\n",
    "- Pseudoinverse equals the left-inverse for a tall full column-rank matrix.\n",
    "- Pseudoinverse equals the right-inverse for a wide full row-rank matrix."
   ]
  },
  {
   "cell_type": "code",
   "execution_count": 4,
   "metadata": {},
   "outputs": [
    {
     "data": {
      "text/plain": [
       "{'Scenario 1 - Square Matrix (Pseudoinverse vs Full Inverse)': True,\n",
       " 'Scenario 2 - Tall Matrix (Pseudoinverse vs Left-Inverse)': True,\n",
       " 'Scenario 3 - Wide Matrix (Pseudoinverse vs Right-Inverse)': False}"
      ]
     },
     "execution_count": 4,
     "metadata": {},
     "output_type": "execute_result"
    }
   ],
   "source": [
    "A_square = np.random.rand(3,3)\n",
    "\n",
    "pinv_square = np.linalg.pinv(A_square)\n",
    "inv_square = np.linalg.inv(A_square)\n",
    "\n",
    "A_tall = np.random.rand(4,2)\n",
    "pinv_tall = np.linalg.pinv(A_tall)\n",
    "left_inv_tall = np.dot(np.linalg.inv(np.dot(A_tall.T, A_tall)), A_tall.T)\n",
    "\n",
    "A_wide = np.random.rand(2,4)\n",
    "pinv_wide = np.linalg.pinv(A_wide)\n",
    "right_inv_wide = np.dot(np.linalg.inv(np.dot(A_wide.T, A_wide)), A_wide.T)\n",
    "\n",
    "comparisons = {\n",
    "    \"Scenario 1 - Square Matrix (Pseudoinverse vs Full Inverse)\": np.allclose(pinv_square, inv_square),\n",
    "    \"Scenario 2 - Tall Matrix (Pseudoinverse vs Left-Inverse)\": np.allclose(pinv_tall, left_inv_tall),\n",
    "    \"Scenario 3 - Wide Matrix (Pseudoinverse vs Right-Inverse)\": np.allclose(pinv_wide, right_inv_wide),\n",
    "}\n",
    "\n",
    "comparisons"
   ]
  },
  {
   "cell_type": "markdown",
   "metadata": {},
   "source": [
    "## Applications\n",
    "\n",
    "- Linear Regression: The pseudoinverse is crucial for solving linear regression problems, especially in cases where the feature matrix is not invertible (e.g., with more features than observations or collinear variables).\n",
    "- Dimensionality Reduction: Techniques like Principal Component Analysis (PCA) utilize the pseudoinverse for projecting data into a lower-dimensional space while retaining most of the variance."
   ]
  },
  {
   "cell_type": "markdown",
   "metadata": {},
   "source": []
  }
 ],
 "metadata": {
  "kernelspec": {
   "display_name": "machine-learning-env",
   "language": "python",
   "name": "python3"
  },
  "language_info": {
   "codemirror_mode": {
    "name": "ipython",
    "version": 3
   },
   "file_extension": ".py",
   "mimetype": "text/x-python",
   "name": "python",
   "nbconvert_exporter": "python",
   "pygments_lexer": "ipython3",
   "version": "3.9.19"
  }
 },
 "nbformat": 4,
 "nbformat_minor": 2
}
