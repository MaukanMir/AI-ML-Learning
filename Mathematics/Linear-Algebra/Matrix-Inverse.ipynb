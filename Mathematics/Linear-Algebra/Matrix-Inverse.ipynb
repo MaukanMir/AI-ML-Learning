{
 "cells": [
  {
   "cell_type": "markdown",
   "metadata": {},
   "source": [
    "# Matrix Inverse"
   ]
  },
  {
   "cell_type": "markdown",
   "metadata": {},
   "source": [
    "## Exercise 8-1.\n",
    "##### The inverse of the inverse is the original matrix; in other words, \n",
    "(\n",
    "𝐀\n",
    "-\n",
    "1\n",
    ")\n",
    "-\n",
    "1\n",
    "=\n",
    "𝐀\n",
    ". This is analgous to how \n",
    "1\n",
    "/\n",
    "(\n",
    "1\n",
    "/\n",
    "𝑎\n",
    ")\n",
    "=\n",
    "𝑎\n",
    ". Illustrate this using Python."
   ]
  },
  {
   "cell_type": "code",
   "execution_count": null,
   "metadata": {},
   "outputs": [],
   "source": []
  }
 ],
 "metadata": {
  "kernelspec": {
   "display_name": "machine-learning-env",
   "language": "python",
   "name": "python3"
  },
  "language_info": {
   "name": "python",
   "version": "3.9.-1"
  }
 },
 "nbformat": 4,
 "nbformat_minor": 2
}
