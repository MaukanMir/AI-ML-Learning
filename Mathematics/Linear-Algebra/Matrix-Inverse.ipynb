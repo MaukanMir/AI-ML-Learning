{
 "cells": [
  {
   "cell_type": "markdown",
   "metadata": {},
   "source": [
    "# Matrix Inverse"
   ]
  },
  {
   "cell_type": "markdown",
   "metadata": {},
   "source": [
    "## Exercise 8-1.\n",
    "##### The inverse of the inverse is the original matrix; in other words, \n",
    "(\n",
    "𝐀\n",
    "-\n",
    "1\n",
    ")\n",
    "-\n",
    "1\n",
    "=\n",
    "𝐀\n",
    ". This is analgous to how \n",
    "1\n",
    "/\n",
    "(\n",
    "1\n",
    "/\n",
    "𝑎\n",
    ")\n",
    "=\n",
    "𝑎\n",
    ". Illustrate this using Python."
   ]
  },
  {
   "cell_type": "code",
   "execution_count": 1,
   "metadata": {},
   "outputs": [
    {
     "data": {
      "text/plain": [
       "(array([[0.89356665, 0.84460956, 0.92390723],\n",
       "        [0.70601461, 0.73075582, 0.83477707],\n",
       "        [0.07301655, 0.29729439, 0.60216714]]),\n",
       " array([[0.89356665, 0.84460956, 0.92390723],\n",
       "        [0.70601461, 0.73075582, 0.83477707],\n",
       "        [0.07301655, 0.29729439, 0.60216714]]))"
      ]
     },
     "execution_count": 1,
     "metadata": {},
     "output_type": "execute_result"
    }
   ],
   "source": [
    "import numpy as np\n",
    "\n",
    "A= np.random.rand(3,3)\n",
    "\n",
    "A_inv = np.linalg.inv(A)\n",
    "\n",
    "A_inv_inv = np.linalg.inv(A_inv)\n",
    "\n",
    "A, A_inv_inv"
   ]
  },
  {
   "cell_type": "code",
   "execution_count": null,
   "metadata": {},
   "outputs": [],
   "source": []
  }
 ],
 "metadata": {
  "kernelspec": {
   "display_name": "machine-learning-env",
   "language": "python",
   "name": "python3"
  },
  "language_info": {
   "codemirror_mode": {
    "name": "ipython",
    "version": 3
   },
   "file_extension": ".py",
   "mimetype": "text/x-python",
   "name": "python",
   "nbconvert_exporter": "python",
   "pygments_lexer": "ipython3",
   "version": "3.9.19"
  }
 },
 "nbformat": 4,
 "nbformat_minor": 2
}
