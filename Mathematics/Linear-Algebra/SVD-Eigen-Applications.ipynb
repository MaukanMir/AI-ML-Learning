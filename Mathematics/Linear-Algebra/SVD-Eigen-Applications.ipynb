{
 "cells": [
  {
   "cell_type": "markdown",
   "metadata": {},
   "source": [
    "## Eigendecomposition and SVD Applications"
   ]
  },
  {
   "cell_type": "markdown",
   "metadata": {},
   "source": [
    "#### The purpose of PCA is to find a set of basis vectors for a dataset that point in the direction that maximizes covariation across the variables.\n",
    "#### PCA makes the assumption that variance is good, and directions in the data space that have more variance are more important (a.k.a. “variance = relevance”).\n",
    "#### But in PCA, we’re not just interested in the variance within one variable; instead, we want to find the linear weighted combination across all variables that maximizes variance of that component (a component is a linear weighted combination of variables)."
   ]
  },
  {
   "cell_type": "code",
   "execution_count": null,
   "metadata": {},
   "outputs": [],
   "source": [
    "##"
   ]
  }
 ],
 "metadata": {
  "kernelspec": {
   "display_name": "machine-learning-env",
   "language": "python",
   "name": "python3"
  },
  "language_info": {
   "name": "python",
   "version": "3.9.-1"
  }
 },
 "nbformat": 4,
 "nbformat_minor": 2
}
