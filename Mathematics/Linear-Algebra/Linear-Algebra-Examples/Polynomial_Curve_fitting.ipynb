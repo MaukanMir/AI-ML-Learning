{
 "cells": [
  {
   "cell_type": "markdown",
   "id": "b66f4ef2",
   "metadata": {},
   "source": [
    "# Polynomial Curve Fitting Example"
   ]
  },
  {
   "cell_type": "code",
   "execution_count": 2,
   "id": "8da222ae",
   "metadata": {},
   "outputs": [
    {
     "name": "stdout",
     "output_type": "stream",
     "text": [
      "Possible discontinuity detected\n"
     ]
    }
   ],
   "source": [
    "import numpy as np\n",
    "\n",
    "x = [0, 1, 2, 3, 4, 5]\n",
    "y = [1, 2, 1.5, 8, 1.6, 1.5]\n",
    "\n",
    "y_diff = np.diff(y)\n",
    "x_diff = np.diff(x)\n",
    "slope = y_diff / x_diff\n",
    "\n",
    "if np.max(np.abs(slope)) > 3:\n",
    "    print(\"Possible discontinuity detected\")"
   ]
  },
  {
   "cell_type": "code",
   "execution_count": null,
   "id": "0f656767",
   "metadata": {},
   "outputs": [],
   "source": []
  }
 ],
 "metadata": {
  "kernelspec": {
   "display_name": "anti-fragile",
   "language": "python",
   "name": "python3"
  },
  "language_info": {
   "codemirror_mode": {
    "name": "ipython",
    "version": 3
   },
   "file_extension": ".py",
   "mimetype": "text/x-python",
   "name": "python",
   "nbconvert_exporter": "python",
   "pygments_lexer": "ipython3",
   "version": "3.11.13"
  }
 },
 "nbformat": 4,
 "nbformat_minor": 5
}
