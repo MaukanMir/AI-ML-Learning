{
 "cells": [
  {
   "cell_type": "markdown",
   "metadata": {},
   "source": [
    "##  Row Reduction and LU Decomposition"
   ]
  },
  {
   "cell_type": "markdown",
   "metadata": {},
   "source": [
    "#### Memorize this statement: The goal of row reduction is to transform a dense matrix into an upper-triangular matrix"
   ]
  },
  {
   "cell_type": "markdown",
   "metadata": {},
   "source": [
    "## LU Decomposition\n",
    "#### The “LU” in LU decomposition stands for “lower upper,” as in lower-triangular, upper-triangular. The idea is to decompose a matrix into the product of two triangular matrices:\n"
   ]
  },
  {
   "cell_type": "code",
   "execution_count": 2,
   "metadata": {},
   "outputs": [
    {
     "name": "stdout",
     "output_type": "stream",
     "text": [
      "L: \n",
      "[[1.  0.  0. ]\n",
      " [0.5 1.  0. ]\n",
      " [1.  1.  1. ]]\n",
      "U: \n",
      "[[ 2.  2.  4.]\n",
      " [ 0. -1.  1.]\n",
      " [ 0.  0. -3.]]\n"
     ]
    },
    {
     "data": {
      "text/plain": [
       "(None, None)"
      ]
     },
     "execution_count": 2,
     "metadata": {},
     "output_type": "execute_result"
    }
   ],
   "source": [
    "import scipy.linalg\n",
    "import numpy as np\n",
    "\n",
    "A = np.array([ [2,2,4], [1,0,3], [2,1,2] ])\n",
    "_,L,U = scipy.linalg.lu(A)\n",
    "\n",
    "# print them out\n",
    "print('L: '), print(L)\n",
    "print('U: '), print(U)"
   ]
  },
  {
   "cell_type": "markdown",
   "metadata": {},
   "source": [
    "## Exercise 10-2.\n",
    "#### Use the matrix-multiplication method to make a rank-3 matrix. Take its LU decomposition, and show the three matrices with their ranks in the title, as in Figure 10-2. Notice the ranks of the three matrices and that has all 1s on the diagonal. Feel free to explore the ranks of matrices with other sizes and ranks."
   ]
  },
  {
   "cell_type": "code",
   "execution_count": 3,
   "metadata": {},
   "outputs": [
    {
     "name": "stdout",
     "output_type": "stream",
     "text": [
      "Matrix A:\n",
      " [[ 1  2  3  4]\n",
      " [ 5  6  7  8]\n",
      " [ 9 10 11 12]\n",
      " [ 2  4  6  8]]\n",
      "Rank of A: 2\n",
      "\n",
      "Lower Triangular Matrix L:\n",
      " [[1.         0.         0.         0.        ]\n",
      " [0.22222222 1.         0.         0.        ]\n",
      " [0.55555556 0.25       1.         0.        ]\n",
      " [0.11111111 0.5        0.         1.        ]]\n",
      "Rank of L: 4\n",
      "\n",
      "Upper Triangular Matrix U:\n",
      " [[9.00000000e+00 1.00000000e+01 1.10000000e+01 1.20000000e+01]\n",
      " [0.00000000e+00 1.77777778e+00 3.55555556e+00 5.33333333e+00]\n",
      " [0.00000000e+00 0.00000000e+00 1.60365548e-16 0.00000000e+00]\n",
      " [0.00000000e+00 0.00000000e+00 0.00000000e+00 0.00000000e+00]]\n",
      "Rank of U: 2\n"
     ]
    }
   ],
   "source": [
    "from scipy.linalg import lu\n",
    "\n",
    "A = np.array([[1, 2, 3, 4],\n",
    "              [5, 6, 7, 8],\n",
    "              [9, 10, 11, 12],\n",
    "              [2, 4, 6, 8]]) \n",
    "\n",
    "P, L, U = lu(A)\n",
    "rank_A = np.linalg.matrix_rank(A)\n",
    "rank_L = np.linalg.matrix_rank(L)\n",
    "rank_U = np.linalg.matrix_rank(U)\n",
    "\n",
    "print(\"Matrix A:\\n\", A)\n",
    "print(\"Rank of A:\", rank_A)\n",
    "print(\"\\nLower Triangular Matrix L:\\n\", L)\n",
    "print(\"Rank of L:\", rank_L)\n",
    "print(\"\\nUpper Triangular Matrix U:\\n\", U)\n",
    "print(\"Rank of U:\", rank_U)"
   ]
  }
 ],
 "metadata": {
  "kernelspec": {
   "display_name": "machine-learning-env",
   "language": "python",
   "name": "python3"
  },
  "language_info": {
   "codemirror_mode": {
    "name": "ipython",
    "version": 3
   },
   "file_extension": ".py",
   "mimetype": "text/x-python",
   "name": "python",
   "nbconvert_exporter": "python",
   "pygments_lexer": "ipython3",
   "version": "3.9.19"
  }
 },
 "nbformat": 4,
 "nbformat_minor": 2
}
