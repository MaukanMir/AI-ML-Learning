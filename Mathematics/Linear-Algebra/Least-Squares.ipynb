{
 "cells": [
  {
   "cell_type": "markdown",
   "metadata": {},
   "source": [
    "# Chapter 11. General Linear Models and Least Squares"
   ]
  },
  {
   "cell_type": "markdown",
   "metadata": {},
   "source": [
    "## General Linear Models\n",
    "\n",
    "#### A statistical model is a set of equations that relates predictors (called independent variables) to observations (called the dependent variable). In the model of the stock market, the independent variable is time and the dependent variable is stock market price (e.g., quantified as the S&P 500 index)."
   ]
  },
  {
   "cell_type": "code",
   "execution_count": 4,
   "metadata": {},
   "outputs": [
    {
     "name": "stdout",
     "output_type": "stream",
     "text": [
      "[[1. 1.]\n",
      " [1. 2.]\n",
      " [1. 3.]\n",
      " [1. 4.]\n",
      " [1. 5.]]\n",
      "X^T X matrix:\n",
      " [[ 5. 15.]\n",
      " [15. 55.]]\n",
      "\n",
      "Inverse of X^T X matrix (X^T X)^-1:\n",
      " [[ 1.1 -0.3]\n",
      " [-0.3  0.1]]\n",
      "\n",
      "Estimated coefficients (beta):\n",
      " [2.2 0.6]\n",
      "\n",
      "The linear regression equation is: y = 2.20 + 0.60x\n"
     ]
    }
   ],
   "source": [
    "import numpy as np\n",
    "\n",
    "x = np.array([1, 2, 3, 4, 5])\n",
    "y = np.array([2, 4, 5, 4, 5])\n",
    "\n",
    "X= np.vstack([np.ones(x.shape[0]), x]).T\n",
    "\n",
    "print(X)\n",
    "XTX = np.dot(X.T, X)\n",
    "print(\"X^T X matrix:\\n\", XTX)\n",
    "\n",
    "XTX_inv = np.linalg.inv(XTX)\n",
    "print(\"\\nInverse of X^T X matrix (X^T X)^-1:\\n\", XTX_inv)\n",
    "\n",
    "beta = np.dot(XTX_inv, np.dot(X.T, y))\n",
    "print(\"\\nEstimated coefficients (beta):\\n\", beta)\n",
    "\n",
    "print(f\"\\nThe linear regression equation is: y = {beta[0]:.2f} + {beta[1]:.2f}x\")"
   ]
  },
  {
   "cell_type": "code",
   "execution_count": null,
   "metadata": {},
   "outputs": [],
   "source": []
  }
 ],
 "metadata": {
  "kernelspec": {
   "display_name": "machine-learning-env",
   "language": "python",
   "name": "python3"
  },
  "language_info": {
   "codemirror_mode": {
    "name": "ipython",
    "version": 3
   },
   "file_extension": ".py",
   "mimetype": "text/x-python",
   "name": "python",
   "nbconvert_exporter": "python",
   "pygments_lexer": "ipython3",
   "version": "3.9.19"
  }
 },
 "nbformat": 4,
 "nbformat_minor": 2
}
