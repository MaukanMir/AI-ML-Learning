{
 "cells": [
  {
   "cell_type": "markdown",
   "metadata": {},
   "source": [
    "# Vector Applications"
   ]
  },
  {
   "cell_type": "markdown",
   "metadata": {},
   "source": [
    "## Correlation\n",
    "\n",
    "#### Correlation is one of the most fundamental and important analysis methods in statistics and machine learning. A correlation coefficient is a single number that quantifies the linear relationship between two variables. Correlation coefficients range from −1 to +1, with −1 indicating a perfect negative relationship, +1 a perfect positive relationships, and 0 indicating no linear relationship. "
   ]
  },
  {
   "cell_type": "markdown",
   "metadata": {},
   "source": [
    "## Mean center each variable\n",
    "#### Mean centering means to subtract the average value from each data value.\n",
    "\n",
    "## Divide the dot product by the product of the vector norms\n",
    "\n",
    "#### This divisive normalization cancels the measurement units and scales the maximum possible correlation magnitude to |1|."
   ]
  },
  {
   "cell_type": "markdown",
   "metadata": {},
   "source": [
    "## Cosine Similarity\n",
    "#### Correlation is not the only way to assess similarity between two variables. Another method is called cosine similarity. The formula for cosine similarity is simply the geometric formula for the dot product.\n",
    "\n",
    "- dot(X, y) / ||x|| ||y||\n",
    "\n"
   ]
  },
  {
   "cell_type": "markdown",
   "metadata": {},
   "source": [
    "## k-Means Clustering\n",
    "#### k-means clustering is an unsupervised method of classifying multivariate data into a relatively small number of groups, or categories, based on minimizing distance to the group center."
   ]
  },
  {
   "cell_type": "markdown",
   "metadata": {},
   "source": [
    "## Exercise 4-1.\n",
    "#### Write a Python function that takes two vectors as input and provides two numbers as output: the Pearson correlation coefficient and the cosine similarity value. Write code that follows the formulas presented in this chapter; don’t simply call np.corrcoef and spatial.distance.cosine. Check that the two output values are identical when the variables are already mean centered and different when the variables are not mean centered.\n",
    "\n"
   ]
  },
  {
   "cell_type": "code",
   "execution_count": 1,
   "metadata": {},
   "outputs": [
    {
     "name": "stdout",
     "output_type": "stream",
     "text": [
      "Pearson Correlation Coefficient: -1.0\n",
      "Cosine Similarity: 0.6363636363636364\n"
     ]
    }
   ],
   "source": [
    "import numpy as np\n",
    "\n",
    "def pearson_cosine(x,y):\n",
    "  \n",
    "  mean_x, mean_y = np.mean(x), np.mean(y)\n",
    "  \n",
    "  centered_x = x- mean_x\n",
    "  centered_y = y - mean_y\n",
    "  \n",
    "  numerator = np.sum(centered_x * centered_y)\n",
    "  denominator = np.sqrt(np.sum(centered_x**2) * np.sum(centered_y**2))\n",
    "  pearson_correlation = numerator / denominator\n",
    "  \n",
    "  dot_product = np.dot(x, y)\n",
    "  mag_x, mag_y = np.linalg.norm(x), np.linalg.norm(y)\n",
    "  \n",
    "  cosine_similarity = dot_product/ (mag_x * mag_y)\n",
    "  \n",
    "  return pearson_correlation, cosine_similarity\n",
    "\n",
    "x = np.array([1,2,3,4,5])\n",
    "y = np.array([5,4,3,2,1])\n",
    "\n",
    "pearson, cosine = pearson_cosine(x,y)\n",
    "\n",
    "print(f\"Pearson Correlation Coefficient: {pearson}\")\n",
    "print(f\"Cosine Similarity: {cosine}\")"
   ]
  }
 ],
 "metadata": {
  "kernelspec": {
   "display_name": "machine-learning-env",
   "language": "python",
   "name": "python3"
  },
  "language_info": {
   "codemirror_mode": {
    "name": "ipython",
    "version": 3
   },
   "file_extension": ".py",
   "mimetype": "text/x-python",
   "name": "python",
   "nbconvert_exporter": "python",
   "pygments_lexer": "ipython3",
   "version": "3.9.19"
  }
 },
 "nbformat": 4,
 "nbformat_minor": 2
}
