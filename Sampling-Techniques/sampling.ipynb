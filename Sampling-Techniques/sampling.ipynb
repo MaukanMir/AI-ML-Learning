{
 "cells": [
  {
   "cell_type": "markdown",
   "metadata": {},
   "source": [
    "# Sampling Methods"
   ]
  },
  {
   "cell_type": "markdown",
   "metadata": {},
   "source": [
    "## Over Sampling Methods"
   ]
  },
  {
   "cell_type": "markdown",
   "metadata": {},
   "source": [
    "## SMOTE (Synthetic Minority Over-sampling Technique)\n",
    "- Description: SMOTE generates synthetic samples from the minority class. This is done by randomly picking a point from the minority class and computing the k-nearest neighbors for this point. The synthetic points are added between the chosen point and its neighbors.\n",
    "- Pros: Helps by generating synthetic examples rather than by over-sampling with replacement.\n",
    "- Cons: SMOTE can generate noisy samples by interpolating new points between marginal outliers and inliers. This can lead to over-generalization."
   ]
  },
  {
   "cell_type": "markdown",
   "metadata": {},
   "source": [
    "## ADASYN (Adaptive Synthetic Sampling)\n",
    "- Description: Similar to SMOTE, ADASYN also generates synthetic samples, but the number of samples generated for each data point is weighted by how difficult it is to learn. More samples are generated for those minority class samples that are harder to learn.\n",
    "- Pros: Improves learning towards the more difficult and under-represented classes.\n",
    "- Cons: Like SMOTE, it can also generate noisy samples."
   ]
  },
  {
   "cell_type": "markdown",
   "metadata": {},
   "source": [
    "##  Borderline SMOTE\n",
    "- Description: A variation of SMOTE that focuses on the minority examples that are close to the boundary with the majority class. It does not oversample all the minority class instances but focuses on those difficult to classify instances near the boundary.\n",
    "- Pros: More effective at focusing the model on harder-to-classify instances.\n",
    "- Cons: Still risks generating noisy samples."
   ]
  },
  {
   "cell_type": "markdown",
   "metadata": {},
   "source": [
    "## K-Means SMOTE\n",
    "- Description: Combines K-means clustering and SMOTE to generate synthetic samples. This method first clusters the minority class into K clusters and then applies SMOTE within these clusters.\n",
    "- Pros: Reduces the risk of generating noisy samples by focusing on cluster centroids.\n",
    "- Cons: The effectiveness depends heavily on the number of clusters and their quality."
   ]
  },
  {
   "cell_type": "markdown",
   "metadata": {},
   "source": [
    "##"
   ]
  }
 ],
 "metadata": {
  "language_info": {
   "name": "python"
  }
 },
 "nbformat": 4,
 "nbformat_minor": 2
}
