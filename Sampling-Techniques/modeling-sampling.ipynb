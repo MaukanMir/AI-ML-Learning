{
 "cells": [
  {
   "cell_type": "markdown",
   "metadata": {},
   "source": [
    "# Sampling Modeling Plans"
   ]
  },
  {
   "cell_type": "markdown",
   "metadata": {},
   "source": [
    "## Framework for Imbalanced Classification Projects\n",
    "The shortest path to a good result on a new classification task is to systematically evaluate a suite of machine learning algorithms in order to discover what works well, then double down on what works well. This approach can also be used for imbalanced classification problems, tailored for the range of data sampling, cost-sensitive, and one-class classification algorithms that one may choose from.\n"
   ]
  },
  {
   "cell_type": "markdown",
   "metadata": {},
   "source": [
    "## Modeling\n",
    "\n",
    "### Is the positive class more important? \n",
    "-  Use Precision-Recall AUC\n",
    "\n",
    "### Are both classes important? \n",
    "- Use ROC AUC\n",
    "\n",
    "### Do you need probabilities?\n",
    "- Use Brier Score and Brier Skill Score\n",
    "\n",
    "### Are you predicting class labels? If so, consider the following:\n",
    "\n",
    "### Is the positive class more important?\n",
    "- If False Negatives and False Positives are equally important, use the F1-Measure.\n",
    "- If False Negatives are more important, use the F2-measure.\n",
    "- If False Positives are more important, use the F0.5-measure.\n",
    "\n",
    "### Are both classes important?\n",
    "- If you have less than 80%-90% of examples for the majority class, Accuracy is a suitable metric.\n",
    "- If you have more than 80%-90% of examples for the majority class, the G-mean is recommended.\n"
   ]
  },
  {
   "cell_type": "markdown",
   "metadata": {},
   "source": []
  }
 ],
 "metadata": {
  "language_info": {
   "name": "python"
  }
 },
 "nbformat": 4,
 "nbformat_minor": 2
}
