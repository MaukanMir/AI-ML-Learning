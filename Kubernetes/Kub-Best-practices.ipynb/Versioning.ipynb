{
 "cells": [
  {
   "cell_type": "markdown",
   "metadata": {},
   "source": [
    "# Versioning, Releases, and Rollouts"
   ]
  },
  {
   "cell_type": "markdown",
   "metadata": {},
   "source": [
    "#### Effective CI/CD and the ability to offer reduced- or zero-downtime deployments depend on using consistent practices for versioning and release management. The following best practices can help to define consistent parameters that can assist DevOps teams in delivering smooth software deployments:\n",
    "\n",
    "\n",
    "- Use semantic versioning for the application that differs from the version of the containers and the version of the pods Deployment that make up the entire application. This allows for independent life cycles of the containers that make up the application and the application as a whole. This can be quite confusing at first, but if a principled hierarchical approach is taken for when one changes the other, you can easily track it. In the previous example, the container itself is currently on v1.5.5; however, the pod specification is 1.5.8, which could mean that changes were made to the pod specification, such as new ConfigMaps, additional secrets, or updated replica values, but the specific container used has not changed its version. The application itself, the entire guestbook application, and all its services, is at 1.6.9, which could mean that operations made changes along the way that were beyond just this specific service, such as other services that make up the entire application.\n",
    "\n",
    "- Use a release and release version/number label in your deployment metadata to track releases from CI/CD pipelines. The release name and release number should coordinate with the actual release in the CI/CD tool records. This allows for both traceability through the CI/CD process into the cluster and easier rollback identification. In the previous example, the release number comes directly from the release ID of the CD pipeline that created the manifest.\n",
    "\n",
    "- If Helm is being used to package services for deployment into Kubernetes, take special care to bundle together those services that need to be rolled back or upgraded together into the same Helm chart. Helm allows for easy rollback of all components of the application to bring the state back to what it was before the upgrade. Because Helm actually processes the templates and all the Helm directives before passing a flattened YAML configuration, the use of life-cycle hooks allows for proper ordering of the application of specific templates. Operators can use proper Helm life-cycle hooks to ensure that upgrades and rollback will happen correctly. The previous example for the Job specification uses Helm life-cycle hooks to ensure that the template runs a backup of the database before a rollback, upgrade, or delete of the Helm release. It also ensures that the Job is deleted after the job is run successfully, which, until the TTL Controller comes out of alpha in Kubernetes, would require manual cleanup.\n",
    "\n",
    "- Agree on a release nomenclature that makes sense for the operational tempo of the organization. Simple stable, canary, and alpha states are quite adequate for most situations."
   ]
  },
  {
   "cell_type": "markdown",
   "metadata": {},
   "source": []
  }
 ],
 "metadata": {
  "language_info": {
   "name": "python"
  }
 },
 "nbformat": 4,
 "nbformat_minor": 2
}
