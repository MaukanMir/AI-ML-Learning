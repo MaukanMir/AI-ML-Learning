{
 "cells": [
  {
   "cell_type": "markdown",
   "metadata": {},
   "source": [
    "# Security"
   ]
  },
  {
   "cell_type": "markdown",
   "metadata": {},
   "source": [
    "- Lock down etcd access and store access credentials and certificates in secure locations.\n",
    "- Disable insecure and unauthenticated API endpoints.\n",
    "- Use authentication providers that provide temporary dynamic tokens rather than static configured tokens in Kubeconfig.\n",
    "- Ensure users and services follow least privilege.\n",
    "- Rotate infrastructure credentials regularly.\n",
    "- Encrypt sensitive data at rest and in transit using keys and certificates.\n",
    "- Scan container images for vulnerabilities and malware before deploying them to the cluster.\n",
    "- Enable audit logging and monitoring to detect and respond to suspicious activities.\n",
    "- Use security scanning tools such as Kubescape to baseline the security posture of your Kubernetes cluster and workloads."
   ]
  },
  {
   "cell_type": "markdown",
   "metadata": {},
   "source": [
    "#### OpenSSF Scorecard gives an automated set of tools that provide a 0–10 score on the security posture of an open source repository that you might be using or considering to use as a dependency. The aggregate score provides an at-a-glance view that can be used to evaluate how trustworthy an open source project is. Many prominent open source projects are adopting this scorecard."
   ]
  },
  {
   "cell_type": "markdown",
   "metadata": {},
   "source": [
    "- Review operator API permissions and make sure that they follow least privilege.\n",
    "- Configure the container build file to run application processes as a non-root user.\n",
    "- Use container base images like scratch and distroless.\n",
    "- Perform vulnerability scanning on your containers, and implement policy on whether to allow a container to be deployed based on these vulnerabilities.\n",
    "- Review OpenSSF scorecards on open source projects that you depend on.\n",
    "- Implement SLSA level 1 to provide baseline-level transparency and integrity for your software."
   ]
  },
  {
   "cell_type": "markdown",
   "metadata": {},
   "source": []
  }
 ],
 "metadata": {
  "language_info": {
   "name": "python"
  }
 },
 "nbformat": 4,
 "nbformat_minor": 2
}
