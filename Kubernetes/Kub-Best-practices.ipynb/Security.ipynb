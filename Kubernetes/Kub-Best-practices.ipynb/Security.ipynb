{
 "cells": [
  {
   "cell_type": "markdown",
   "metadata": {},
   "source": [
    "# Security"
   ]
  },
  {
   "cell_type": "markdown",
   "metadata": {},
   "source": [
    "- Lock down etcd access and store access credentials and certificates in secure locations.\n",
    "- Disable insecure and unauthenticated API endpoints.\n",
    "- Use authentication providers that provide temporary dynamic tokens rather than static configured tokens in Kubeconfig.\n",
    "- Ensure users and services follow least privilege.\n",
    "- Rotate infrastructure credentials regularly.\n",
    "- Encrypt sensitive data at rest and in transit using keys and certificates.\n",
    "- Scan container images for vulnerabilities and malware before deploying them to the cluster.\n",
    "- Enable audit logging and monitoring to detect and respond to suspicious activities.\n",
    "- Use security scanning tools such as Kubescape to baseline the security posture of your Kubernetes cluster and workloads."
   ]
  },
  {
   "cell_type": "code",
   "execution_count": null,
   "metadata": {},
   "outputs": [],
   "source": [
    "###"
   ]
  }
 ],
 "metadata": {
  "language_info": {
   "name": "python"
  }
 },
 "nbformat": 4,
 "nbformat_minor": 2
}
