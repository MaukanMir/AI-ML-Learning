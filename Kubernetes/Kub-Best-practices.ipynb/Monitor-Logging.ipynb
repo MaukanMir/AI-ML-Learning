{
 "cells": [
  {
   "cell_type": "markdown",
   "metadata": {},
   "source": [
    "# Monitoring and Logging in Kubernetes"
   ]
  },
  {
   "cell_type": "markdown",
   "metadata": {},
   "source": [
    "## Metrics Versus Logs\n",
    "\n",
    "#### You first need to understand the difference between log collection and metrics collection. They are complementary but serve different purposes:\n",
    "\n",
    "#### Metrics\n",
    "- A series of numbers measured over a period of time.\n",
    "\n",
    "#### Logs\n",
    "- Logs keep track of what happens while a program is running, including any errors, warnings, or notable events that occur.\n",
    "\n"
   ]
  },
  {
   "cell_type": "markdown",
   "metadata": {},
   "source": [
    "#### A example of where you would need to use both metrics and logging is when an application is performing poorly. Our first indication of the issue might be an alert of high latency on the pods hosting the application, but the metrics might not give a good indication of the issue. We then can look into our logs to investigate errors that are being emitted from the application."
   ]
  },
  {
   "cell_type": "markdown",
   "metadata": {},
   "source": []
  }
 ],
 "metadata": {
  "language_info": {
   "name": "python"
  }
 },
 "nbformat": 4,
 "nbformat_minor": 2
}
