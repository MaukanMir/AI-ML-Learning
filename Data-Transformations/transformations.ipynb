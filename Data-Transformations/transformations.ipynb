{
 "cells": [
  {
   "cell_type": "markdown",
   "metadata": {},
   "source": [
    "## Data Transformations"
   ]
  },
  {
   "cell_type": "markdown",
   "metadata": {},
   "source": [
    "## Standard Scaler\n",
    "\n",
    "### Defintion\n",
    "-  The Standard Scaler (or Z-score normalization) scales features to have a mean (average) of 0 and a standard deviation of 1. This scaling method follows the formula:\n",
    "-  \n",
    "- z = (x - mean) / STD\n",
    "\n",
    "### Purpose\n",
    "- It standardizes features by removing the mean and scaling to unit variance. This scaling technique is particularly useful for algorithms that assume data is normally distributed and operate based on distances, like k-means clustering and principal component analysis (PCA)."
   ]
  },
  {
   "cell_type": "markdown",
   "metadata": {},
   "source": [
    "## Min-Max-Scaler\n",
    "\n",
    "### Definition\n",
    "- The Min-Max Scaler scales features to a given range, typically 0 to 1, or -1 to 1. The transformation is given by the formula:\n",
    "\n",
    "X = (X- Min(x)) / (Max(x) - Min(x))\n",
    "\n",
    "### Purpose\n",
    "- This scaler is useful when you need to transform features so they fit within a specific scale while preserving relationships in the data. It’s particularly useful for algorithms that require data within bounded intervals, like gradient descent based algorithms, neural networks, and those that use weight inputs like k-nearest neighbors."
   ]
  }
 ],
 "metadata": {
  "language_info": {
   "name": "python"
  }
 },
 "nbformat": 4,
 "nbformat_minor": 2
}
