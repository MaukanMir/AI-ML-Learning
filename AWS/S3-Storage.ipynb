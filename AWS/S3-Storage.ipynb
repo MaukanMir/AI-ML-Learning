{
 "cells": [
  {
   "cell_type": "markdown",
   "metadata": {},
   "source": [
    "# S3 Storage"
   ]
  },
  {
   "cell_type": "markdown",
   "metadata": {},
   "source": [
    "## Amazon S3 Standard\n",
    "\n",
    "\n",
    "- For active, frequently accessed data\n",
    "- Milliseconds access\n",
    "- ≥  3 Availability Zones"
   ]
  },
  {
   "cell_type": "markdown",
   "metadata": {},
   "source": [
    "## Amazon S3 INT\n",
    "\n",
    "\n",
    "- For data with changing access patterns\n",
    "- Milliseconds access\n",
    "- ≥ 3 Availability Zones"
   ]
  },
  {
   "cell_type": "markdown",
   "metadata": {},
   "source": []
  }
 ],
 "metadata": {
  "language_info": {
   "name": "python"
  }
 },
 "nbformat": 4,
 "nbformat_minor": 2
}
