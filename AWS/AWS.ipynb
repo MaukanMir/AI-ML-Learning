{
 "cells": [
  {
   "cell_type": "markdown",
   "metadata": {},
   "source": [
    "## AWS Lake Formation\n",
    "### AWS Lake Formation is a comprehensive data management service offered by AWS, which streamlines the process of building and maintaining a data lake on the AWS platform. The following figure illustrates the core components of AWS Lake Formation:"
   ]
  },
  {
   "cell_type": "markdown",
   "metadata": {},
   "source": [
    "### Data source crawler: \n",
    "- This functionality automatically examines data files within the data lake to infer their underlying structure, enabling efficient organization and categorization of the data.\n",
    "### Data catalog creation and maintenance: \n",
    "- AWS Lake Formation facilitates the creation and ongoing management of a data catalog, providing a centralized repository for metadata, enabling easy data discovery and exploration within the data lake.\n",
    "### Data transformation processing: \n",
    "- With built-in data transformation capabilities, the service allows for the processing and transformation of data stored in the data lake, enabling data scientists and analysts to work with refined and optimized datasets.\n",
    "### Data security and access control: \n",
    "- AWS Lake Formation ensures robust data security by providing comprehensive access control mechanisms and enabling fine-grained permissions management, ensuring that data is accessed only by authorized individuals and teams."
   ]
  },
  {
   "cell_type": "markdown",
   "metadata": {},
   "source": [
    "## AWS Ingestion\n",
    "\n",
    "### AWS provides several services for data ingestion into a data lake on their platform. These services include Kinesis Data Streams, Kinesis Firehose, AWS Managed Streaming for Kafka, and AWS Glue Streaming, which cater to streaming data requirements. For batch ingestion, options such as AWS Glue, SFTP, and AWS Data Migration Service (DMS) are available. In the upcoming section, we will delve into the usage of Kinesis Firehose and AWS Glue to manage data ingestion processes for data lakes."
   ]
  },
  {
   "cell_type": "markdown",
   "metadata": {},
   "source": []
  }
 ],
 "metadata": {
  "language_info": {
   "name": "python"
  }
 },
 "nbformat": 4,
 "nbformat_minor": 2
}
