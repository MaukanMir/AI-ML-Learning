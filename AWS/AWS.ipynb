{
 "cells": [
  {
   "cell_type": "markdown",
   "metadata": {},
   "source": [
    "## AWS Lake Formation\n",
    "### AWS Lake Formation is a comprehensive data management service offered by AWS, which streamlines the process of building and maintaining a data lake on the AWS platform. The following figure illustrates the core components of AWS Lake Formation:"
   ]
  },
  {
   "cell_type": "markdown",
   "metadata": {},
   "source": []
  }
 ],
 "metadata": {
  "language_info": {
   "name": "python"
  }
 },
 "nbformat": 4,
 "nbformat_minor": 2
}
