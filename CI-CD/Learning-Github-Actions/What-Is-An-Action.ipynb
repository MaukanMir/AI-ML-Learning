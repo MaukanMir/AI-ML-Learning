{
 "cells": [
  {
   "cell_type": "markdown",
   "metadata": {},
   "source": [
    "# What’s in an action?\n",
    "\n",
    "#### we explored how GitHub Actions does its processing. The core functionality centers around workflows—the code that runs in response to an event and executes jobs to do some work. At the lowest level in your workflow, the workflow’s jobs execute steps. And steps can call either an OS command or an implementation of separate functionality that GitHub Actions simply refers to as an action.\n",
    "\n",
    "## Workflows versus actions\n",
    "#### Since the distinction between actions and workflows can be one of the points that remains confusing for a while, here’s a reminder to think of actions as being like plug-ins or modules in other applications and the workflows as being more like the pipelines or scripts that use those modules or plug-ins.\n",
    "\n",
    "## The Structure of an action\n",
    "\n",
    "#### The implementation of an action can range from very simple to very complex. On the simple side, it might be a small shell script that gets executed. On the complex end, it may be a large set of implementation code, test cases, and workflows to handle CI/CD tasks like validating content, building, checking for vulnerabilities, packaging, and so on.\n",
    "\n",
    "#### This action also has a supporting set of workflow files. Like any other workflows, these are stored in the .github/workflows subdirectory of the repository. In the case of the checkout action, the files help to validate content being updated in the repository. They are set up to respond to events such as pushes and pull requests. The set of workflows associated with this action is shown in Figure 3-4.\n",
    "\n",
    "#### So workflows use actions to do work in steps, and actions use workflows for CI/CD, automation, validation, etc. From this, you can start to see how the parts of GitHub Actions can work together at a broader level.\n",
    "\n",
    "## Interfacing with actions\n",
    "#### To be used as an action, a GitHub repository must contain an actions file. This is a file that contains metadata about the action itself. It can be named either action.yml or action.yaml. This file specifies the inputs, outputs, and any needed configuration for the action. As the name implies, it is written in YAML.\n",
    "\n",
    "#### The format of this file is broken down into four key areas: basic info (name, author, description), inputs, outputs, and runs. There is also a less used branding section that allows adding an icon to the action if desired.\n",
    "\n",
    "#### I’ll explore the key areas that make up the actions file in more detail in Chapter 11 on writing custom actions. But the inputs and outputs sections have typical properties that can be set, such as descriptions, defaults, and an indication of whether they are required or not. The runs section specifies what type of programming the action uses for its implementation\n",
    "\n",
    "#### The inputs section is important because it defines how workflows interface with this action. If a parameter is required, your workflow needs to use a with statement, when calling the action, to provide a value to pass in for that parameter. The same is true for providing a value different from the default.\n",
    "\n",
    "#### The takeaway from this is that the action.yml file is the key to understanding how to interact with any action you want or need to use in your workflows. It is the contract detailing what you need to provide to the action and what you can expect to get out of it.\n",
    "\n",
    "#### The uses clause that identifies a particular path to an action (and the version of the action) can use a little more explanation. That is provided in the next section.\n",
    "\n",
    "## Using actions\n",
    "#### In a workflow, any uses clause uses a standard format to reference the location in GitHub of the action’s repository, such as the following:"
   ]
  }
 ],
 "metadata": {
  "language_info": {
   "name": "python"
  }
 },
 "nbformat": 4,
 "nbformat_minor": 2
}
