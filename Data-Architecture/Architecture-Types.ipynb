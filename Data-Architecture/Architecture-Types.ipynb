{
 "cells": [
  {
   "cell_type": "markdown",
   "metadata": {},
   "source": [
    "# Architecture Types"
   ]
  },
  {
   "cell_type": "markdown",
   "metadata": {},
   "source": [
    "## Kappa Architecture\n",
    "\n",
    "### As opposed to the Lambda architecture, which is designed to handle both real-time and batch data, Kappa is designed to handle just real-time data. And like the Lambda architecture, Kappa architecture is also designed to handle high levels of concurrency and high volumes of data. Figure 7-4 provides a high-level overview of the Kappa architecture.\n",
    "\n",
    "### The three key principles of the Kappa architecture are:\n",
    "\n",
    "### Real-time processing\n",
    "- The Kappa architecture is designed for real-time processing, which means that events are processed as soon as they are received rather than being batch processed later. This decreases latency and enables the system to respond quickly to changing conditions.\n",
    "\n",
    "### Single event stream\n",
    "- The Kappa architecture uses a single event stream to store all data that flows through the system. This allows for easy scalability and fault tolerance, since the data can be distributed easily across multiple nodes.\n",
    "\n",
    "### Stateless processing\n",
    "- In the Kappa architecture, all processing is stateless. This means that each event is processed independently, without relying on the state of previous events. This makes it easier to scale the system, because there is no need to maintain state across multiple node"
   ]
  },
  {
   "cell_type": "markdown",
   "metadata": {},
   "source": [
    "## Lambda Architecture\n",
    "\n",
    "### Lambda architecture is a data-processing architecture designed to handle massive quantities of data by using both batch and real-time stream processing methods. The idea is to get comprehensive and accurate views of the batch data and to balance latency, throughput, scaling, and fault tolerance by using batch processing, while simultaneously using real-time stream processing to provide views of online data (such as IoT devices, Twitter feeds, or computer log files). You can join the two view outputs before the presentation/serving layer.\n",
    "\n",
    "### Lambda architecture bridges the gap between the historical “single source of truth” and the highly sought after “I want it now” real-time solution by combining traditional batch processing systems with stream consumption tools to meet both needs.\n",
    "\n",
    "### The Lambda architecture has three key principles:\n",
    "\n",
    "### Dual data model\n",
    "- The Lambda architecture uses one model for batch processing (batch layer) and another model for real-time processing (stream layer). This allows the system to handle both batch and real-time data and to perform both types of processing in scalable and fault-tolerant ways.\n",
    "\n",
    "### Single unified view\n",
    "- The Lambda architecture uses a single unified view (called the presentation layer) to present the results of both batch and real-time processing to end users. This allows the user to see a complete and up-to-date view of the data, even though it’s being processed by two different systems.\n",
    "\n",
    "### Decoupled processing layers\n",
    "- The Lambda architecture decouples the batch and real-time processing layers so that they can be scaled independently and developed and maintained separately, allowing for flexibility and ease of development."
   ]
  },
  {
   "cell_type": "markdown",
   "metadata": {},
   "source": [
    "## Polyglot Persistence and Polyglot Data Stores\n",
    "\n",
    "### Polyglot persistence is a fancy term that means using multiple data storage technologies to store different types of data within a single application or system, based upon how the data will be used. Different kinds of data are best kept in different data stores. In short, polyglot persistence means picking the right tool for the right use case. It’s the same idea as the one behind polyglot programming, in which applications are written in a mix of languages to take advantage of different languages’ strengths in tackling different problems."
   ]
  },
  {
   "cell_type": "markdown",
   "metadata": {},
   "source": [
    "### First, you learned about the two primary types of data processing systems: online transaction processing (OLTP) and online analytical processing (OLAP). OLTP systems are designed for fast, reliable, short transactions, typically in the operational databases that power daily business operations. In contrast, OLAP systems support complex analytical queries, aggregations, and computations used for strategic decision making, typically in a data warehouse. You then learned about the differences between operational and analytical data."
   ]
  },
  {
   "cell_type": "markdown",
   "metadata": {},
   "source": []
  }
 ],
 "metadata": {
  "language_info": {
   "name": "python"
  }
 },
 "nbformat": 4,
 "nbformat_minor": 2
}
