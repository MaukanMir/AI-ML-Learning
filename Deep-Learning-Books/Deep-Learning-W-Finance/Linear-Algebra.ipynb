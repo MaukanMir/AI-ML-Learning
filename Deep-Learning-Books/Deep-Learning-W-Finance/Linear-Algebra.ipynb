{
 "cells": [
  {
   "cell_type": "markdown",
   "metadata": {},
   "source": [
    "# Linear Algebra and Calculus for Deep Learning"
   ]
  },
  {
   "cell_type": "markdown",
   "metadata": {},
   "source": [
    "## Data relationship matrices\n",
    "\n",
    "#### Covariance and correlation measures are often represented as matrices. These relationship calculations are important concepts in time series analysis."
   ]
  },
  {
   "cell_type": "markdown",
   "metadata": {},
   "source": [
    "- A linear equation is a representation in which the highest exponent on any variable is one. This means that there are no variables that are raised to the power of two and above. \n",
    "- A linear equation line is straight when plotted on a chart.\n",
    "\n",
    "#### Trigonometric functions are mathematical functions used to relate the angles of a right triangle to the ratios of its sides. They have various applications in fields like geometry, physics, engineering, and more. They help analyze and solve problems related to angles, distances, oscillations, and waveforms, among other things.\n",
    "\n",
    "#### Euler’s number e is irrational and is the base of the natural logarithm. It has many applications in exponential growth and in hyperbolic functions. \n",
    "\n",
    "## Optimization\n",
    "- In optimization methods like gradient descent, limits can be used to regulate the step size and guarantee convergence to a local minimum.\n",
    "\n",
    "## Feature selection\n",
    "- Limits can be used to rank the significance of various model features and perform feature selection, which can make the model simpler and perform better.\n",
    "\n",
    "## Sensitivity analysis\n",
    "- A machine learning model’s sensitivity to changes in input data and its capacity to generalize to new data can be used to examine a model’s behavior.\n",
    "\n",
    "## Limits\n",
    "- The main aim of limits is to know the value of a function when it’s undefined. But what is an undefined function? When you have a function that gives a solution that is not possible (such as dividing by zero), limits help you bypass this issue in order to know the value of the function at that point. So the aim of limits is to solve functions even when they are undefined.\n",
    "- The general form of the limit is read as follows: as you approach a along the x-axis (whether from the positive or the negative side), the function f(x) gets closer to the value of L.\n",
    "- The idea of the limit states that as you lock in and approach a number from either side (negative or positive), the solution of the equation approaches a certain number, and the solution to the limit is that number."
   ]
  },
  {
   "cell_type": "markdown",
   "metadata": {},
   "source": [
    "#### MAE is relatively less sensitive to outliers than MSE, and it is often used when the data contains extreme values or when the absolute magnitude of the error is more important than its squared value. On the other hand, as MSE gives more weight to larger errors, it is the go-to loss function when trying to improve the performance of the model."
   ]
  }
 ],
 "metadata": {
  "kernelspec": {
   "display_name": "machine-learning-env",
   "language": "python",
   "name": "python3"
  },
  "language_info": {
   "name": "python",
   "version": "3.9.19"
  }
 },
 "nbformat": 4,
 "nbformat_minor": 2
}
