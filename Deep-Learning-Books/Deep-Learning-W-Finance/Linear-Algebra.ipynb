{
 "cells": [
  {
   "cell_type": "markdown",
   "metadata": {},
   "source": [
    "# Linear Algebra and Calculus for Deep Learning"
   ]
  },
  {
   "cell_type": "markdown",
   "metadata": {},
   "source": [
    "## Data relationship matrices\n",
    "\n",
    "#### Covariance and correlation measures are often represented as matrices. These relationship calculations are important concepts in time series analysis."
   ]
  },
  {
   "cell_type": "markdown",
   "metadata": {},
   "source": [
    "- A linear equation is a representation in which the highest exponent on any variable is one. This means that there are no variables that are raised to the power of two and above. \n",
    "- A linear equation line is straight when plotted on a chart."
   ]
  }
 ],
 "metadata": {
  "kernelspec": {
   "display_name": "machine-learning-env",
   "language": "python",
   "name": "python3"
  },
  "language_info": {
   "name": "python",
   "version": "3.9.19"
  }
 },
 "nbformat": 4,
 "nbformat_minor": 2
}
