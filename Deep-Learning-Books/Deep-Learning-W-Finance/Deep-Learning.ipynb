{
 "cells": [
  {
   "cell_type": "markdown",
   "metadata": {},
   "source": [
    "# Deep Learning With Time Series"
   ]
  },
  {
   "cell_type": "markdown",
   "metadata": {},
   "source": [
    "## Fractional differentiation \n",
    "\n",
    "#### is a mathematical technique used to transform a time series into a stationary series while preserving some of its memory. It extends the concept of differencing (or taking the returns), which is commonly used to remove trends and make time series stationary.\n",
    "\n",
    "#### In traditional differencing, the data sequence is differenced by a whole number, typically 1, which involves subtracting the previous value from the current value. This helps eliminate trends and makes the series stationary. However, in some cases, the series may exhibit long-term dependencies or memory effects that are not effectively captured by traditional differencing. These dependencies may help in forecasting the time series, and if they are completely eliminated, that may hinder the ability of the algorithm to perform well. These dependencies are referred to as memory.\n",
    "\n",
    "#### Fractional differentiation addresses this limitation by allowing the differencing parameter to be a fractional value. The fractional differencing operator effectively applies a weighted sum of lagged values to each observation in the series, with the weights determined by the fractional differencing parameter. This allows for capturing long-term dependencies or memory effects in the series. Fractional differentiation is particularly useful in financial time series analysis, where data often exhibits long memory or persistent behavior. \n",
    "\n",
    "## Forecasting Threshold\n",
    "\n",
    "#### The forecasting threshold is the minimum required percentage prediction to validate a signal. This means that the forecasting threshold technique is a filter that removes low conviction predictions.\n",
    "\n",
    "## The volatility-based technique\n",
    "\n",
    "#### With this technique, you use a volatility indicator such as a rolling standard deviation of prices to set a variable threshold at each time step. This technique has the benefit of using up-to-date volatility information.\n",
    "\n",
    "## The statistical technique\n",
    "\n",
    "#### With this technique, you look at the real values from the training set (not the test set) and select a certain quantile (e.g., the 75% quantile) as a minimum threshold to validate the signals.\n",
    "\n",
    "#### In rolling window cross validation, a fixed-size training window is moved iteratively over the time series data. At each step, the model is trained on the observations within the window and evaluated on the subsequent window. This process is repeated until the end of the data is reached. The window size can be defined based on a specific time duration or a fixed number of observations.\n",
    "\n",
    "#### In expanding window cross validation, the training set starts with a small initial window and expands over time, incorporating additional data points at each step. The model is trained on the available data up to a specific point and evaluated on the subsequent time period. Similar to the rolling window approach, this process is repeated until the end of the data is reached."
   ]
  },
  {
   "cell_type": "markdown",
   "metadata": {},
   "source": [
    "## Multiperiod Forecasting\n",
    "\n",
    "#### Multiperiod forecasting (MPF) is a technique that aims to forecast more than just the next period. It aims to generate a path with n periods as defined by the user. There are two ways to approach MPF:\n",
    "\n",
    "## Recursive model\n",
    "- The recursive model uses the prediction as an input for the next prediction. As you may have already guessed, the recursive model may quickly get off track due to the exponentially rising error term from predicting while using predictions as inputs.\n",
    "\n",
    "## Direct model\n",
    "- The direct model trains the model from the beginning into outputting multiple forecasts in their respective time periods. This model is likely to be more robust than the recursive model."
   ]
  }
 ],
 "metadata": {
  "language_info": {
   "name": "python"
  }
 },
 "nbformat": 4,
 "nbformat_minor": 2
}
